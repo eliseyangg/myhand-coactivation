{
 "cells": [
  {
   "cell_type": "code",
   "execution_count": 232,
   "metadata": {},
   "outputs": [],
   "source": [
    "from coactivation.process import preprocess_emgs, get_coactivation_map, get_coactivation_difference, get_all_healthy_map, get_coactivation_bool_map, get_alignment_map, array_to_cm,generate_coactivation_csv, mirror_left_right,emgs\n",
    "from coactivation.visualize import visualize_emgs, plot_coactivation_corr, plot_coactivation_map, plot_bool_map, plot_alignment_map\n",
    "\n",
    "import pandas as pd\n",
    "import numpy as np\n",
    "\n",
    "from sklearn.neighbors import NearestNeighbors\n",
    "\n",
    "from sklearn.cluster import KMeans, DBSCAN\n",
    "from sklearn.metrics import silhouette_score\n",
    "\n",
    "from sklearn.manifold import TSNE\n",
    "import matplotlib.pyplot as plt\n",
    "import plotly.express as px\n",
    "import plotly.graph_objects as go\n",
    "\n",
    "from matplotlib.colors import LinearSegmentedColormap"
   ]
  },
  {
   "cell_type": "code",
   "execution_count": 233,
   "metadata": {},
   "outputs": [],
   "source": [
    "# generate_coactivation_csv()"
   ]
  },
  {
   "cell_type": "markdown",
   "metadata": {},
   "source": [
    "# Preprocessing"
   ]
  },
  {
   "cell_type": "code",
   "execution_count": 234,
   "metadata": {},
   "outputs": [],
   "source": [
    "df_raw = pd.read_csv('coactivations.csv', index_col=0)"
   ]
  },
  {
   "cell_type": "code",
   "execution_count": 235,
   "metadata": {},
   "outputs": [],
   "source": [
    "df = df_raw[(df_raw.subject_id!='Augmen')]"
   ]
  },
  {
   "cell_type": "code",
   "execution_count": 236,
   "metadata": {},
   "outputs": [
    {
     "data": {
      "text/html": [
       "<div>\n",
       "<style scoped>\n",
       "    .dataframe tbody tr th:only-of-type {\n",
       "        vertical-align: middle;\n",
       "    }\n",
       "\n",
       "    .dataframe tbody tr th {\n",
       "        vertical-align: top;\n",
       "    }\n",
       "\n",
       "    .dataframe thead th {\n",
       "        text-align: right;\n",
       "    }\n",
       "</style>\n",
       "<table border=\"1\" class=\"dataframe\">\n",
       "  <thead>\n",
       "    <tr style=\"text-align: right;\">\n",
       "      <th></th>\n",
       "      <th>gt0emg0</th>\n",
       "      <th>gt0emg1</th>\n",
       "      <th>gt0emg2</th>\n",
       "      <th>gt0emg3</th>\n",
       "      <th>gt0emg4</th>\n",
       "      <th>gt0emg5</th>\n",
       "      <th>gt0emg6</th>\n",
       "      <th>gt0emg7</th>\n",
       "      <th>gt1emg0</th>\n",
       "      <th>gt1emg1</th>\n",
       "      <th>...</th>\n",
       "      <th>gt2emg2</th>\n",
       "      <th>gt2emg3</th>\n",
       "      <th>gt2emg4</th>\n",
       "      <th>gt2emg5</th>\n",
       "      <th>gt2emg6</th>\n",
       "      <th>gt2emg7</th>\n",
       "      <th>hand</th>\n",
       "      <th>is_patient</th>\n",
       "      <th>subject_id</th>\n",
       "      <th>n</th>\n",
       "    </tr>\n",
       "  </thead>\n",
       "  <tbody>\n",
       "    <tr>\n",
       "      <th>0</th>\n",
       "      <td>0.018537</td>\n",
       "      <td>0.020488</td>\n",
       "      <td>0.020488</td>\n",
       "      <td>0.020488</td>\n",
       "      <td>0.021463</td>\n",
       "      <td>0.019512</td>\n",
       "      <td>0.018537</td>\n",
       "      <td>0.018537</td>\n",
       "      <td>0.026341</td>\n",
       "      <td>0.031220</td>\n",
       "      <td>...</td>\n",
       "      <td>0.074146</td>\n",
       "      <td>0.212683</td>\n",
       "      <td>0.175610</td>\n",
       "      <td>0.204878</td>\n",
       "      <td>0.191220</td>\n",
       "      <td>0.067317</td>\n",
       "      <td>left</td>\n",
       "      <td>False</td>\n",
       "      <td>fa</td>\n",
       "      <td>11</td>\n",
       "    </tr>\n",
       "    <tr>\n",
       "      <th>0</th>\n",
       "      <td>0.017479</td>\n",
       "      <td>0.019319</td>\n",
       "      <td>0.019319</td>\n",
       "      <td>0.018399</td>\n",
       "      <td>0.019319</td>\n",
       "      <td>0.017479</td>\n",
       "      <td>0.016559</td>\n",
       "      <td>0.017479</td>\n",
       "      <td>0.023919</td>\n",
       "      <td>0.027599</td>\n",
       "      <td>...</td>\n",
       "      <td>0.060718</td>\n",
       "      <td>0.148114</td>\n",
       "      <td>0.121435</td>\n",
       "      <td>0.101196</td>\n",
       "      <td>0.178473</td>\n",
       "      <td>0.087397</td>\n",
       "      <td>left</td>\n",
       "      <td>False</td>\n",
       "      <td>fa</td>\n",
       "      <td>11</td>\n",
       "    </tr>\n",
       "    <tr>\n",
       "      <th>0</th>\n",
       "      <td>0.015773</td>\n",
       "      <td>0.018139</td>\n",
       "      <td>0.021293</td>\n",
       "      <td>0.030757</td>\n",
       "      <td>0.033912</td>\n",
       "      <td>0.026025</td>\n",
       "      <td>0.017350</td>\n",
       "      <td>0.015773</td>\n",
       "      <td>0.018927</td>\n",
       "      <td>0.022871</td>\n",
       "      <td>...</td>\n",
       "      <td>0.067823</td>\n",
       "      <td>0.170347</td>\n",
       "      <td>0.143533</td>\n",
       "      <td>0.124606</td>\n",
       "      <td>0.143533</td>\n",
       "      <td>0.064274</td>\n",
       "      <td>left</td>\n",
       "      <td>False</td>\n",
       "      <td>fa</td>\n",
       "      <td>13</td>\n",
       "    </tr>\n",
       "    <tr>\n",
       "      <th>0</th>\n",
       "      <td>0.019231</td>\n",
       "      <td>0.023601</td>\n",
       "      <td>0.027972</td>\n",
       "      <td>0.044580</td>\n",
       "      <td>0.059441</td>\n",
       "      <td>0.043706</td>\n",
       "      <td>0.024476</td>\n",
       "      <td>0.019231</td>\n",
       "      <td>0.023601</td>\n",
       "      <td>0.027972</td>\n",
       "      <td>...</td>\n",
       "      <td>0.081294</td>\n",
       "      <td>0.198427</td>\n",
       "      <td>0.156031</td>\n",
       "      <td>0.128497</td>\n",
       "      <td>0.165210</td>\n",
       "      <td>0.086538</td>\n",
       "      <td>left</td>\n",
       "      <td>False</td>\n",
       "      <td>fa</td>\n",
       "      <td>13</td>\n",
       "    </tr>\n",
       "    <tr>\n",
       "      <th>0</th>\n",
       "      <td>0.041379</td>\n",
       "      <td>0.115271</td>\n",
       "      <td>0.056158</td>\n",
       "      <td>0.025616</td>\n",
       "      <td>0.026601</td>\n",
       "      <td>0.026601</td>\n",
       "      <td>0.028571</td>\n",
       "      <td>0.026601</td>\n",
       "      <td>0.073892</td>\n",
       "      <td>0.253202</td>\n",
       "      <td>...</td>\n",
       "      <td>0.141872</td>\n",
       "      <td>0.138916</td>\n",
       "      <td>0.051232</td>\n",
       "      <td>0.032512</td>\n",
       "      <td>0.040394</td>\n",
       "      <td>0.107389</td>\n",
       "      <td>right</td>\n",
       "      <td>False</td>\n",
       "      <td>xw</td>\n",
       "      <td>11</td>\n",
       "    </tr>\n",
       "    <tr>\n",
       "      <th>...</th>\n",
       "      <td>...</td>\n",
       "      <td>...</td>\n",
       "      <td>...</td>\n",
       "      <td>...</td>\n",
       "      <td>...</td>\n",
       "      <td>...</td>\n",
       "      <td>...</td>\n",
       "      <td>...</td>\n",
       "      <td>...</td>\n",
       "      <td>...</td>\n",
       "      <td>...</td>\n",
       "      <td>...</td>\n",
       "      <td>...</td>\n",
       "      <td>...</td>\n",
       "      <td>...</td>\n",
       "      <td>...</td>\n",
       "      <td>...</td>\n",
       "      <td>...</td>\n",
       "      <td>...</td>\n",
       "      <td>...</td>\n",
       "      <td>...</td>\n",
       "    </tr>\n",
       "    <tr>\n",
       "      <th>0</th>\n",
       "      <td>0.031191</td>\n",
       "      <td>0.056711</td>\n",
       "      <td>0.061437</td>\n",
       "      <td>0.026465</td>\n",
       "      <td>0.032136</td>\n",
       "      <td>0.029301</td>\n",
       "      <td>0.023629</td>\n",
       "      <td>0.022684</td>\n",
       "      <td>0.055766</td>\n",
       "      <td>0.059546</td>\n",
       "      <td>...</td>\n",
       "      <td>0.149338</td>\n",
       "      <td>0.224953</td>\n",
       "      <td>0.067108</td>\n",
       "      <td>0.040643</td>\n",
       "      <td>0.034972</td>\n",
       "      <td>0.058601</td>\n",
       "      <td>right</td>\n",
       "      <td>False</td>\n",
       "      <td>yc</td>\n",
       "      <td>13</td>\n",
       "    </tr>\n",
       "    <tr>\n",
       "      <th>0</th>\n",
       "      <td>0.020871</td>\n",
       "      <td>0.023593</td>\n",
       "      <td>0.019964</td>\n",
       "      <td>0.019056</td>\n",
       "      <td>0.018149</td>\n",
       "      <td>0.016334</td>\n",
       "      <td>0.016334</td>\n",
       "      <td>0.016334</td>\n",
       "      <td>0.093466</td>\n",
       "      <td>0.237750</td>\n",
       "      <td>...</td>\n",
       "      <td>0.099819</td>\n",
       "      <td>0.294011</td>\n",
       "      <td>0.058984</td>\n",
       "      <td>0.031760</td>\n",
       "      <td>0.203267</td>\n",
       "      <td>0.087114</td>\n",
       "      <td>right</td>\n",
       "      <td>False</td>\n",
       "      <td>is</td>\n",
       "      <td>11</td>\n",
       "    </tr>\n",
       "    <tr>\n",
       "      <th>0</th>\n",
       "      <td>0.022989</td>\n",
       "      <td>0.022031</td>\n",
       "      <td>0.022989</td>\n",
       "      <td>0.057471</td>\n",
       "      <td>0.021073</td>\n",
       "      <td>0.018199</td>\n",
       "      <td>0.017241</td>\n",
       "      <td>0.018199</td>\n",
       "      <td>0.091954</td>\n",
       "      <td>0.235632</td>\n",
       "      <td>...</td>\n",
       "      <td>0.074713</td>\n",
       "      <td>0.269157</td>\n",
       "      <td>0.052682</td>\n",
       "      <td>0.031609</td>\n",
       "      <td>0.290230</td>\n",
       "      <td>0.178161</td>\n",
       "      <td>right</td>\n",
       "      <td>False</td>\n",
       "      <td>is</td>\n",
       "      <td>11</td>\n",
       "    </tr>\n",
       "    <tr>\n",
       "      <th>0</th>\n",
       "      <td>0.018700</td>\n",
       "      <td>0.020481</td>\n",
       "      <td>0.028495</td>\n",
       "      <td>0.142476</td>\n",
       "      <td>0.042743</td>\n",
       "      <td>0.031167</td>\n",
       "      <td>0.026714</td>\n",
       "      <td>0.017809</td>\n",
       "      <td>0.033838</td>\n",
       "      <td>0.139804</td>\n",
       "      <td>...</td>\n",
       "      <td>0.089047</td>\n",
       "      <td>0.238646</td>\n",
       "      <td>0.076581</td>\n",
       "      <td>0.041852</td>\n",
       "      <td>0.118433</td>\n",
       "      <td>0.289403</td>\n",
       "      <td>right</td>\n",
       "      <td>False</td>\n",
       "      <td>is</td>\n",
       "      <td>13</td>\n",
       "    </tr>\n",
       "    <tr>\n",
       "      <th>0</th>\n",
       "      <td>0.017762</td>\n",
       "      <td>0.019538</td>\n",
       "      <td>0.025755</td>\n",
       "      <td>0.148313</td>\n",
       "      <td>0.039964</td>\n",
       "      <td>0.023979</td>\n",
       "      <td>0.022202</td>\n",
       "      <td>0.016874</td>\n",
       "      <td>0.039964</td>\n",
       "      <td>0.104796</td>\n",
       "      <td>...</td>\n",
       "      <td>0.047069</td>\n",
       "      <td>0.245115</td>\n",
       "      <td>0.069272</td>\n",
       "      <td>0.037300</td>\n",
       "      <td>0.214920</td>\n",
       "      <td>0.484014</td>\n",
       "      <td>right</td>\n",
       "      <td>False</td>\n",
       "      <td>is</td>\n",
       "      <td>13</td>\n",
       "    </tr>\n",
       "  </tbody>\n",
       "</table>\n",
       "<p>121 rows × 28 columns</p>\n",
       "</div>"
      ],
      "text/plain": [
       "     gt0emg0   gt0emg1   gt0emg2   gt0emg3   gt0emg4   gt0emg5   gt0emg6  \\\n",
       "0   0.018537  0.020488  0.020488  0.020488  0.021463  0.019512  0.018537   \n",
       "0   0.017479  0.019319  0.019319  0.018399  0.019319  0.017479  0.016559   \n",
       "0   0.015773  0.018139  0.021293  0.030757  0.033912  0.026025  0.017350   \n",
       "0   0.019231  0.023601  0.027972  0.044580  0.059441  0.043706  0.024476   \n",
       "0   0.041379  0.115271  0.056158  0.025616  0.026601  0.026601  0.028571   \n",
       "..       ...       ...       ...       ...       ...       ...       ...   \n",
       "0   0.031191  0.056711  0.061437  0.026465  0.032136  0.029301  0.023629   \n",
       "0   0.020871  0.023593  0.019964  0.019056  0.018149  0.016334  0.016334   \n",
       "0   0.022989  0.022031  0.022989  0.057471  0.021073  0.018199  0.017241   \n",
       "0   0.018700  0.020481  0.028495  0.142476  0.042743  0.031167  0.026714   \n",
       "0   0.017762  0.019538  0.025755  0.148313  0.039964  0.023979  0.022202   \n",
       "\n",
       "     gt0emg7   gt1emg0   gt1emg1  ...   gt2emg2   gt2emg3   gt2emg4   gt2emg5  \\\n",
       "0   0.018537  0.026341  0.031220  ...  0.074146  0.212683  0.175610  0.204878   \n",
       "0   0.017479  0.023919  0.027599  ...  0.060718  0.148114  0.121435  0.101196   \n",
       "0   0.015773  0.018927  0.022871  ...  0.067823  0.170347  0.143533  0.124606   \n",
       "0   0.019231  0.023601  0.027972  ...  0.081294  0.198427  0.156031  0.128497   \n",
       "0   0.026601  0.073892  0.253202  ...  0.141872  0.138916  0.051232  0.032512   \n",
       "..       ...       ...       ...  ...       ...       ...       ...       ...   \n",
       "0   0.022684  0.055766  0.059546  ...  0.149338  0.224953  0.067108  0.040643   \n",
       "0   0.016334  0.093466  0.237750  ...  0.099819  0.294011  0.058984  0.031760   \n",
       "0   0.018199  0.091954  0.235632  ...  0.074713  0.269157  0.052682  0.031609   \n",
       "0   0.017809  0.033838  0.139804  ...  0.089047  0.238646  0.076581  0.041852   \n",
       "0   0.016874  0.039964  0.104796  ...  0.047069  0.245115  0.069272  0.037300   \n",
       "\n",
       "     gt2emg6   gt2emg7   hand  is_patient  subject_id   n  \n",
       "0   0.191220  0.067317   left       False          fa  11  \n",
       "0   0.178473  0.087397   left       False          fa  11  \n",
       "0   0.143533  0.064274   left       False          fa  13  \n",
       "0   0.165210  0.086538   left       False          fa  13  \n",
       "0   0.040394  0.107389  right       False          xw  11  \n",
       "..       ...       ...    ...         ...         ...  ..  \n",
       "0   0.034972  0.058601  right       False          yc  13  \n",
       "0   0.203267  0.087114  right       False          is  11  \n",
       "0   0.290230  0.178161  right       False          is  11  \n",
       "0   0.118433  0.289403  right       False          is  13  \n",
       "0   0.214920  0.484014  right       False          is  13  \n",
       "\n",
       "[121 rows x 28 columns]"
      ]
     },
     "execution_count": 236,
     "metadata": {},
     "output_type": "execute_result"
    }
   ],
   "source": [
    "df"
   ]
  },
  {
   "cell_type": "markdown",
   "metadata": {},
   "source": [
    "## flip left and ae"
   ]
  },
  {
   "cell_type": "code",
   "execution_count": 237,
   "metadata": {},
   "outputs": [],
   "source": [
    "df = mirror_left_right(df)\n",
    "df = mirror_left_right(df, 'subject_id', 'ae')"
   ]
  },
  {
   "cell_type": "code",
   "execution_count": 238,
   "metadata": {},
   "outputs": [
    {
     "data": {
      "image/png": "[encoded data removed]",
      "text/plain": [
       "<Figure size 1000x300 with 2 Axes>"
      ]
     },
     "metadata": {},
     "output_type": "display_data"
    }
   ],
   "source": [
    "plot_coactivation_map(array_to_cm(df.iloc[:,:24][df.is_patient==False].apply('mean').values), title='Average Healthy Data with LH mirrored')"
   ]
  },
  {
   "cell_type": "code",
   "execution_count": 239,
   "metadata": {},
   "outputs": [
    {
     "data": {
      "text/plain": [
       "(49, 0.704225352112676)"
      ]
     },
     "execution_count": 239,
     "metadata": {},
     "output_type": "execute_result"
    }
   ],
   "source": [
    "all_data = df.iloc[:,:24].to_numpy().reshape(1, 121*24)[0]\n",
    "sum(all_data > 0.5), np.max(df.iloc[:,:24])"
   ]
  },
  {
   "cell_type": "code",
   "execution_count": 240,
   "metadata": {},
   "outputs": [
    {
     "data": {
      "image/png": "[encoded data removed]",
      "text/plain": [
       "<Figure size 1000x300 with 2 Axes>"
      ]
     },
     "metadata": {},
     "output_type": "display_data"
    }
   ],
   "source": [
    "plot_coactivation_map(array_to_cm(df[(df.is_patient==False) & (df.hand=='right')].iloc[3,:24].values).astype(float), title='Healthy Subject xw (RH)')"
   ]
  },
  {
   "cell_type": "code",
   "execution_count": 241,
   "metadata": {},
   "outputs": [
    {
     "data": {
      "image/png": "[encoded data removed]",
      "text/plain": [
       "<Figure size 1000x300 with 2 Axes>"
      ]
     },
     "metadata": {},
     "output_type": "display_data"
    }
   ],
   "source": [
    "plot_coactivation_map(array_to_cm(df[(df.is_patient==True) & (df.hand=='left')].iloc[3,:24].values).astype(float), title='Stroke Patient p3 (LH mirrored)')\n"
   ]
  },
  {
   "cell_type": "code",
   "execution_count": 242,
   "metadata": {},
   "outputs": [
    {
     "data": {
      "image/png": "[encoded data removed]",
      "text/plain": [
       "<Figure size 1000x300 with 2 Axes>"
      ]
     },
     "metadata": {},
     "output_type": "display_data"
    }
   ],
   "source": [
    "plot_coactivation_map(array_to_cm(df[(df.is_patient==True) & (df.hand=='right')].iloc[3,:24].values).astype(float), title='Stroke Patient p4 (RH)')\n"
   ]
  },
  {
   "cell_type": "code",
   "execution_count": 243,
   "metadata": {},
   "outputs": [
    {
     "data": {
      "image/png": "[encoded data removed]",
      "text/plain": [
       "<Figure size 1000x300 with 2 Axes>"
      ]
     },
     "metadata": {},
     "output_type": "display_data"
    }
   ],
   "source": [
    "plot_coactivation_map(array_to_cm(df[(df.is_patient==True) & (df.hand=='right')].iloc[19,:24].values).astype(float), title='Stroke Patient p8 (RH)')\n"
   ]
  },
  {
   "cell_type": "code",
   "execution_count": 244,
   "metadata": {},
   "outputs": [
    {
     "data": {
      "image/png": "[encoded data removed]",
      "text/plain": [
       "<Figure size 1200x800 with 2 Axes>"
      ]
     },
     "metadata": {},
     "output_type": "display_data"
    }
   ],
   "source": [
    "visualize_emgs('collected_data/2023_10_23_xw/xw_131.csv')"
   ]
  },
  {
   "cell_type": "code",
   "execution_count": null,
   "metadata": {},
   "outputs": [],
   "source": []
  },
  {
   "cell_type": "markdown",
   "metadata": {},
   "source": [
    "# optimal k"
   ]
  },
  {
   "cell_type": "markdown",
   "metadata": {},
   "source": [
    "## Relax"
   ]
  },
  {
   "cell_type": "code",
   "execution_count": 245,
   "metadata": {},
   "outputs": [],
   "source": [
    "n_clusters = 4"
   ]
  },
  {
   "cell_type": "code",
   "execution_count": 246,
   "metadata": {},
   "outputs": [],
   "source": [
    "X = df.iloc[:,:8].values"
   ]
  },
  {
   "cell_type": "code",
   "execution_count": 247,
   "metadata": {},
   "outputs": [
    {
     "data": {
      "image/png": "[encoded data removed]",
      "text/plain": [
       "<Figure size 800x500 with 1 Axes>"
      ]
     },
     "metadata": {},
     "output_type": "display_data"
    }
   ],
   "source": [
    "# elbow method\n",
    "wcss = []\n",
    "for k in range(1, 11):\n",
    "    kmeans = KMeans(n_clusters=k, random_state=42)\n",
    "    kmeans.fit(X)\n",
    "    wcss.append(kmeans.inertia_)\n",
    "\n",
    "plt.figure(figsize=(8, 5))\n",
    "plt.plot(range(1, 11), wcss, marker='o')\n",
    "plt.title('elbow')\n",
    "plt.xlabel('k')\n",
    "plt.ylabel('wcss')\n",
    "plt.show()"
   ]
  },
  {
   "cell_type": "code",
   "execution_count": 248,
   "metadata": {},
   "outputs": [
    {
     "data": {
      "image/png": "[encoded data removed]",
      "text/plain": [
       "<Figure size 1000x600 with 1 Axes>"
      ]
     },
     "metadata": {},
     "output_type": "display_data"
    }
   ],
   "source": [
    "silhouette_scores = []\n",
    "for k in range(2, 11):  # Silhouette score is not defined for k=1\n",
    "    kmeans = KMeans(n_clusters=k, random_state=42)\n",
    "    labels = kmeans.fit_predict(X)\n",
    "    silhouette_avg = silhouette_score(X, labels)\n",
    "    silhouette_scores.append(silhouette_avg)\n",
    "\n",
    "# Plot silhouette scores\n",
    "plt.figure(figsize=(10, 6))\n",
    "plt.plot(range(2, 11), silhouette_scores, marker='o')\n",
    "plt.title('silhouette')\n",
    "plt.xlabel('k')\n",
    "plt.ylabel('silhouette score')\n",
    "plt.xticks(range(2, 11))\n",
    "plt.grid(True)\n",
    "plt.show()"
   ]
  },
  {
   "cell_type": "markdown",
   "metadata": {},
   "source": [
    "# k-means"
   ]
  },
  {
   "cell_type": "code",
   "execution_count": 249,
   "metadata": {},
   "outputs": [
    {
     "name": "stdout",
     "output_type": "stream",
     "text": [
      "Cluster Centers:\n",
      " [[0.07380919 0.17331519 0.13053153 0.11127622 0.10419588 0.06331612\n",
      "  0.05381896 0.06073392]\n",
      " [0.03472719 0.04358681 0.04629602 0.03716058 0.02880049 0.02463567\n",
      "  0.02752337 0.02655664]\n",
      " [0.16259985 0.28867532 0.17196026 0.25280054 0.21670516 0.25618176\n",
      "  0.22283697 0.16081503]\n",
      " [0.09502708 0.06569589 0.10893135 0.07079901 0.05669266 0.06202628\n",
      "  0.22462048 0.15783452]]\n"
     ]
    }
   ],
   "source": [
    "kmeans = KMeans(n_clusters=n_clusters,         # Number of clusters\n",
    "                 init='k-means++',    # Centroid initialization\n",
    "                 max_iter=300,        # Maximum iterations\n",
    "                 n_init=10,           # Number of initializations\n",
    "                 tol=1e-4,    \n",
    "                 random_state=42,    \n",
    "                 algorithm='lloyd')\n",
    "df['cluster'] = kmeans.fit_predict(X)\n",
    "kmeans.fit(X)\n",
    "\n",
    "labels = kmeans.predict(X)\n",
    "\n",
    "print(\"Cluster Centers:\\n\", kmeans.cluster_centers_)"
   ]
  },
  {
   "cell_type": "code",
   "execution_count": 250,
   "metadata": {},
   "outputs": [],
   "source": [
    "def plot_one_class_coactivation_map(coactivation_map, metric='median', title='', label='', cmap='Blues'):\n",
    "    fig, ax = plt.subplots(figsize=(10,1))\n",
    "    im = ax.imshow([coactivation_map], cmap=cmap,\n",
    "                   vmin=0, vmax=0.5)\n",
    "    ax.set_xticks(np.arange(len(emgs)), labels=emgs)\n",
    "    ax.set_yticks([0], labels=[label])\n",
    "    ax.set_title('Coactivation Map (' + metric + '): ' + title)\n",
    "    fig.colorbar(im, ax=ax)\n",
    "    return"
   ]
  },
  {
   "cell_type": "code",
   "execution_count": 251,
   "metadata": {},
   "outputs": [
    {
     "data": {
      "text/plain": [
       "cluster\n",
       "1    74\n",
       "0    28\n",
       "3    14\n",
       "2     5\n",
       "Name: count, dtype: int64"
      ]
     },
     "execution_count": 251,
     "metadata": {},
     "output_type": "execute_result"
    }
   ],
   "source": [
    "df['cluster'].value_counts()"
   ]
  },
  {
   "cell_type": "code",
   "execution_count": 252,
   "metadata": {},
   "outputs": [
    {
     "name": "stderr",
     "output_type": "stream",
     "text": [
      "/var/folders/yd/vqpl9gqn5nqfzr41g9_g0t940000gq/T/ipykernel_32655/1772303394.py:1: DeprecationWarning:\n",
      "\n",
      "DataFrameGroupBy.apply operated on the grouping columns. This behavior is deprecated, and in a future version of pandas the grouping columns will be excluded from the operation. Either pass `include_groups=False` to exclude the groupings or explicitly select the grouping columns after groupby to silence this warning.\n",
      "\n"
     ]
    },
    {
     "data": {
      "text/html": [
       "<div>\n",
       "<style scoped>\n",
       "    .dataframe tbody tr th:only-of-type {\n",
       "        vertical-align: middle;\n",
       "    }\n",
       "\n",
       "    .dataframe tbody tr th {\n",
       "        vertical-align: top;\n",
       "    }\n",
       "\n",
       "    .dataframe thead th {\n",
       "        text-align: right;\n",
       "    }\n",
       "</style>\n",
       "<table border=\"1\" class=\"dataframe\">\n",
       "  <thead>\n",
       "    <tr style=\"text-align: right;\">\n",
       "      <th></th>\n",
       "      <th>0</th>\n",
       "    </tr>\n",
       "    <tr>\n",
       "      <th>cluster</th>\n",
       "      <th></th>\n",
       "    </tr>\n",
       "  </thead>\n",
       "  <tbody>\n",
       "    <tr>\n",
       "      <th>0</th>\n",
       "      <td>[03, ac, im, p1, p3, p4, p8]</td>\n",
       "    </tr>\n",
       "    <tr>\n",
       "      <th>1</th>\n",
       "      <td>[03, ae, as, cl, dy, fa, gk, hr, im, is, jo, j...</td>\n",
       "    </tr>\n",
       "    <tr>\n",
       "      <th>2</th>\n",
       "      <td>[p4]</td>\n",
       "    </tr>\n",
       "    <tr>\n",
       "      <th>3</th>\n",
       "      <td>[p3, p7, p8]</td>\n",
       "    </tr>\n",
       "  </tbody>\n",
       "</table>\n",
       "</div>"
      ],
      "text/plain": [
       "                                                         0\n",
       "cluster                                                   \n",
       "0                             [03, ac, im, p1, p3, p4, p8]\n",
       "1        [03, ae, as, cl, dy, fa, gk, hr, im, is, jo, j...\n",
       "2                                                     [p4]\n",
       "3                                             [p3, p7, p8]"
      ]
     },
     "execution_count": 252,
     "metadata": {},
     "output_type": "execute_result"
    }
   ],
   "source": [
    "pd.DataFrame(df.groupby('cluster').apply(lambda x: np.unique(x.subject_id)))"
   ]
  },
  {
   "cell_type": "code",
   "execution_count": 253,
   "metadata": {},
   "outputs": [
    {
     "name": "stderr",
     "output_type": "stream",
     "text": [
      "/var/folders/yd/vqpl9gqn5nqfzr41g9_g0t940000gq/T/ipykernel_32655/2692373268.py:1: DeprecationWarning:\n",
      "\n",
      "DataFrameGroupBy.apply operated on the grouping columns. This behavior is deprecated, and in a future version of pandas the grouping columns will be excluded from the operation. Either pass `include_groups=False` to exclude the groupings or explicitly select the grouping columns after groupby to silence this warning.\n",
      "\n"
     ]
    },
    {
     "data": {
      "text/plain": [
       "'[array([03, ae, as, cl, dy, fa, gk, hr, im, is, jo,\\n        jp, p1, p3, p4, p8, si, ts, wx, xw, yc],\\n       dtype=object)                                                     ]'"
      ]
     },
     "execution_count": 253,
     "metadata": {},
     "output_type": "execute_result"
    }
   ],
   "source": [
    "str(pd.DataFrame(df.groupby('cluster').apply(lambda x: np.unique(x.subject_id))).iloc[1].to_numpy()).replace(\"'\",\"\")"
   ]
  },
  {
   "cell_type": "code",
   "execution_count": 254,
   "metadata": {},
   "outputs": [],
   "source": [
    "tsne_input = df.iloc[:,:24].to_numpy()\n",
    "data_tsne = TSNE(n_components=3, learning_rate='auto', init='random', perplexity=3).fit_transform(tsne_input)\n",
    "data_tsne = pd.DataFrame(data_tsne, columns=['myx', 'myy', 'myz'])\n",
    "data_tsne['cluster_ids'] = df['cluster'].to_numpy().astype(str)\n",
    "data_tsne['subject_ids'] = df['subject_id'].to_numpy()\n"
   ]
  },
  {
   "cell_type": "code",
   "execution_count": 281,
   "metadata": {},
   "outputs": [
    {
     "data": {
      "application/vnd.plotly.v1+json": {
       "config": {
        "plotlyServerURL": "https://plot.ly"
       },
       "data": [
        {
         "hovertemplate": "cluster_ids=0<br>myx=%{x}<br>myy=%{y}<br>myz=%{z}<br>subject_ids=%{text}<extra></extra>",
         "legendgroup": "0",
         "marker": {
          "color": "red",
          "symbol": "circle"
         },
         "mode": "markers+text",
         "name": "0",
         "scene": "scene",
         "showlegend": true,
         "text": [
          "as",
          "as",
          "ts",
          "ts",
          "ts",
          "ts",
          "p7",
          "p7",
          "p7",
          "p7",
          "jp",
          "wx",
          "wx",
          "wx",
          "wx",
          "ac",
          "ac",
          "ac",
          "ac",
          "is",
          "is"
         ],
         "type": "scatter3d",
         "x": [
          -11.779094696044922,
          -14.105661392211914,
          -4.14962100982666,
          -1.775539755821228,
          6.964972496032715,
          -0.3074686825275421,
          45.17702102661133,
          36.9079704284668,
          57.536048889160156,
          51.25559997558594,
          10.399202346801758,
          -44.632667541503906,
          -17.112323760986328,
          -39.10728454589844,
          -41.050106048583984,
          50.896121978759766,
          46.50914764404297,
          30.930496215820312,
          -27.754776000976562,
          5.540988922119141,
          7.626433849334717
         ],
         "y": [
          59.53794860839844,
          -32.98979568481445,
          30.074127197265625,
          35.21440505981445,
          34.46853256225586,
          38.17292785644531,
          -27.294946670532227,
          -34.250919342041016,
          -20.7332820892334,
          -20.799394607543945,
          51.7620849609375,
          52.94664001464844,
          -41.76626968383789,
          55.48686981201172,
          57.43513488769531,
          19.753637313842773,
          26.1116886138916,
          27.772403717041016,
          9.55932903289795,
          57.9550895690918,
          -38.12047576904297
         ],
         "z": [
          -42.11189270019531,
          44.65397644042969,
          47.372276306152344,
          39.723304748535156,
          48.46317672729492,
          50.546661376953125,
          14.365169525146484,
          10.779852867126465,
          4.690712928771973,
          0.06460724771022797,
          11.061518669128418,
          12.849050521850586,
          -44.837425231933594,
          34.7962532043457,
          27.40238380432129,
          13.232410430908203,
          11.99569034576416,
          10.9539155960083,
          54.48969650268555,
          -25.512117385864258,
          48.47101974487305
         ]
        },
        {
         "hovertemplate": "cluster_ids=1<br>myx=%{x}<br>myy=%{y}<br>myz=%{z}<br>subject_ids=%{text}<extra></extra>",
         "legendgroup": "1",
         "marker": {
          "color": "blue",
          "symbol": "circle"
         },
         "mode": "markers+text",
         "name": "1",
         "scene": "scene",
         "showlegend": true,
         "text": [
          "p4",
          "p4",
          "p4",
          "p4",
          "p4",
          "p4",
          "p4",
          "p4",
          "p4",
          "p4",
          "p4",
          "p4",
          "p4"
         ],
         "type": "scatter3d",
         "x": [
          -41.50528335571289,
          -39.05718994140625,
          -41.76591873168945,
          -47.39799118041992,
          54.78232192993164,
          12.280786514282227,
          14.398666381835938,
          7.349750518798828,
          17.422441482543945,
          17.79100227355957,
          -4.833646774291992,
          1.2948920726776123,
          25.61631202697754
         ],
         "y": [
          -4.593379974365234,
          0.8549631834030151,
          -7.247416973114014,
          -1.9075819253921509,
          -24.50564193725586,
          7.743563175201416,
          0.02956961840391159,
          -10.725606918334961,
          5.295267105102539,
          15.216442108154297,
          -0.9233177900314331,
          -3.9714033603668213,
          12.08037281036377
         ],
         "z": [
          21.168882369995117,
          30.605121612548828,
          29.23090171813965,
          9.598615646362305,
          45.92790603637695,
          39.023075103759766,
          45.901615142822266,
          50.68482971191406,
          32.411231994628906,
          31.99072265625,
          58.811771392822266,
          54.69811248779297,
          35.182621002197266
         ]
        },
        {
         "hovertemplate": "cluster_ids=2<br>myx=%{x}<br>myy=%{y}<br>myz=%{z}<br>subject_ids=%{text}<extra></extra>",
         "legendgroup": "2",
         "marker": {
          "color": "green",
          "symbol": "circle"
         },
         "mode": "markers+text",
         "name": "2",
         "scene": "scene",
         "showlegend": true,
         "text": [
          "fa",
          "fa",
          "fa",
          "fa",
          "xw",
          "xw",
          "xw",
          "xw",
          "ae",
          "ae",
          "ae",
          "ae",
          "hr",
          "hr",
          "hr",
          "hr",
          "as",
          "as",
          "p3",
          "cl",
          "cl",
          "cl",
          "cl",
          "p1",
          "dy",
          "dy",
          "dy",
          "dy",
          "p4",
          "im",
          "im",
          "im",
          "im",
          "si",
          "si",
          "si",
          "si",
          "p8",
          "p8",
          "p8",
          "gk",
          "gk",
          "gk",
          "gk",
          "jo",
          "jo",
          "p3",
          "p3",
          "p7",
          "jp",
          "jp",
          "jp",
          "03",
          "03",
          "p4",
          "p1",
          "p1",
          "p1",
          "yc",
          "yc",
          "yc",
          "yc",
          "yc",
          "is",
          "is"
         ],
         "type": "scatter3d",
         "x": [
          -12.480710983276367,
          -5.863981246948242,
          -11.213384628295898,
          -9.868172645568848,
          1.8575129508972168,
          3.9486985206604004,
          -1.6374809741973877,
          -2.9990553855895996,
          40.153358459472656,
          35.79343032836914,
          45.72819900512695,
          44.050270080566406,
          12.984273910522461,
          8.650601387023926,
          19.064720153808594,
          16.192893981933594,
          -36.321388244628906,
          5.1457014083862305,
          -26.235074996948242,
          -23.66914176940918,
          -21.538827896118164,
          -12.787012100219727,
          -14.61557674407959,
          22.140501022338867,
          22.85614585876465,
          19.49941062927246,
          -44.20424270629883,
          21.79020118713379,
          -4.500743389129639,
          -6.149507522583008,
          -17.64771270751953,
          10.700796127319336,
          17.925506591796875,
          -14.800004959106445,
          -13.56075382232666,
          -0.926339864730835,
          -0.41131120920181274,
          23.76044273376465,
          20.229454040527344,
          25.274106979370117,
          -24.560394287109375,
          -26.632802963256836,
          -29.471349716186523,
          -27.90520477294922,
          22.84544563293457,
          -30.047779083251953,
          -24.12895393371582,
          -32.010284423828125,
          19.091447830200195,
          5.673436641693115,
          -1.201055645942688,
          5.1296281814575195,
          -26.04213523864746,
          -19.759756088256836,
          31.693416595458984,
          -10.990653038024902,
          14.670543670654297,
          -11.78939151763916,
          -20.194467544555664,
          -10.267619132995605,
          -13.616338729858398,
          15.28506851196289,
          -46.64236831665039,
          -41.48927688598633,
          -34.219200134277344
         ],
         "y": [
          -1.1845453977584839,
          -3.817077398300171,
          -8.711235046386719,
          -13.190213203430176,
          31.48663902282715,
          33.45124816894531,
          -8.267985343933105,
          5.6437201499938965,
          -36.33221435546875,
          -40.32117462158203,
          -25.795421600341797,
          -33.55915832519531,
          -2.239544153213501,
          -7.392768859863281,
          -11.532201766967773,
          -9.176392555236816,
          32.132320404052734,
          47.758445739746094,
          -36.243621826171875,
          36.506446838378906,
          46.79698944091797,
          46.753902435302734,
          40.71472930908203,
          -7.0427632331848145,
          18.81438446044922,
          16.949710845947266,
          20.16121482849121,
          21.79948616027832,
          -16.57818603515625,
          -17.174631118774414,
          -3.7395856380462646,
          -16.269657135009766,
          -14.365030288696289,
          9.886077880859375,
          4.693825721740723,
          14.767339706420898,
          9.620163917541504,
          -44.56521224975586,
          -38.74226379394531,
          -34.57255554199219,
          34.25511169433594,
          32.47290802001953,
          30.827926635742188,
          28.75836753845215,
          45.50050354003906,
          26.81692123413086,
          -25.96044921875,
          -35.9514274597168,
          -29.143524169921875,
          55.57095718383789,
          55.37382888793945,
          46.388973236083984,
          -42.619163513183594,
          -44.3746452331543,
          7.110043525695801,
          -26.746051788330078,
          -8.917736053466797,
          -21.989715576171875,
          2.30668044090271,
          -5.680386543273926,
          -0.18229500949382782,
          38.25643539428711,
          -71.0986099243164,
          -56.23398971557617,
          53.277652740478516
         ],
         "z": [
          3.5351948738098145,
          11.217823028564453,
          16.586322784423828,
          9.50429630279541,
          -37.1573371887207,
          -30.026447296142578,
          -51.39958572387695,
          -31.919490814208984,
          -26.957530975341797,
          -32.7044792175293,
          -39.09911346435547,
          -35.448429107666016,
          -62.66974639892578,
          -55.41587829589844,
          -58.76543045043945,
          -50.9853630065918,
          -51.79316711425781,
          -57.918907165527344,
          -11.460724830627441,
          -15.373391151428223,
          -19.04883575439453,
          -25.125350952148438,
          -19.50537872314453,
          -12.290371894836426,
          -38.897666931152344,
          -45.97795104980469,
          -13.105145454406738,
          -27.591726303100586,
          20.85797119140625,
          -48.161006927490234,
          -34.533180236816406,
          -24.68119239807129,
          -22.377025604248047,
          -24.728288650512695,
          -30.650991439819336,
          -16.14964485168457,
          -22.48676109313965,
          -4.527707576751709,
          1.0738259553909302,
          6.488516330718994,
          3.9215240478515625,
          -3.5253958702087402,
          23.512712478637695,
          16.2480411529541,
          -14.618236541748047,
          -27.130157470703125,
          -11.899383544921875,
          -16.729488372802734,
          10.938380241394043,
          1.5608487129211426,
          6.794262409210205,
          6.481042861938477,
          -3.0928990840911865,
          -12.748006820678711,
          40.65134048461914,
          -4.43049955368042,
          -9.542144775390625,
          3.7125191688537598,
          -61.0543098449707,
          -55.119102478027344,
          -64.5291748046875,
          -63.721683502197266,
          28.037220001220703,
          10.841120719909668,
          -40.439090728759766
         ]
        },
        {
         "hovertemplate": "cluster_ids=3<br>myx=%{x}<br>myy=%{y}<br>myz=%{z}<br>subject_ids=%{text}<extra></extra>",
         "legendgroup": "3",
         "marker": {
          "color": "purple",
          "symbol": "circle"
         },
         "mode": "markers+text",
         "name": "3",
         "scene": "scene",
         "showlegend": true,
         "text": [
          "p3",
          "p1",
          "p1",
          "p1",
          "p1",
          "p8",
          "p8",
          "p8",
          "p8",
          "p8",
          "jo",
          "jo",
          "p3",
          "p3",
          "p3",
          "p3",
          "p7",
          "p7",
          "p7",
          "p1",
          "p1",
          "p1"
         ],
         "type": "scatter3d",
         "x": [
          44.806488037109375,
          31.878772735595703,
          -4.770935535430908,
          -2.7528109550476074,
          -6.98403787612915,
          -63.95344543457031,
          -27.202058792114258,
          -59.65399932861328,
          -66.68525695800781,
          -65.94332122802734,
          45.222469329833984,
          43.166934967041016,
          -35.70467758178711,
          61.084049224853516,
          48.06422424316406,
          -29.54990005493164,
          46.92293930053711,
          47.213905334472656,
          42.12174987792969,
          24.62819480895996,
          31.449325561523438,
          -5.708895206451416
         ],
         "y": [
          10.40135383605957,
          1.3724589347839355,
          -52.58804702758789,
          -57.00542449951172,
          -62.039546966552734,
          -27.64178466796875,
          66.75553894042969,
          -37.71750259399414,
          -33.99147033691406,
          -38.411685943603516,
          42.05894470214844,
          47.465152740478516,
          -22.2956485748291,
          22.699909210205078,
          43.17819595336914,
          -17.725276947021484,
          -37.109657287597656,
          -46.85258865356445,
          -42.60426330566406,
          7.4898881912231445,
          4.104341983795166,
          -43.77859115600586
         ],
         "z": [
          39.31205749511719,
          -6.22675085067749,
          6.479842662811279,
          -0.47983911633491516,
          7.380325794219971,
          5.857818126678467,
          5.852402210235596,
          -7.8390913009643555,
          -10.10249137878418,
          3.087909698486328,
          7.208227157592773,
          2.0052390098571777,
          -21.303617477416992,
          -79.46281433105469,
          90.81888580322266,
          -15.882579803466797,
          20.676694869995117,
          24.1162166595459,
          16.797855377197266,
          3.642059326171875,
          4.507384300231934,
          8.756108283996582
         ]
        }
       ],
       "layout": {
        "legend": {
         "title": {
          "text": "cluster_ids"
         },
         "tracegroupgap": 0,
         "x": 1.15,
         "xanchor": "left",
         "y": 0.5,
         "yanchor": "middle"
        },
        "scene": {
         "domain": {
          "x": [
           0,
           1
          ],
          "y": [
           0,
           1
          ]
         },
         "xaxis": {
          "title": {
           "text": "myx"
          }
         },
         "yaxis": {
          "title": {
           "text": "myy"
          }
         },
         "zaxis": {
          "title": {
           "text": "myz"
          }
         }
        },
        "template": {
         "data": {
          "bar": [
           {
            "error_x": {
             "color": "#2a3f5f"
            },
            "error_y": {
             "color": "#2a3f5f"
            },
            "marker": {
             "line": {
              "color": "#E5ECF6",
              "width": 0.5
             },
             "pattern": {
              "fillmode": "overlay",
              "size": 10,
              "solidity": 0.2
             }
            },
            "type": "bar"
           }
          ],
          "barpolar": [
           {
            "marker": {
             "line": {
              "color": "#E5ECF6",
              "width": 0.5
             },
             "pattern": {
              "fillmode": "overlay",
              "size": 10,
              "solidity": 0.2
             }
            },
            "type": "barpolar"
           }
          ],
          "carpet": [
           {
            "aaxis": {
             "endlinecolor": "#2a3f5f",
             "gridcolor": "white",
             "linecolor": "white",
             "minorgridcolor": "white",
             "startlinecolor": "#2a3f5f"
            },
            "baxis": {
             "endlinecolor": "#2a3f5f",
             "gridcolor": "white",
             "linecolor": "white",
             "minorgridcolor": "white",
             "startlinecolor": "#2a3f5f"
            },
            "type": "carpet"
           }
          ],
          "choropleth": [
           {
            "colorbar": {
             "outlinewidth": 0,
             "ticks": ""
            },
            "type": "choropleth"
           }
          ],
          "contour": [
           {
            "colorbar": {
             "outlinewidth": 0,
             "ticks": ""
            },
            "colorscale": [
             [
              0,
              "#0d0887"
             ],
             [
              0.1111111111111111,
              "#46039f"
             ],
             [
              0.2222222222222222,
              "#7201a8"
             ],
             [
              0.3333333333333333,
              "#9c179e"
             ],
             [
              0.4444444444444444,
              "#bd3786"
             ],
             [
              0.5555555555555556,
              "#d8576b"
             ],
             [
              0.6666666666666666,
              "#ed7953"
             ],
             [
              0.7777777777777778,
              "#fb9f3a"
             ],
             [
              0.8888888888888888,
              "#fdca26"
             ],
             [
              1,
              "#f0f921"
             ]
            ],
            "type": "contour"
           }
          ],
          "contourcarpet": [
           {
            "colorbar": {
             "outlinewidth": 0,
             "ticks": ""
            },
            "type": "contourcarpet"
           }
          ],
          "heatmap": [
           {
            "colorbar": {
             "outlinewidth": 0,
             "ticks": ""
            },
            "colorscale": [
             [
              0,
              "#0d0887"
             ],
             [
              0.1111111111111111,
              "#46039f"
             ],
             [
              0.2222222222222222,
              "#7201a8"
             ],
             [
              0.3333333333333333,
              "#9c179e"
             ],
             [
              0.4444444444444444,
              "#bd3786"
             ],
             [
              0.5555555555555556,
              "#d8576b"
             ],
             [
              0.6666666666666666,
              "#ed7953"
             ],
             [
              0.7777777777777778,
              "#fb9f3a"
             ],
             [
              0.8888888888888888,
              "#fdca26"
             ],
             [
              1,
              "#f0f921"
             ]
            ],
            "type": "heatmap"
           }
          ],
          "heatmapgl": [
           {
            "colorbar": {
             "outlinewidth": 0,
             "ticks": ""
            },
            "colorscale": [
             [
              0,
              "#0d0887"
             ],
             [
              0.1111111111111111,
              "#46039f"
             ],
             [
              0.2222222222222222,
              "#7201a8"
             ],
             [
              0.3333333333333333,
              "#9c179e"
             ],
             [
              0.4444444444444444,
              "#bd3786"
             ],
             [
              0.5555555555555556,
              "#d8576b"
             ],
             [
              0.6666666666666666,
              "#ed7953"
             ],
             [
              0.7777777777777778,
              "#fb9f3a"
             ],
             [
              0.8888888888888888,
              "#fdca26"
             ],
             [
              1,
              "#f0f921"
             ]
            ],
            "type": "heatmapgl"
           }
          ],
          "histogram": [
           {
            "marker": {
             "pattern": {
              "fillmode": "overlay",
              "size": 10,
              "solidity": 0.2
             }
            },
            "type": "histogram"
           }
          ],
          "histogram2d": [
           {
            "colorbar": {
             "outlinewidth": 0,
             "ticks": ""
            },
            "colorscale": [
             [
              0,
              "#0d0887"
             ],
             [
              0.1111111111111111,
              "#46039f"
             ],
             [
              0.2222222222222222,
              "#7201a8"
             ],
             [
              0.3333333333333333,
              "#9c179e"
             ],
             [
              0.4444444444444444,
              "#bd3786"
             ],
             [
              0.5555555555555556,
              "#d8576b"
             ],
             [
              0.6666666666666666,
              "#ed7953"
             ],
             [
              0.7777777777777778,
              "#fb9f3a"
             ],
             [
              0.8888888888888888,
              "#fdca26"
             ],
             [
              1,
              "#f0f921"
             ]
            ],
            "type": "histogram2d"
           }
          ],
          "histogram2dcontour": [
           {
            "colorbar": {
             "outlinewidth": 0,
             "ticks": ""
            },
            "colorscale": [
             [
              0,
              "#0d0887"
             ],
             [
              0.1111111111111111,
              "#46039f"
             ],
             [
              0.2222222222222222,
              "#7201a8"
             ],
             [
              0.3333333333333333,
              "#9c179e"
             ],
             [
              0.4444444444444444,
              "#bd3786"
             ],
             [
              0.5555555555555556,
              "#d8576b"
             ],
             [
              0.6666666666666666,
              "#ed7953"
             ],
             [
              0.7777777777777778,
              "#fb9f3a"
             ],
             [
              0.8888888888888888,
              "#fdca26"
             ],
             [
              1,
              "#f0f921"
             ]
            ],
            "type": "histogram2dcontour"
           }
          ],
          "mesh3d": [
           {
            "colorbar": {
             "outlinewidth": 0,
             "ticks": ""
            },
            "type": "mesh3d"
           }
          ],
          "parcoords": [
           {
            "line": {
             "colorbar": {
              "outlinewidth": 0,
              "ticks": ""
             }
            },
            "type": "parcoords"
           }
          ],
          "pie": [
           {
            "automargin": true,
            "type": "pie"
           }
          ],
          "scatter": [
           {
            "fillpattern": {
             "fillmode": "overlay",
             "size": 10,
             "solidity": 0.2
            },
            "type": "scatter"
           }
          ],
          "scatter3d": [
           {
            "line": {
             "colorbar": {
              "outlinewidth": 0,
              "ticks": ""
             }
            },
            "marker": {
             "colorbar": {
              "outlinewidth": 0,
              "ticks": ""
             }
            },
            "type": "scatter3d"
           }
          ],
          "scattercarpet": [
           {
            "marker": {
             "colorbar": {
              "outlinewidth": 0,
              "ticks": ""
             }
            },
            "type": "scattercarpet"
           }
          ],
          "scattergeo": [
           {
            "marker": {
             "colorbar": {
              "outlinewidth": 0,
              "ticks": ""
             }
            },
            "type": "scattergeo"
           }
          ],
          "scattergl": [
           {
            "marker": {
             "colorbar": {
              "outlinewidth": 0,
              "ticks": ""
             }
            },
            "type": "scattergl"
           }
          ],
          "scattermapbox": [
           {
            "marker": {
             "colorbar": {
              "outlinewidth": 0,
              "ticks": ""
             }
            },
            "type": "scattermapbox"
           }
          ],
          "scatterpolar": [
           {
            "marker": {
             "colorbar": {
              "outlinewidth": 0,
              "ticks": ""
             }
            },
            "type": "scatterpolar"
           }
          ],
          "scatterpolargl": [
           {
            "marker": {
             "colorbar": {
              "outlinewidth": 0,
              "ticks": ""
             }
            },
            "type": "scatterpolargl"
           }
          ],
          "scatterternary": [
           {
            "marker": {
             "colorbar": {
              "outlinewidth": 0,
              "ticks": ""
             }
            },
            "type": "scatterternary"
           }
          ],
          "surface": [
           {
            "colorbar": {
             "outlinewidth": 0,
             "ticks": ""
            },
            "colorscale": [
             [
              0,
              "#0d0887"
             ],
             [
              0.1111111111111111,
              "#46039f"
             ],
             [
              0.2222222222222222,
              "#7201a8"
             ],
             [
              0.3333333333333333,
              "#9c179e"
             ],
             [
              0.4444444444444444,
              "#bd3786"
             ],
             [
              0.5555555555555556,
              "#d8576b"
             ],
             [
              0.6666666666666666,
              "#ed7953"
             ],
             [
              0.7777777777777778,
              "#fb9f3a"
             ],
             [
              0.8888888888888888,
              "#fdca26"
             ],
             [
              1,
              "#f0f921"
             ]
            ],
            "type": "surface"
           }
          ],
          "table": [
           {
            "cells": {
             "fill": {
              "color": "#EBF0F8"
             },
             "line": {
              "color": "white"
             }
            },
            "header": {
             "fill": {
              "color": "#C8D4E3"
             },
             "line": {
              "color": "white"
             }
            },
            "type": "table"
           }
          ]
         },
         "layout": {
          "annotationdefaults": {
           "arrowcolor": "#2a3f5f",
           "arrowhead": 0,
           "arrowwidth": 1
          },
          "autotypenumbers": "strict",
          "coloraxis": {
           "colorbar": {
            "outlinewidth": 0,
            "ticks": ""
           }
          },
          "colorscale": {
           "diverging": [
            [
             0,
             "#8e0152"
            ],
            [
             0.1,
             "#c51b7d"
            ],
            [
             0.2,
             "#de77ae"
            ],
            [
             0.3,
             "#f1b6da"
            ],
            [
             0.4,
             "#fde0ef"
            ],
            [
             0.5,
             "#f7f7f7"
            ],
            [
             0.6,
             "#e6f5d0"
            ],
            [
             0.7,
             "#b8e186"
            ],
            [
             0.8,
             "#7fbc41"
            ],
            [
             0.9,
             "#4d9221"
            ],
            [
             1,
             "#276419"
            ]
           ],
           "sequential": [
            [
             0,
             "#0d0887"
            ],
            [
             0.1111111111111111,
             "#46039f"
            ],
            [
             0.2222222222222222,
             "#7201a8"
            ],
            [
             0.3333333333333333,
             "#9c179e"
            ],
            [
             0.4444444444444444,
             "#bd3786"
            ],
            [
             0.5555555555555556,
             "#d8576b"
            ],
            [
             0.6666666666666666,
             "#ed7953"
            ],
            [
             0.7777777777777778,
             "#fb9f3a"
            ],
            [
             0.8888888888888888,
             "#fdca26"
            ],
            [
             1,
             "#f0f921"
            ]
           ],
           "sequentialminus": [
            [
             0,
             "#0d0887"
            ],
            [
             0.1111111111111111,
             "#46039f"
            ],
            [
             0.2222222222222222,
             "#7201a8"
            ],
            [
             0.3333333333333333,
             "#9c179e"
            ],
            [
             0.4444444444444444,
             "#bd3786"
            ],
            [
             0.5555555555555556,
             "#d8576b"
            ],
            [
             0.6666666666666666,
             "#ed7953"
            ],
            [
             0.7777777777777778,
             "#fb9f3a"
            ],
            [
             0.8888888888888888,
             "#fdca26"
            ],
            [
             1,
             "#f0f921"
            ]
           ]
          },
          "colorway": [
           "#636efa",
           "#EF553B",
           "#00cc96",
           "#ab63fa",
           "#FFA15A",
           "#19d3f3",
           "#FF6692",
           "#B6E880",
           "#FF97FF",
           "#FECB52"
          ],
          "font": {
           "color": "#2a3f5f"
          },
          "geo": {
           "bgcolor": "white",
           "lakecolor": "white",
           "landcolor": "#E5ECF6",
           "showlakes": true,
           "showland": true,
           "subunitcolor": "white"
          },
          "hoverlabel": {
           "align": "left"
          },
          "hovermode": "closest",
          "mapbox": {
           "style": "light"
          },
          "paper_bgcolor": "white",
          "plot_bgcolor": "#E5ECF6",
          "polar": {
           "angularaxis": {
            "gridcolor": "white",
            "linecolor": "white",
            "ticks": ""
           },
           "bgcolor": "#E5ECF6",
           "radialaxis": {
            "gridcolor": "white",
            "linecolor": "white",
            "ticks": ""
           }
          },
          "scene": {
           "xaxis": {
            "backgroundcolor": "#E5ECF6",
            "gridcolor": "white",
            "gridwidth": 2,
            "linecolor": "white",
            "showbackground": true,
            "ticks": "",
            "zerolinecolor": "white"
           },
           "yaxis": {
            "backgroundcolor": "#E5ECF6",
            "gridcolor": "white",
            "gridwidth": 2,
            "linecolor": "white",
            "showbackground": true,
            "ticks": "",
            "zerolinecolor": "white"
           },
           "zaxis": {
            "backgroundcolor": "#E5ECF6",
            "gridcolor": "white",
            "gridwidth": 2,
            "linecolor": "white",
            "showbackground": true,
            "ticks": "",
            "zerolinecolor": "white"
           }
          },
          "shapedefaults": {
           "line": {
            "color": "#2a3f5f"
           }
          },
          "ternary": {
           "aaxis": {
            "gridcolor": "white",
            "linecolor": "white",
            "ticks": ""
           },
           "baxis": {
            "gridcolor": "white",
            "linecolor": "white",
            "ticks": ""
           },
           "bgcolor": "#E5ECF6",
           "caxis": {
            "gridcolor": "white",
            "linecolor": "white",
            "ticks": ""
           }
          },
          "title": {
           "x": 0.05
          },
          "xaxis": {
           "automargin": true,
           "gridcolor": "white",
           "linecolor": "white",
           "ticks": "",
           "title": {
            "standoff": 15
           },
           "zerolinecolor": "white",
           "zerolinewidth": 2
          },
          "yaxis": {
           "automargin": true,
           "gridcolor": "white",
           "linecolor": "white",
           "ticks": "",
           "title": {
            "standoff": 15
           },
           "zerolinecolor": "white",
           "zerolinewidth": 2
          }
         }
        },
        "title": {
         "text": "Relax: 3D t-SNE for K-means"
        }
       }
      }
     },
     "metadata": {},
     "output_type": "display_data"
    }
   ],
   "source": [
    "unique_clusters = sorted(data_tsne['cluster_ids'].unique())\n",
    "# palette = px.colors.qualitative.Plotly \n",
    "color_map = {\n",
    "    \"0\": \"red\",   \n",
    "    \"1\": \"blue\",   \n",
    "    \"2\": \"green\",  \n",
    "    \"3\": \"purple\" \n",
    "}\n",
    "\n",
    "# color_map = {str(cluster): palette[i % len(palette)] for i, cluster in enumerate(unique_clusters)}\n",
    "\n",
    "fig = px.scatter_3d(data_tsne,\n",
    "                    x='myx', y='myy', z='myz',\n",
    "                    color='cluster_ids',\n",
    "                    text='subject_ids',\n",
    "                    title='Relax: 3D t-SNE for K-means', \n",
    "                    color_discrete_map=color_map,\n",
    "                    category_orders={'cluster_ids': unique_clusters},\n",
    ")\n",
    "fig.update_layout(\n",
    "    legend=dict(\n",
    "        x=1.15,\n",
    "        y=0.5, \n",
    "        xanchor='left',\n",
    "        yanchor='middle' \n",
    "    )\n",
    ")\n",
    "\n",
    "fig.show()\n",
    "fig.write_html('relax.html')"
   ]
  },
  {
   "cell_type": "code",
   "execution_count": 256,
   "metadata": {},
   "outputs": [
    {
     "data": {
      "text/plain": [
       "{'0': 'red', '1': 'blue', '2': 'green', '3': 'purple'}"
      ]
     },
     "execution_count": 256,
     "metadata": {},
     "output_type": "execute_result"
    }
   ],
   "source": [
    "color_map"
   ]
  },
  {
   "cell_type": "markdown",
   "metadata": {},
   "source": []
  },
  {
   "cell_type": "code",
   "execution_count": 257,
   "metadata": {},
   "outputs": [
    {
     "data": {
      "image/png": "[encoded data removed]",
      "text/plain": [
       "<Figure size 1000x100 with 2 Axes>"
      ]
     },
     "metadata": {},
     "output_type": "display_data"
    },
    {
     "data": {
      "image/png": "[encoded data removed]",
      "text/plain": [
       "<Figure size 1000x100 with 2 Axes>"
      ]
     },
     "metadata": {},
     "output_type": "display_data"
    },
    {
     "data": {
      "image/png": "[encoded data removed]",
      "text/plain": [
       "<Figure size 1000x100 with 2 Axes>"
      ]
     },
     "metadata": {},
     "output_type": "display_data"
    },
    {
     "data": {
      "image/png": "[encoded data removed]",
      "text/plain": [
       "<Figure size 1000x100 with 2 Axes>"
      ]
     },
     "metadata": {},
     "output_type": "display_data"
    }
   ],
   "source": [
    "for i in range(len(kmeans.cluster_centers_)):\n",
    "    cmap = LinearSegmentedColormap.from_list(\"white_to_color\", [\"white\", color_map[str(i)]])\n",
    "    cluster_center = kmeans.cluster_centers_[i]\n",
    "    plot_one_class_coactivation_map(cluster_center, title='Cluster ' + str(i), label='relax', cmap=cmap)"
   ]
  },
  {
   "cell_type": "markdown",
   "metadata": {},
   "source": [
    "## open"
   ]
  },
  {
   "cell_type": "code",
   "execution_count": 259,
   "metadata": {},
   "outputs": [],
   "source": [
    "X = df.iloc[:,8:16].values"
   ]
  },
  {
   "cell_type": "code",
   "execution_count": 260,
   "metadata": {},
   "outputs": [
    {
     "data": {
      "image/png": "[encoded data removed]",
      "text/plain": [
       "<Figure size 800x500 with 1 Axes>"
      ]
     },
     "metadata": {},
     "output_type": "display_data"
    }
   ],
   "source": [
    "# elbow method\n",
    "wcss = []\n",
    "for k in range(1, 11):\n",
    "    kmeans = KMeans(n_clusters=k, random_state=42)\n",
    "    kmeans.fit(X)\n",
    "    wcss.append(kmeans.inertia_)\n",
    "\n",
    "plt.figure(figsize=(8, 5))\n",
    "plt.plot(range(1, 11), wcss, marker='o')\n",
    "plt.title('elbow')\n",
    "plt.xlabel('k')\n",
    "plt.ylabel('wcss')\n",
    "plt.show()"
   ]
  },
  {
   "cell_type": "code",
   "execution_count": 261,
   "metadata": {},
   "outputs": [
    {
     "data": {
      "image/png": "[encoded data removed]",
      "text/plain": [
       "<Figure size 1000x600 with 1 Axes>"
      ]
     },
     "metadata": {},
     "output_type": "display_data"
    }
   ],
   "source": [
    "silhouette_scores = []\n",
    "for k in range(2, 11):  # Silhouette score is not defined for k=1\n",
    "    kmeans = KMeans(n_clusters=k, random_state=42)\n",
    "    labels = kmeans.fit_predict(X)\n",
    "    silhouette_avg = silhouette_score(X, labels)\n",
    "    silhouette_scores.append(silhouette_avg)\n",
    "\n",
    "# Plot silhouette scores\n",
    "plt.figure(figsize=(10, 6))\n",
    "plt.plot(range(2, 11), silhouette_scores, marker='o')\n",
    "plt.title('silhouette')\n",
    "plt.xlabel('k')\n",
    "plt.ylabel('silhouette score')\n",
    "plt.xticks(range(2, 11))\n",
    "plt.grid(True)\n",
    "plt.show()"
   ]
  },
  {
   "cell_type": "markdown",
   "metadata": {},
   "source": [
    "# k-means"
   ]
  },
  {
   "cell_type": "code",
   "execution_count": 262,
   "metadata": {},
   "outputs": [
    {
     "name": "stdout",
     "output_type": "stream",
     "text": [
      "Cluster Centers:\n",
      " [[0.08272723 0.19069214 0.13559375 0.10350297 0.09251743 0.0567663\n",
      "  0.05989026 0.07987805]\n",
      " [0.12283259 0.14472053 0.49413651 0.23462025 0.06614958 0.05705025\n",
      "  0.37599075 0.29189873]\n",
      " [0.06488916 0.15340132 0.37837165 0.18171942 0.06258249 0.03830004\n",
      "  0.04124879 0.08279505]\n",
      " [0.29317931 0.21394738 0.22092385 0.21164122 0.17482285 0.23813209\n",
      "  0.39066042 0.28397991]]\n"
     ]
    }
   ],
   "source": [
    "kmeans = KMeans(n_clusters=n_clusters,         # Number of clusters\n",
    "                 init='k-means++',    # Centroid initialization\n",
    "                 max_iter=300,        # Maximum iterations\n",
    "                 n_init=10,           # Number of initializations\n",
    "                 tol=1e-4,    \n",
    "                 random_state=42,    \n",
    "                 algorithm='lloyd')\n",
    "df['cluster'] = kmeans.fit_predict(X)\n",
    "kmeans.fit(X)\n",
    "\n",
    "labels = kmeans.predict(X)\n",
    "\n",
    "print(\"Cluster Centers:\\n\", kmeans.cluster_centers_)"
   ]
  },
  {
   "cell_type": "code",
   "execution_count": 263,
   "metadata": {},
   "outputs": [
    {
     "data": {
      "text/plain": [
       "cluster\n",
       "2    57\n",
       "0    36\n",
       "1    15\n",
       "3    13\n",
       "Name: count, dtype: int64"
      ]
     },
     "execution_count": 263,
     "metadata": {},
     "output_type": "execute_result"
    }
   ],
   "source": [
    "df['cluster'].value_counts()"
   ]
  },
  {
   "cell_type": "code",
   "execution_count": 264,
   "metadata": {},
   "outputs": [
    {
     "name": "stderr",
     "output_type": "stream",
     "text": [
      "/var/folders/yd/vqpl9gqn5nqfzr41g9_g0t940000gq/T/ipykernel_32655/1772303394.py:1: DeprecationWarning:\n",
      "\n",
      "DataFrameGroupBy.apply operated on the grouping columns. This behavior is deprecated, and in a future version of pandas the grouping columns will be excluded from the operation. Either pass `include_groups=False` to exclude the groupings or explicitly select the grouping columns after groupby to silence this warning.\n",
      "\n"
     ]
    },
    {
     "data": {
      "text/html": [
       "<div>\n",
       "<style scoped>\n",
       "    .dataframe tbody tr th:only-of-type {\n",
       "        vertical-align: middle;\n",
       "    }\n",
       "\n",
       "    .dataframe tbody tr th {\n",
       "        vertical-align: top;\n",
       "    }\n",
       "\n",
       "    .dataframe thead th {\n",
       "        text-align: right;\n",
       "    }\n",
       "</style>\n",
       "<table border=\"1\" class=\"dataframe\">\n",
       "  <thead>\n",
       "    <tr style=\"text-align: right;\">\n",
       "      <th></th>\n",
       "      <th>0</th>\n",
       "    </tr>\n",
       "    <tr>\n",
       "      <th>cluster</th>\n",
       "      <th></th>\n",
       "    </tr>\n",
       "  </thead>\n",
       "  <tbody>\n",
       "    <tr>\n",
       "      <th>0</th>\n",
       "      <td>[03, ae, fa, im, p1, p3, p4, p7]</td>\n",
       "    </tr>\n",
       "    <tr>\n",
       "      <th>1</th>\n",
       "      <td>[jp, p7, ts]</td>\n",
       "    </tr>\n",
       "    <tr>\n",
       "      <th>2</th>\n",
       "      <td>[ac, as, cl, dy, gk, hr, im, is, jo, p1, si, w...</td>\n",
       "    </tr>\n",
       "    <tr>\n",
       "      <th>3</th>\n",
       "      <td>[p4, p8]</td>\n",
       "    </tr>\n",
       "  </tbody>\n",
       "</table>\n",
       "</div>"
      ],
      "text/plain": [
       "                                                         0\n",
       "cluster                                                   \n",
       "0                         [03, ae, fa, im, p1, p3, p4, p7]\n",
       "1                                             [jp, p7, ts]\n",
       "2        [ac, as, cl, dy, gk, hr, im, is, jo, p1, si, w...\n",
       "3                                                 [p4, p8]"
      ]
     },
     "execution_count": 264,
     "metadata": {},
     "output_type": "execute_result"
    }
   ],
   "source": [
    "pd.DataFrame(df.groupby('cluster').apply(lambda x: np.unique(x.subject_id)))"
   ]
  },
  {
   "cell_type": "code",
   "execution_count": 265,
   "metadata": {},
   "outputs": [
    {
     "name": "stderr",
     "output_type": "stream",
     "text": [
      "/var/folders/yd/vqpl9gqn5nqfzr41g9_g0t940000gq/T/ipykernel_32655/1655693180.py:1: DeprecationWarning:\n",
      "\n",
      "DataFrameGroupBy.apply operated on the grouping columns. This behavior is deprecated, and in a future version of pandas the grouping columns will be excluded from the operation. Either pass `include_groups=False` to exclude the groupings or explicitly select the grouping columns after groupby to silence this warning.\n",
      "\n"
     ]
    },
    {
     "data": {
      "text/plain": [
       "'[array([ac, as, cl, dy, gk, hr, im, is, jo, p1, si,\\n        wx, xw, yc], dtype=object)                                 ]'"
      ]
     },
     "execution_count": 265,
     "metadata": {},
     "output_type": "execute_result"
    }
   ],
   "source": [
    "str(pd.DataFrame(df.groupby('cluster').apply(lambda x: np.unique(x.subject_id))).iloc[2].to_numpy()).replace(\"'\",\"\")"
   ]
  },
  {
   "cell_type": "code",
   "execution_count": 266,
   "metadata": {},
   "outputs": [],
   "source": [
    "tsne_input = df.iloc[:,:24].to_numpy()\n",
    "data_tsne = TSNE(n_components=3, learning_rate='auto', init='random', perplexity=3).fit_transform(tsne_input)\n",
    "data_tsne = pd.DataFrame(data_tsne, columns=['myx', 'myy', 'myz'])\n",
    "data_tsne['cluster_ids'] = df['cluster'].to_numpy().astype(str)\n",
    "data_tsne['subject_ids'] = df['subject_id'].to_numpy()\n"
   ]
  },
  {
   "cell_type": "code",
   "execution_count": 267,
   "metadata": {},
   "outputs": [
    {
     "data": {
      "application/vnd.plotly.v1+json": {
       "config": {
        "plotlyServerURL": "https://plot.ly"
       },
       "data": [
        {
         "hovertemplate": "cluster_ids=0<br>myx=%{x}<br>myy=%{y}<br>myz=%{z}<br>subject_ids=%{text}<extra></extra>",
         "legendgroup": "0",
         "marker": {
          "color": "red",
          "symbol": "circle"
         },
         "mode": "markers+text",
         "name": "0",
         "scene": "scene",
         "showlegend": true,
         "text": [
          "fa",
          "fa",
          "fa",
          "fa",
          "ae",
          "ae",
          "ae",
          "ae",
          "p3",
          "p3",
          "p1",
          "p1",
          "p4",
          "im",
          "p4",
          "p4",
          "p4",
          "p4",
          "p4",
          "p3",
          "p3",
          "p3",
          "p3",
          "p3",
          "p3",
          "p7",
          "p4",
          "p4",
          "03",
          "03",
          "p4",
          "p4",
          "p1",
          "p1",
          "p1",
          "p1"
         ],
         "type": "scatter3d",
         "x": [
          -15.69085693359375,
          -13.169598579406738,
          -0.8680867552757263,
          -5.58530855178833,
          -35.16056823730469,
          -48.028533935546875,
          -9.89637565612793,
          -46.46488571166992,
          -38.63005065917969,
          4.9391937255859375,
          -44.86147689819336,
          -30.740196228027344,
          7.852746486663818,
          -60.936790466308594,
          -18.456010818481445,
          -9.35025691986084,
          7.125959396362305,
          -17.21881675720215,
          -30.215879440307617,
          -7.151462554931641,
          2.880331516265869,
          -65.22541809082031,
          -57.62772750854492,
          -1.3126696348190308,
          -0.3980790972709656,
          41.06924057006836,
          1.3563214540481567,
          2.6652870178222656,
          -25.23311424255371,
          -23.98191261291504,
          -30.458969116210938,
          -27.95514488220215,
          2.5611398220062256,
          -50.71296691894531,
          -3.638396978378296,
          8.161534309387207
         ],
         "y": [
          -7.285428524017334,
          -14.352950096130371,
          -13.355504989624023,
          -2.473233699798584,
          -74.79602813720703,
          -73.44709777832031,
          -29.872215270996094,
          -78.19658660888672,
          -44.40043258666992,
          5.198605537414551,
          36.80636978149414,
          46.49434280395508,
          -8.279850006103516,
          -3.7521965503692627,
          -49.81719207763672,
          -59.05412292480469,
          -69.5358657836914,
          -40.04668426513672,
          -39.07381057739258,
          46.58939743041992,
          35.953731536865234,
          -38.51789855957031,
          -43.882076263427734,
          50.24107360839844,
          15.282243728637695,
          -22.388208389282227,
          -73.09115600585938,
          -71.17191314697266,
          28.372045516967773,
          17.50966453552246,
          -42.149559020996094,
          -48.280879974365234,
          23.372432708740234,
          27.00066375732422,
          12.497270584106445,
          55.4295768737793
         ],
         "z": [
          52.644554138183594,
          40.14662551879883,
          37.535545349121094,
          36.37361145019531,
          4.252485752105713,
          -14.671902656555176,
          87.3306655883789,
          -3.063063144683838,
          11.381065368652344,
          57.26913833618164,
          -55.128265380859375,
          -65.98460388183594,
          25.57269859313965,
          0.03398190438747406,
          -34.78443908691406,
          -27.717317581176758,
          -29.07538414001465,
          -27.646575927734375,
          -32.40974807739258,
          57.04863357543945,
          43.878353118896484,
          0.7808244824409485,
          6.32448148727417,
          45.832862854003906,
          58.46369171142578,
          -10.594581604003906,
          -53.27573013305664,
          -42.28271484375,
          35.66426086425781,
          47.95138931274414,
          -20.161516189575195,
          -8.436728477478027,
          28.615318298339844,
          -55.16716766357422,
          33.9249267578125,
          -2.436317205429077
         ]
        },
        {
         "hovertemplate": "cluster_ids=1<br>myx=%{x}<br>myy=%{y}<br>myz=%{z}<br>subject_ids=%{text}<extra></extra>",
         "legendgroup": "1",
         "marker": {
          "color": "blue",
          "symbol": "circle"
         },
         "mode": "markers+text",
         "name": "1",
         "scene": "scene",
         "showlegend": true,
         "text": [
          "ts",
          "ts",
          "ts",
          "ts",
          "p7",
          "p7",
          "p7",
          "p7",
          "p7",
          "p7",
          "p7",
          "jp",
          "jp",
          "jp",
          "jp"
         ],
         "type": "scatter3d",
         "x": [
          43.1289176940918,
          47.4189453125,
          30.572429656982422,
          35.70249557495117,
          40.9830322265625,
          38.15898132324219,
          35.5684700012207,
          31.56047248840332,
          31.89423179626465,
          60.33039474487305,
          40.59968185424805,
          31.13943862915039,
          39.32370376586914,
          38.90757751464844,
          29.08367347717285
         ],
         "y": [
          42.53630828857422,
          31.6641902923584,
          32.637813568115234,
          41.49995422363281,
          -40.472984313964844,
          -34.28584289550781,
          -53.5612678527832,
          -62.28668212890625,
          -48.57545471191406,
          44.45655059814453,
          -2.5910937786102295,
          29.932485580444336,
          27.5283145904541,
          18.102754592895508,
          14.373764991760254
         ],
         "z": [
          25.406822204589844,
          19.14704132080078,
          20.246706008911133,
          14.427276611328125,
          26.26181983947754,
          11.842862129211426,
          16.996196746826172,
          6.15851354598999,
          7.2410688400268555,
          -0.06382470577955246,
          29.632099151611328,
          65.54488372802734,
          74.10589599609375,
          62.00959014892578,
          68.40160369873047
         ]
        },
        {
         "hovertemplate": "cluster_ids=2<br>myx=%{x}<br>myy=%{y}<br>myz=%{z}<br>subject_ids=%{text}<extra></extra>",
         "legendgroup": "2",
         "marker": {
          "color": "green",
          "symbol": "circle"
         },
         "mode": "markers+text",
         "name": "2",
         "scene": "scene",
         "showlegend": true,
         "text": [
          "xw",
          "xw",
          "xw",
          "xw",
          "hr",
          "hr",
          "hr",
          "hr",
          "as",
          "as",
          "as",
          "as",
          "cl",
          "cl",
          "cl",
          "cl",
          "dy",
          "dy",
          "dy",
          "dy",
          "im",
          "im",
          "im",
          "si",
          "si",
          "si",
          "si",
          "p1",
          "p1",
          "p1",
          "gk",
          "gk",
          "gk",
          "gk",
          "jo",
          "jo",
          "jo",
          "jo",
          "wx",
          "wx",
          "wx",
          "wx",
          "ac",
          "ac",
          "ac",
          "ac",
          "p1",
          "p1",
          "yc",
          "yc",
          "yc",
          "yc",
          "yc",
          "is",
          "is",
          "is",
          "is"
         ],
         "type": "scatter3d",
         "x": [
          -69.64900207519531,
          72.80860137939453,
          -49.570945739746094,
          -26.568038940429688,
          -22.564598083496094,
          -20.096336364746094,
          -8.1360445022583,
          -13.83165168762207,
          27.309768676757812,
          19.697118759155273,
          -26.71842384338379,
          -92.63723754882812,
          15.693944931030273,
          23.045957565307617,
          32.26408767700195,
          26.946718215942383,
          -62.354515075683594,
          -69.92930603027344,
          -55.685516357421875,
          -39.92612838745117,
          -44.08498001098633,
          -58.046791076660156,
          -53.94935989379883,
          -37.89743423461914,
          -36.33856201171875,
          -50.203819274902344,
          -20.37372398376465,
          5.129047393798828,
          -18.168296813964844,
          74.13516998291016,
          8.232693672180176,
          6.2535080909729,
          -4.908468246459961,
          -3.6204299926757812,
          87.0503158569336,
          24.5047607421875,
          13.01379680633545,
          -64.61619567871094,
          -27.682424545288086,
          -30.124225616455078,
          79.33081817626953,
          -84.45012664794922,
          74.35999298095703,
          11.507071495056152,
          68.87928771972656,
          -5.589400291442871,
          -12.307987213134766,
          -15.761497497558594,
          77.8664779663086,
          -51.04277801513672,
          -47.01464080810547,
          -42.473487854003906,
          52.171363830566406,
          13.475444793701172,
          7.313310146331787,
          -57.61235046386719,
          12.743368148803711
         ],
         "y": [
          48.652923583984375,
          -10.7286958694458,
          4.940216064453125,
          41.18705368041992,
          1.5384583473205566,
          3.999483108520508,
          8.300734519958496,
          14.641256332397461,
          -33.109397888183594,
          0.42186063528060913,
          12.945389747619629,
          -11.030075073242188,
          -1.1169954538345337,
          -5.960022926330566,
          4.243607521057129,
          5.14006233215332,
          20.842239379882812,
          27.264432907104492,
          29.8155460357666,
          -33.54764938354492,
          32.36695861816406,
          37.42689514160156,
          40.13917541503906,
          22.766801834106445,
          29.55475425720215,
          1.897904634475708,
          60.749656677246094,
          65.82859802246094,
          -95.15801239013672,
          22.345598220825195,
          -24.476049423217773,
          -15.94674301147461,
          -22.390522003173828,
          -12.750982284545898,
          9.349570274353027,
          14.769659042358398,
          20.891651153564453,
          -46.08574676513672,
          -9.488762855529785,
          -14.824284553527832,
          57.36518096923828,
          16.303977966308594,
          -7.415245056152344,
          -29.717119216918945,
          -3.135129690170288,
          -27.309581756591797,
          52.17689514160156,
          43.3134765625,
          28.94626235961914,
          3.5865681171417236,
          -2.1446571350097656,
          19.22449493408203,
          -22.859825134277344,
          39.13920593261719,
          46.22235107421875,
          -57.00536346435547,
          6.951787948608398
         ],
         "z": [
          4.789863109588623,
          -33.00383758544922,
          1.8162040710449219,
          -6.390556812286377,
          -45.45608901977539,
          -32.20655059814453,
          -42.275081634521484,
          -33.74872589111328,
          75.79264068603516,
          -63.429039001464844,
          88.64307403564453,
          19.499589920043945,
          -18.07552146911621,
          -31.051374435424805,
          -36.02672576904297,
          -25.42139434814453,
          43.10812759399414,
          48.301849365234375,
          29.501375198364258,
          24.151775360107422,
          3.4698328971862793,
          -29.556072235107422,
          -39.32053756713867,
          -16.844480514526367,
          -8.132668495178223,
          -28.373138427734375,
          15.516006469726562,
          -8.902249336242676,
          -15.379130363464355,
          -9.485933303833008,
          -8.72828483581543,
          -15.56197452545166,
          8.730737686157227,
          4.300652503967285,
          -53.35208511352539,
          -13.083109855651855,
          -9.617436408996582,
          40.969852447509766,
          -2.0444328784942627,
          6.985972881317139,
          -25.387393951416016,
          -7.76356315612793,
          30.356525421142578,
          -53.562904357910156,
          51.71023941040039,
          -65.91598510742188,
          -64.0219497680664,
          -68.99227905273438,
          34.25007247924805,
          15.204865455627441,
          29.887887954711914,
          74.3955078125,
          -70.07823181152344,
          -40.666568756103516,
          -35.38050842285156,
          -82.09651947021484,
          -93.00907135009766
         ]
        },
        {
         "hovertemplate": "cluster_ids=3<br>myx=%{x}<br>myy=%{y}<br>myz=%{z}<br>subject_ids=%{text}<extra></extra>",
         "legendgroup": "3",
         "marker": {
          "color": "purple",
          "symbol": "circle"
         },
         "mode": "markers+text",
         "name": "3",
         "scene": "scene",
         "showlegend": true,
         "text": [
          "p4",
          "p4",
          "p4",
          "p4",
          "p4",
          "p8",
          "p8",
          "p8",
          "p8",
          "p8",
          "p8",
          "p8",
          "p8"
         ],
         "type": "scatter3d",
         "x": [
          53.73564147949219,
          51.597999572753906,
          45.1715202331543,
          49.35508728027344,
          -27.866701126098633,
          58.59192657470703,
          46.26947784423828,
          20.709701538085938,
          65.75923156738281,
          66.59099578857422,
          -40.80775451660156,
          43.72616195678711,
          74.24097442626953
         ],
         "y": [
          29.919483184814453,
          38.78481674194336,
          37.74959182739258,
          15.989652633666992,
          73.71538543701172,
          -8.028840065002441,
          -9.003934860229492,
          -48.99028015136719,
          -28.439598083496094,
          -47.17073059082031,
          -30.060407638549805,
          -20.643598556518555,
          -38.39436340332031
         ],
         "z": [
          -51.246498107910156,
          -38.50651550292969,
          -48.678436279296875,
          -63.16725158691406,
          -20.362462997436523,
          3.0860157012939453,
          2.682499647140503,
          41.77394104003906,
          4.661565780639648,
          -12.798580169677734,
          65.53820037841797,
          2.19565749168396,
          0.4777567386627197
         ]
        }
       ],
       "layout": {
        "legend": {
         "title": {
          "text": "cluster_ids"
         },
         "tracegroupgap": 0,
         "x": 1.15,
         "xanchor": "left",
         "y": 0.5,
         "yanchor": "middle"
        },
        "scene": {
         "domain": {
          "x": [
           0,
           1
          ],
          "y": [
           0,
           1
          ]
         },
         "xaxis": {
          "title": {
           "text": "myx"
          }
         },
         "yaxis": {
          "title": {
           "text": "myy"
          }
         },
         "zaxis": {
          "title": {
           "text": "myz"
          }
         }
        },
        "template": {
         "data": {
          "bar": [
           {
            "error_x": {
             "color": "#2a3f5f"
            },
            "error_y": {
             "color": "#2a3f5f"
            },
            "marker": {
             "line": {
              "color": "#E5ECF6",
              "width": 0.5
             },
             "pattern": {
              "fillmode": "overlay",
              "size": 10,
              "solidity": 0.2
             }
            },
            "type": "bar"
           }
          ],
          "barpolar": [
           {
            "marker": {
             "line": {
              "color": "#E5ECF6",
              "width": 0.5
             },
             "pattern": {
              "fillmode": "overlay",
              "size": 10,
              "solidity": 0.2
             }
            },
            "type": "barpolar"
           }
          ],
          "carpet": [
           {
            "aaxis": {
             "endlinecolor": "#2a3f5f",
             "gridcolor": "white",
             "linecolor": "white",
             "minorgridcolor": "white",
             "startlinecolor": "#2a3f5f"
            },
            "baxis": {
             "endlinecolor": "#2a3f5f",
             "gridcolor": "white",
             "linecolor": "white",
             "minorgridcolor": "white",
             "startlinecolor": "#2a3f5f"
            },
            "type": "carpet"
           }
          ],
          "choropleth": [
           {
            "colorbar": {
             "outlinewidth": 0,
             "ticks": ""
            },
            "type": "choropleth"
           }
          ],
          "contour": [
           {
            "colorbar": {
             "outlinewidth": 0,
             "ticks": ""
            },
            "colorscale": [
             [
              0,
              "#0d0887"
             ],
             [
              0.1111111111111111,
              "#46039f"
             ],
             [
              0.2222222222222222,
              "#7201a8"
             ],
             [
              0.3333333333333333,
              "#9c179e"
             ],
             [
              0.4444444444444444,
              "#bd3786"
             ],
             [
              0.5555555555555556,
              "#d8576b"
             ],
             [
              0.6666666666666666,
              "#ed7953"
             ],
             [
              0.7777777777777778,
              "#fb9f3a"
             ],
             [
              0.8888888888888888,
              "#fdca26"
             ],
             [
              1,
              "#f0f921"
             ]
            ],
            "type": "contour"
           }
          ],
          "contourcarpet": [
           {
            "colorbar": {
             "outlinewidth": 0,
             "ticks": ""
            },
            "type": "contourcarpet"
           }
          ],
          "heatmap": [
           {
            "colorbar": {
             "outlinewidth": 0,
             "ticks": ""
            },
            "colorscale": [
             [
              0,
              "#0d0887"
             ],
             [
              0.1111111111111111,
              "#46039f"
             ],
             [
              0.2222222222222222,
              "#7201a8"
             ],
             [
              0.3333333333333333,
              "#9c179e"
             ],
             [
              0.4444444444444444,
              "#bd3786"
             ],
             [
              0.5555555555555556,
              "#d8576b"
             ],
             [
              0.6666666666666666,
              "#ed7953"
             ],
             [
              0.7777777777777778,
              "#fb9f3a"
             ],
             [
              0.8888888888888888,
              "#fdca26"
             ],
             [
              1,
              "#f0f921"
             ]
            ],
            "type": "heatmap"
           }
          ],
          "heatmapgl": [
           {
            "colorbar": {
             "outlinewidth": 0,
             "ticks": ""
            },
            "colorscale": [
             [
              0,
              "#0d0887"
             ],
             [
              0.1111111111111111,
              "#46039f"
             ],
             [
              0.2222222222222222,
              "#7201a8"
             ],
             [
              0.3333333333333333,
              "#9c179e"
             ],
             [
              0.4444444444444444,
              "#bd3786"
             ],
             [
              0.5555555555555556,
              "#d8576b"
             ],
             [
              0.6666666666666666,
              "#ed7953"
             ],
             [
              0.7777777777777778,
              "#fb9f3a"
             ],
             [
              0.8888888888888888,
              "#fdca26"
             ],
             [
              1,
              "#f0f921"
             ]
            ],
            "type": "heatmapgl"
           }
          ],
          "histogram": [
           {
            "marker": {
             "pattern": {
              "fillmode": "overlay",
              "size": 10,
              "solidity": 0.2
             }
            },
            "type": "histogram"
           }
          ],
          "histogram2d": [
           {
            "colorbar": {
             "outlinewidth": 0,
             "ticks": ""
            },
            "colorscale": [
             [
              0,
              "#0d0887"
             ],
             [
              0.1111111111111111,
              "#46039f"
             ],
             [
              0.2222222222222222,
              "#7201a8"
             ],
             [
              0.3333333333333333,
              "#9c179e"
             ],
             [
              0.4444444444444444,
              "#bd3786"
             ],
             [
              0.5555555555555556,
              "#d8576b"
             ],
             [
              0.6666666666666666,
              "#ed7953"
             ],
             [
              0.7777777777777778,
              "#fb9f3a"
             ],
             [
              0.8888888888888888,
              "#fdca26"
             ],
             [
              1,
              "#f0f921"
             ]
            ],
            "type": "histogram2d"
           }
          ],
          "histogram2dcontour": [
           {
            "colorbar": {
             "outlinewidth": 0,
             "ticks": ""
            },
            "colorscale": [
             [
              0,
              "#0d0887"
             ],
             [
              0.1111111111111111,
              "#46039f"
             ],
             [
              0.2222222222222222,
              "#7201a8"
             ],
             [
              0.3333333333333333,
              "#9c179e"
             ],
             [
              0.4444444444444444,
              "#bd3786"
             ],
             [
              0.5555555555555556,
              "#d8576b"
             ],
             [
              0.6666666666666666,
              "#ed7953"
             ],
             [
              0.7777777777777778,
              "#fb9f3a"
             ],
             [
              0.8888888888888888,
              "#fdca26"
             ],
             [
              1,
              "#f0f921"
             ]
            ],
            "type": "histogram2dcontour"
           }
          ],
          "mesh3d": [
           {
            "colorbar": {
             "outlinewidth": 0,
             "ticks": ""
            },
            "type": "mesh3d"
           }
          ],
          "parcoords": [
           {
            "line": {
             "colorbar": {
              "outlinewidth": 0,
              "ticks": ""
             }
            },
            "type": "parcoords"
           }
          ],
          "pie": [
           {
            "automargin": true,
            "type": "pie"
           }
          ],
          "scatter": [
           {
            "fillpattern": {
             "fillmode": "overlay",
             "size": 10,
             "solidity": 0.2
            },
            "type": "scatter"
           }
          ],
          "scatter3d": [
           {
            "line": {
             "colorbar": {
              "outlinewidth": 0,
              "ticks": ""
             }
            },
            "marker": {
             "colorbar": {
              "outlinewidth": 0,
              "ticks": ""
             }
            },
            "type": "scatter3d"
           }
          ],
          "scattercarpet": [
           {
            "marker": {
             "colorbar": {
              "outlinewidth": 0,
              "ticks": ""
             }
            },
            "type": "scattercarpet"
           }
          ],
          "scattergeo": [
           {
            "marker": {
             "colorbar": {
              "outlinewidth": 0,
              "ticks": ""
             }
            },
            "type": "scattergeo"
           }
          ],
          "scattergl": [
           {
            "marker": {
             "colorbar": {
              "outlinewidth": 0,
              "ticks": ""
             }
            },
            "type": "scattergl"
           }
          ],
          "scattermapbox": [
           {
            "marker": {
             "colorbar": {
              "outlinewidth": 0,
              "ticks": ""
             }
            },
            "type": "scattermapbox"
           }
          ],
          "scatterpolar": [
           {
            "marker": {
             "colorbar": {
              "outlinewidth": 0,
              "ticks": ""
             }
            },
            "type": "scatterpolar"
           }
          ],
          "scatterpolargl": [
           {
            "marker": {
             "colorbar": {
              "outlinewidth": 0,
              "ticks": ""
             }
            },
            "type": "scatterpolargl"
           }
          ],
          "scatterternary": [
           {
            "marker": {
             "colorbar": {
              "outlinewidth": 0,
              "ticks": ""
             }
            },
            "type": "scatterternary"
           }
          ],
          "surface": [
           {
            "colorbar": {
             "outlinewidth": 0,
             "ticks": ""
            },
            "colorscale": [
             [
              0,
              "#0d0887"
             ],
             [
              0.1111111111111111,
              "#46039f"
             ],
             [
              0.2222222222222222,
              "#7201a8"
             ],
             [
              0.3333333333333333,
              "#9c179e"
             ],
             [
              0.4444444444444444,
              "#bd3786"
             ],
             [
              0.5555555555555556,
              "#d8576b"
             ],
             [
              0.6666666666666666,
              "#ed7953"
             ],
             [
              0.7777777777777778,
              "#fb9f3a"
             ],
             [
              0.8888888888888888,
              "#fdca26"
             ],
             [
              1,
              "#f0f921"
             ]
            ],
            "type": "surface"
           }
          ],
          "table": [
           {
            "cells": {
             "fill": {
              "color": "#EBF0F8"
             },
             "line": {
              "color": "white"
             }
            },
            "header": {
             "fill": {
              "color": "#C8D4E3"
             },
             "line": {
              "color": "white"
             }
            },
            "type": "table"
           }
          ]
         },
         "layout": {
          "annotationdefaults": {
           "arrowcolor": "#2a3f5f",
           "arrowhead": 0,
           "arrowwidth": 1
          },
          "autotypenumbers": "strict",
          "coloraxis": {
           "colorbar": {
            "outlinewidth": 0,
            "ticks": ""
           }
          },
          "colorscale": {
           "diverging": [
            [
             0,
             "#8e0152"
            ],
            [
             0.1,
             "#c51b7d"
            ],
            [
             0.2,
             "#de77ae"
            ],
            [
             0.3,
             "#f1b6da"
            ],
            [
             0.4,
             "#fde0ef"
            ],
            [
             0.5,
             "#f7f7f7"
            ],
            [
             0.6,
             "#e6f5d0"
            ],
            [
             0.7,
             "#b8e186"
            ],
            [
             0.8,
             "#7fbc41"
            ],
            [
             0.9,
             "#4d9221"
            ],
            [
             1,
             "#276419"
            ]
           ],
           "sequential": [
            [
             0,
             "#0d0887"
            ],
            [
             0.1111111111111111,
             "#46039f"
            ],
            [
             0.2222222222222222,
             "#7201a8"
            ],
            [
             0.3333333333333333,
             "#9c179e"
            ],
            [
             0.4444444444444444,
             "#bd3786"
            ],
            [
             0.5555555555555556,
             "#d8576b"
            ],
            [
             0.6666666666666666,
             "#ed7953"
            ],
            [
             0.7777777777777778,
             "#fb9f3a"
            ],
            [
             0.8888888888888888,
             "#fdca26"
            ],
            [
             1,
             "#f0f921"
            ]
           ],
           "sequentialminus": [
            [
             0,
             "#0d0887"
            ],
            [
             0.1111111111111111,
             "#46039f"
            ],
            [
             0.2222222222222222,
             "#7201a8"
            ],
            [
             0.3333333333333333,
             "#9c179e"
            ],
            [
             0.4444444444444444,
             "#bd3786"
            ],
            [
             0.5555555555555556,
             "#d8576b"
            ],
            [
             0.6666666666666666,
             "#ed7953"
            ],
            [
             0.7777777777777778,
             "#fb9f3a"
            ],
            [
             0.8888888888888888,
             "#fdca26"
            ],
            [
             1,
             "#f0f921"
            ]
           ]
          },
          "colorway": [
           "#636efa",
           "#EF553B",
           "#00cc96",
           "#ab63fa",
           "#FFA15A",
           "#19d3f3",
           "#FF6692",
           "#B6E880",
           "#FF97FF",
           "#FECB52"
          ],
          "font": {
           "color": "#2a3f5f"
          },
          "geo": {
           "bgcolor": "white",
           "lakecolor": "white",
           "landcolor": "#E5ECF6",
           "showlakes": true,
           "showland": true,
           "subunitcolor": "white"
          },
          "hoverlabel": {
           "align": "left"
          },
          "hovermode": "closest",
          "mapbox": {
           "style": "light"
          },
          "paper_bgcolor": "white",
          "plot_bgcolor": "#E5ECF6",
          "polar": {
           "angularaxis": {
            "gridcolor": "white",
            "linecolor": "white",
            "ticks": ""
           },
           "bgcolor": "#E5ECF6",
           "radialaxis": {
            "gridcolor": "white",
            "linecolor": "white",
            "ticks": ""
           }
          },
          "scene": {
           "xaxis": {
            "backgroundcolor": "#E5ECF6",
            "gridcolor": "white",
            "gridwidth": 2,
            "linecolor": "white",
            "showbackground": true,
            "ticks": "",
            "zerolinecolor": "white"
           },
           "yaxis": {
            "backgroundcolor": "#E5ECF6",
            "gridcolor": "white",
            "gridwidth": 2,
            "linecolor": "white",
            "showbackground": true,
            "ticks": "",
            "zerolinecolor": "white"
           },
           "zaxis": {
            "backgroundcolor": "#E5ECF6",
            "gridcolor": "white",
            "gridwidth": 2,
            "linecolor": "white",
            "showbackground": true,
            "ticks": "",
            "zerolinecolor": "white"
           }
          },
          "shapedefaults": {
           "line": {
            "color": "#2a3f5f"
           }
          },
          "ternary": {
           "aaxis": {
            "gridcolor": "white",
            "linecolor": "white",
            "ticks": ""
           },
           "baxis": {
            "gridcolor": "white",
            "linecolor": "white",
            "ticks": ""
           },
           "bgcolor": "#E5ECF6",
           "caxis": {
            "gridcolor": "white",
            "linecolor": "white",
            "ticks": ""
           }
          },
          "title": {
           "x": 0.05
          },
          "xaxis": {
           "automargin": true,
           "gridcolor": "white",
           "linecolor": "white",
           "ticks": "",
           "title": {
            "standoff": 15
           },
           "zerolinecolor": "white",
           "zerolinewidth": 2
          },
          "yaxis": {
           "automargin": true,
           "gridcolor": "white",
           "linecolor": "white",
           "ticks": "",
           "title": {
            "standoff": 15
           },
           "zerolinecolor": "white",
           "zerolinewidth": 2
          }
         }
        },
        "title": {
         "text": "Open: 3D t-SNE for K-means"
        }
       }
      }
     },
     "metadata": {},
     "output_type": "display_data"
    }
   ],
   "source": [
    "unique_clusters = sorted(data_tsne['cluster_ids'].unique())\n",
    "# palette = px.colors.qualitative.Plotly \n",
    "color_map = {\n",
    "    \"0\": \"red\",   \n",
    "    \"1\": \"blue\",   \n",
    "    \"2\": \"green\",  \n",
    "    \"3\": \"purple\" \n",
    "}\n",
    "\n",
    "# color_map = {str(cluster): palette[i % len(palette)] for i, cluster in enumerate(unique_clusters)}\n",
    "\n",
    "fig = px.scatter_3d(data_tsne,\n",
    "                    x='myx', y='myy', z='myz',\n",
    "                    color='cluster_ids',\n",
    "                    text='subject_ids',\n",
    "                    title='Open: 3D t-SNE for K-means', \n",
    "                    color_discrete_map=color_map,\n",
    "                    category_orders={'cluster_ids': unique_clusters},\n",
    ")\n",
    "fig.update_layout(\n",
    "    legend=dict(\n",
    "        x=1.15,\n",
    "        y=0.5, \n",
    "        xanchor='left',\n",
    "        yanchor='middle' \n",
    "    )\n",
    ")\n",
    "\n",
    "fig.show()\n",
    "fig.write_html('open.html')"
   ]
  },
  {
   "cell_type": "code",
   "execution_count": 268,
   "metadata": {},
   "outputs": [],
   "source": [
    "# frames = []\n",
    "# for i in range(0, 360, 1):\n",
    "#     camera = dict(\n",
    "#         eye=dict(x=2*np.cos(np.radians(i)), y=2*np.sin(np.radians(i)), z=1.25)\n",
    "#     )\n",
    "#     frames.append(go.Frame(layout=dict(scene_camera=camera)))\n",
    "\n",
    "# fig.frames = frames\n",
    "\n",
    "# fig.update_layout(\n",
    "#     updatemenus=[dict(\n",
    "#         type=\"buttons\",\n",
    "#         buttons=[dict(\n",
    "#             label=\"Play\",\n",
    "#             method=\"animate\",\n",
    "#             # args=[None, dict(frame=dict(duration=10, redraw=True), fromcurrent=True, transition=dict(duration=0))]\n",
    "#             args=[None, dict(\n",
    "#                 frame=dict(duration=5, redraw=False),  # Minimal frame duration, disable redraw\n",
    "#                 fromcurrent=True,\n",
    "#                 transition=dict(duration=0),  # No transition delay\n",
    "#                 easing=\"linear\"  # Keep easing linear for smoothness\n",
    "#             )]\n",
    "#         )]\n",
    "#     )]\n",
    "# )\n",
    "# fig.write_html('testtest.html')"
   ]
  },
  {
   "cell_type": "code",
   "execution_count": 269,
   "metadata": {},
   "outputs": [
    {
     "data": {
      "image/png": "[encoded data removed]",
      "text/plain": [
       "<Figure size 1000x100 with 2 Axes>"
      ]
     },
     "metadata": {},
     "output_type": "display_data"
    },
    {
     "data": {
      "image/png": "[encoded data removed]",
      "text/plain": [
       "<Figure size 1000x100 with 2 Axes>"
      ]
     },
     "metadata": {},
     "output_type": "display_data"
    },
    {
     "data": {
      "image/png": "[encoded data removed]",
      "text/plain": [
       "<Figure size 1000x100 with 2 Axes>"
      ]
     },
     "metadata": {},
     "output_type": "display_data"
    },
    {
     "data": {
      "image/png": "[encoded data removed]",
      "text/plain": [
       "<Figure size 1000x100 with 2 Axes>"
      ]
     },
     "metadata": {},
     "output_type": "display_data"
    }
   ],
   "source": [
    "for i in range(len(kmeans.cluster_centers_)):\n",
    "    cmap = LinearSegmentedColormap.from_list(\"white_to_color\", [\"white\", color_map[str(i)]])\n",
    "    cluster_center = kmeans.cluster_centers_[i]\n",
    "    plot_one_class_coactivation_map(cluster_center, title='Cluster ' + str(i), label='relax', cmap=cmap)"
   ]
  },
  {
   "cell_type": "markdown",
   "metadata": {},
   "source": [
    "## closed"
   ]
  },
  {
   "cell_type": "code",
   "execution_count": 270,
   "metadata": {},
   "outputs": [],
   "source": [
    "X = df.iloc[:,16:24].values"
   ]
  },
  {
   "cell_type": "code",
   "execution_count": 271,
   "metadata": {},
   "outputs": [
    {
     "data": {
      "image/png": "[encoded data removed]",
      "text/plain": [
       "<Figure size 800x500 with 1 Axes>"
      ]
     },
     "metadata": {},
     "output_type": "display_data"
    }
   ],
   "source": [
    "# elbow method\n",
    "wcss = []\n",
    "for k in range(1, 11):\n",
    "    kmeans = KMeans(n_clusters=k, random_state=42)\n",
    "    kmeans.fit(X)\n",
    "    wcss.append(kmeans.inertia_)\n",
    "\n",
    "plt.figure(figsize=(8, 5))\n",
    "plt.plot(range(1, 11), wcss, marker='o')\n",
    "plt.title('elbow')\n",
    "plt.xlabel('k')\n",
    "plt.ylabel('wcss')\n",
    "plt.show()"
   ]
  },
  {
   "cell_type": "code",
   "execution_count": 272,
   "metadata": {},
   "outputs": [
    {
     "data": {
      "image/png": "[encoded data removed]",
      "text/plain": [
       "<Figure size 1000x600 with 1 Axes>"
      ]
     },
     "metadata": {},
     "output_type": "display_data"
    }
   ],
   "source": [
    "silhouette_scores = []\n",
    "for k in range(2, 11):  # Silhouette score is not defined for k=1\n",
    "    kmeans = KMeans(n_clusters=k, random_state=42)\n",
    "    labels = kmeans.fit_predict(X)\n",
    "    silhouette_avg = silhouette_score(X, labels)\n",
    "    silhouette_scores.append(silhouette_avg)\n",
    "\n",
    "# Plot silhouette scores\n",
    "plt.figure(figsize=(10, 6))\n",
    "plt.plot(range(2, 11), silhouette_scores, marker='o')\n",
    "plt.title('silhouette')\n",
    "plt.xlabel('k')\n",
    "plt.ylabel('silhouette score')\n",
    "plt.xticks(range(2, 11))\n",
    "plt.grid(True)\n",
    "plt.show()"
   ]
  },
  {
   "cell_type": "markdown",
   "metadata": {},
   "source": [
    "# k-means"
   ]
  },
  {
   "cell_type": "code",
   "execution_count": 273,
   "metadata": {},
   "outputs": [
    {
     "name": "stdout",
     "output_type": "stream",
     "text": [
      "Cluster Centers:\n",
      " [[0.31098563 0.21420046 0.17507059 0.23175333 0.0696093  0.06021559\n",
      "  0.23179854 0.32690562]\n",
      " [0.34589121 0.50866407 0.21130995 0.3195308  0.35603098 0.29003973\n",
      "  0.18813244 0.19524467]\n",
      " [0.19284018 0.17273224 0.16571914 0.15893589 0.07422318 0.04767719\n",
      "  0.09160431 0.10432354]\n",
      " [0.17903209 0.31576552 0.45512163 0.24312703 0.17934306 0.12542328\n",
      "  0.15420029 0.2453086 ]]\n"
     ]
    }
   ],
   "source": [
    "kmeans = KMeans(n_clusters=n_clusters,         # Number of clusters\n",
    "                 init='k-means++',    # Centroid initialization\n",
    "                 max_iter=300,        # Maximum iterations\n",
    "                 n_init=10,           # Number of initializations\n",
    "                 tol=1e-4,    \n",
    "                 random_state=42,    \n",
    "                 algorithm='lloyd')\n",
    "df['cluster'] = kmeans.fit_predict(X)\n",
    "kmeans.fit(X)\n",
    "\n",
    "labels = kmeans.predict(X)\n",
    "\n",
    "print(\"Cluster Centers:\\n\", kmeans.cluster_centers_)"
   ]
  },
  {
   "cell_type": "code",
   "execution_count": 274,
   "metadata": {},
   "outputs": [
    {
     "data": {
      "text/plain": [
       "cluster\n",
       "2    65\n",
       "3    22\n",
       "0    21\n",
       "1    13\n",
       "Name: count, dtype: int64"
      ]
     },
     "execution_count": 274,
     "metadata": {},
     "output_type": "execute_result"
    }
   ],
   "source": [
    "df['cluster'].value_counts()"
   ]
  },
  {
   "cell_type": "code",
   "execution_count": 275,
   "metadata": {},
   "outputs": [
    {
     "name": "stderr",
     "output_type": "stream",
     "text": [
      "/var/folders/yd/vqpl9gqn5nqfzr41g9_g0t940000gq/T/ipykernel_32655/1772303394.py:1: DeprecationWarning:\n",
      "\n",
      "DataFrameGroupBy.apply operated on the grouping columns. This behavior is deprecated, and in a future version of pandas the grouping columns will be excluded from the operation. Either pass `include_groups=False` to exclude the groupings or explicitly select the grouping columns after groupby to silence this warning.\n",
      "\n"
     ]
    },
    {
     "data": {
      "text/html": [
       "<div>\n",
       "<style scoped>\n",
       "    .dataframe tbody tr th:only-of-type {\n",
       "        vertical-align: middle;\n",
       "    }\n",
       "\n",
       "    .dataframe tbody tr th {\n",
       "        vertical-align: top;\n",
       "    }\n",
       "\n",
       "    .dataframe thead th {\n",
       "        text-align: right;\n",
       "    }\n",
       "</style>\n",
       "<table border=\"1\" class=\"dataframe\">\n",
       "  <thead>\n",
       "    <tr style=\"text-align: right;\">\n",
       "      <th></th>\n",
       "      <th>0</th>\n",
       "    </tr>\n",
       "    <tr>\n",
       "      <th>cluster</th>\n",
       "      <th></th>\n",
       "    </tr>\n",
       "  </thead>\n",
       "  <tbody>\n",
       "    <tr>\n",
       "      <th>0</th>\n",
       "      <td>[ac, as, is, jp, p7, ts, wx]</td>\n",
       "    </tr>\n",
       "    <tr>\n",
       "      <th>1</th>\n",
       "      <td>[p4]</td>\n",
       "    </tr>\n",
       "    <tr>\n",
       "      <th>2</th>\n",
       "      <td>[03, ae, as, cl, dy, fa, gk, hr, im, is, jo, j...</td>\n",
       "    </tr>\n",
       "    <tr>\n",
       "      <th>3</th>\n",
       "      <td>[jo, p1, p3, p7, p8]</td>\n",
       "    </tr>\n",
       "  </tbody>\n",
       "</table>\n",
       "</div>"
      ],
      "text/plain": [
       "                                                         0\n",
       "cluster                                                   \n",
       "0                             [ac, as, is, jp, p7, ts, wx]\n",
       "1                                                     [p4]\n",
       "2        [03, ae, as, cl, dy, fa, gk, hr, im, is, jo, j...\n",
       "3                                     [jo, p1, p3, p7, p8]"
      ]
     },
     "execution_count": 275,
     "metadata": {},
     "output_type": "execute_result"
    }
   ],
   "source": [
    "pd.DataFrame(df.groupby('cluster').apply(lambda x: np.unique(x.subject_id)))"
   ]
  },
  {
   "cell_type": "code",
   "execution_count": 276,
   "metadata": {},
   "outputs": [
    {
     "name": "stderr",
     "output_type": "stream",
     "text": [
      "/var/folders/yd/vqpl9gqn5nqfzr41g9_g0t940000gq/T/ipykernel_32655/1655693180.py:1: DeprecationWarning:\n",
      "\n",
      "DataFrameGroupBy.apply operated on the grouping columns. This behavior is deprecated, and in a future version of pandas the grouping columns will be excluded from the operation. Either pass `include_groups=False` to exclude the groupings or explicitly select the grouping columns after groupby to silence this warning.\n",
      "\n"
     ]
    },
    {
     "data": {
      "text/plain": [
       "'[array([03, ae, as, cl, dy, fa, gk, hr, im, is, jo,\\n        jp, p1, p3, p4, p7, p8, si, xw, yc], dtype=object)]'"
      ]
     },
     "execution_count": 276,
     "metadata": {},
     "output_type": "execute_result"
    }
   ],
   "source": [
    "str(pd.DataFrame(df.groupby('cluster').apply(lambda x: np.unique(x.subject_id))).iloc[2].to_numpy()).replace(\"'\",\"\")"
   ]
  },
  {
   "cell_type": "code",
   "execution_count": 277,
   "metadata": {},
   "outputs": [],
   "source": [
    "tsne_input = df.iloc[:,:24].to_numpy()\n",
    "data_tsne = TSNE(n_components=3, learning_rate='auto', init='random', perplexity=3).fit_transform(tsne_input)\n",
    "data_tsne = pd.DataFrame(data_tsne, columns=['myx', 'myy', 'myz'])\n",
    "data_tsne['cluster_ids'] = df['cluster'].to_numpy().astype(str)\n",
    "data_tsne['subject_ids'] = df['subject_id'].to_numpy()\n"
   ]
  },
  {
   "cell_type": "code",
   "execution_count": 278,
   "metadata": {},
   "outputs": [
    {
     "data": {
      "application/vnd.plotly.v1+json": {
       "config": {
        "plotlyServerURL": "https://plot.ly"
       },
       "data": [
        {
         "hovertemplate": "cluster_ids=0<br>myx=%{x}<br>myy=%{y}<br>myz=%{z}<br>subject_ids=%{text}<extra></extra>",
         "legendgroup": "0",
         "marker": {
          "color": "red",
          "symbol": "circle"
         },
         "mode": "markers+text",
         "name": "0",
         "scene": "scene",
         "showlegend": true,
         "text": [
          "as",
          "as",
          "ts",
          "ts",
          "ts",
          "ts",
          "p7",
          "p7",
          "p7",
          "p7",
          "jp",
          "wx",
          "wx",
          "wx",
          "wx",
          "ac",
          "ac",
          "ac",
          "ac",
          "is",
          "is"
         ],
         "type": "scatter3d",
         "x": [
          -11.779094696044922,
          -14.105661392211914,
          -4.14962100982666,
          -1.775539755821228,
          6.964972496032715,
          -0.3074686825275421,
          45.17702102661133,
          36.9079704284668,
          57.536048889160156,
          51.25559997558594,
          10.399202346801758,
          -44.632667541503906,
          -17.112323760986328,
          -39.10728454589844,
          -41.050106048583984,
          50.896121978759766,
          46.50914764404297,
          30.930496215820312,
          -27.754776000976562,
          5.540988922119141,
          7.626433849334717
         ],
         "y": [
          59.53794860839844,
          -32.98979568481445,
          30.074127197265625,
          35.21440505981445,
          34.46853256225586,
          38.17292785644531,
          -27.294946670532227,
          -34.250919342041016,
          -20.7332820892334,
          -20.799394607543945,
          51.7620849609375,
          52.94664001464844,
          -41.76626968383789,
          55.48686981201172,
          57.43513488769531,
          19.753637313842773,
          26.1116886138916,
          27.772403717041016,
          9.55932903289795,
          57.9550895690918,
          -38.12047576904297
         ],
         "z": [
          -42.11189270019531,
          44.65397644042969,
          47.372276306152344,
          39.723304748535156,
          48.46317672729492,
          50.546661376953125,
          14.365169525146484,
          10.779852867126465,
          4.690712928771973,
          0.06460724771022797,
          11.061518669128418,
          12.849050521850586,
          -44.837425231933594,
          34.7962532043457,
          27.40238380432129,
          13.232410430908203,
          11.99569034576416,
          10.9539155960083,
          54.48969650268555,
          -25.512117385864258,
          48.47101974487305
         ]
        },
        {
         "hovertemplate": "cluster_ids=1<br>myx=%{x}<br>myy=%{y}<br>myz=%{z}<br>subject_ids=%{text}<extra></extra>",
         "legendgroup": "1",
         "marker": {
          "color": "blue",
          "symbol": "circle"
         },
         "mode": "markers+text",
         "name": "1",
         "scene": "scene",
         "showlegend": true,
         "text": [
          "p4",
          "p4",
          "p4",
          "p4",
          "p4",
          "p4",
          "p4",
          "p4",
          "p4",
          "p4",
          "p4",
          "p4",
          "p4"
         ],
         "type": "scatter3d",
         "x": [
          -41.50528335571289,
          -39.05718994140625,
          -41.76591873168945,
          -47.39799118041992,
          54.78232192993164,
          12.280786514282227,
          14.398666381835938,
          7.349750518798828,
          17.422441482543945,
          17.79100227355957,
          -4.833646774291992,
          1.2948920726776123,
          25.61631202697754
         ],
         "y": [
          -4.593379974365234,
          0.8549631834030151,
          -7.247416973114014,
          -1.9075819253921509,
          -24.50564193725586,
          7.743563175201416,
          0.02956961840391159,
          -10.725606918334961,
          5.295267105102539,
          15.216442108154297,
          -0.9233177900314331,
          -3.9714033603668213,
          12.08037281036377
         ],
         "z": [
          21.168882369995117,
          30.605121612548828,
          29.23090171813965,
          9.598615646362305,
          45.92790603637695,
          39.023075103759766,
          45.901615142822266,
          50.68482971191406,
          32.411231994628906,
          31.99072265625,
          58.811771392822266,
          54.69811248779297,
          35.182621002197266
         ]
        },
        {
         "hovertemplate": "cluster_ids=2<br>myx=%{x}<br>myy=%{y}<br>myz=%{z}<br>subject_ids=%{text}<extra></extra>",
         "legendgroup": "2",
         "marker": {
          "color": "green",
          "symbol": "circle"
         },
         "mode": "markers+text",
         "name": "2",
         "scene": "scene",
         "showlegend": true,
         "text": [
          "fa",
          "fa",
          "fa",
          "fa",
          "xw",
          "xw",
          "xw",
          "xw",
          "ae",
          "ae",
          "ae",
          "ae",
          "hr",
          "hr",
          "hr",
          "hr",
          "as",
          "as",
          "p3",
          "cl",
          "cl",
          "cl",
          "cl",
          "p1",
          "dy",
          "dy",
          "dy",
          "dy",
          "p4",
          "im",
          "im",
          "im",
          "im",
          "si",
          "si",
          "si",
          "si",
          "p8",
          "p8",
          "p8",
          "gk",
          "gk",
          "gk",
          "gk",
          "jo",
          "jo",
          "p3",
          "p3",
          "p7",
          "jp",
          "jp",
          "jp",
          "03",
          "03",
          "p4",
          "p1",
          "p1",
          "p1",
          "yc",
          "yc",
          "yc",
          "yc",
          "yc",
          "is",
          "is"
         ],
         "type": "scatter3d",
         "x": [
          -12.480710983276367,
          -5.863981246948242,
          -11.213384628295898,
          -9.868172645568848,
          1.8575129508972168,
          3.9486985206604004,
          -1.6374809741973877,
          -2.9990553855895996,
          40.153358459472656,
          35.79343032836914,
          45.72819900512695,
          44.050270080566406,
          12.984273910522461,
          8.650601387023926,
          19.064720153808594,
          16.192893981933594,
          -36.321388244628906,
          5.1457014083862305,
          -26.235074996948242,
          -23.66914176940918,
          -21.538827896118164,
          -12.787012100219727,
          -14.61557674407959,
          22.140501022338867,
          22.85614585876465,
          19.49941062927246,
          -44.20424270629883,
          21.79020118713379,
          -4.500743389129639,
          -6.149507522583008,
          -17.64771270751953,
          10.700796127319336,
          17.925506591796875,
          -14.800004959106445,
          -13.56075382232666,
          -0.926339864730835,
          -0.41131120920181274,
          23.76044273376465,
          20.229454040527344,
          25.274106979370117,
          -24.560394287109375,
          -26.632802963256836,
          -29.471349716186523,
          -27.90520477294922,
          22.84544563293457,
          -30.047779083251953,
          -24.12895393371582,
          -32.010284423828125,
          19.091447830200195,
          5.673436641693115,
          -1.201055645942688,
          5.1296281814575195,
          -26.04213523864746,
          -19.759756088256836,
          31.693416595458984,
          -10.990653038024902,
          14.670543670654297,
          -11.78939151763916,
          -20.194467544555664,
          -10.267619132995605,
          -13.616338729858398,
          15.28506851196289,
          -46.64236831665039,
          -41.48927688598633,
          -34.219200134277344
         ],
         "y": [
          -1.1845453977584839,
          -3.817077398300171,
          -8.711235046386719,
          -13.190213203430176,
          31.48663902282715,
          33.45124816894531,
          -8.267985343933105,
          5.6437201499938965,
          -36.33221435546875,
          -40.32117462158203,
          -25.795421600341797,
          -33.55915832519531,
          -2.239544153213501,
          -7.392768859863281,
          -11.532201766967773,
          -9.176392555236816,
          32.132320404052734,
          47.758445739746094,
          -36.243621826171875,
          36.506446838378906,
          46.79698944091797,
          46.753902435302734,
          40.71472930908203,
          -7.0427632331848145,
          18.81438446044922,
          16.949710845947266,
          20.16121482849121,
          21.79948616027832,
          -16.57818603515625,
          -17.174631118774414,
          -3.7395856380462646,
          -16.269657135009766,
          -14.365030288696289,
          9.886077880859375,
          4.693825721740723,
          14.767339706420898,
          9.620163917541504,
          -44.56521224975586,
          -38.74226379394531,
          -34.57255554199219,
          34.25511169433594,
          32.47290802001953,
          30.827926635742188,
          28.75836753845215,
          45.50050354003906,
          26.81692123413086,
          -25.96044921875,
          -35.9514274597168,
          -29.143524169921875,
          55.57095718383789,
          55.37382888793945,
          46.388973236083984,
          -42.619163513183594,
          -44.3746452331543,
          7.110043525695801,
          -26.746051788330078,
          -8.917736053466797,
          -21.989715576171875,
          2.30668044090271,
          -5.680386543273926,
          -0.18229500949382782,
          38.25643539428711,
          -71.0986099243164,
          -56.23398971557617,
          53.277652740478516
         ],
         "z": [
          3.5351948738098145,
          11.217823028564453,
          16.586322784423828,
          9.50429630279541,
          -37.1573371887207,
          -30.026447296142578,
          -51.39958572387695,
          -31.919490814208984,
          -26.957530975341797,
          -32.7044792175293,
          -39.09911346435547,
          -35.448429107666016,
          -62.66974639892578,
          -55.41587829589844,
          -58.76543045043945,
          -50.9853630065918,
          -51.79316711425781,
          -57.918907165527344,
          -11.460724830627441,
          -15.373391151428223,
          -19.04883575439453,
          -25.125350952148438,
          -19.50537872314453,
          -12.290371894836426,
          -38.897666931152344,
          -45.97795104980469,
          -13.105145454406738,
          -27.591726303100586,
          20.85797119140625,
          -48.161006927490234,
          -34.533180236816406,
          -24.68119239807129,
          -22.377025604248047,
          -24.728288650512695,
          -30.650991439819336,
          -16.14964485168457,
          -22.48676109313965,
          -4.527707576751709,
          1.0738259553909302,
          6.488516330718994,
          3.9215240478515625,
          -3.5253958702087402,
          23.512712478637695,
          16.2480411529541,
          -14.618236541748047,
          -27.130157470703125,
          -11.899383544921875,
          -16.729488372802734,
          10.938380241394043,
          1.5608487129211426,
          6.794262409210205,
          6.481042861938477,
          -3.0928990840911865,
          -12.748006820678711,
          40.65134048461914,
          -4.43049955368042,
          -9.542144775390625,
          3.7125191688537598,
          -61.0543098449707,
          -55.119102478027344,
          -64.5291748046875,
          -63.721683502197266,
          28.037220001220703,
          10.841120719909668,
          -40.439090728759766
         ]
        },
        {
         "hovertemplate": "cluster_ids=3<br>myx=%{x}<br>myy=%{y}<br>myz=%{z}<br>subject_ids=%{text}<extra></extra>",
         "legendgroup": "3",
         "marker": {
          "color": "purple",
          "symbol": "circle"
         },
         "mode": "markers+text",
         "name": "3",
         "scene": "scene",
         "showlegend": true,
         "text": [
          "p3",
          "p1",
          "p1",
          "p1",
          "p1",
          "p8",
          "p8",
          "p8",
          "p8",
          "p8",
          "jo",
          "jo",
          "p3",
          "p3",
          "p3",
          "p3",
          "p7",
          "p7",
          "p7",
          "p1",
          "p1",
          "p1"
         ],
         "type": "scatter3d",
         "x": [
          44.806488037109375,
          31.878772735595703,
          -4.770935535430908,
          -2.7528109550476074,
          -6.98403787612915,
          -63.95344543457031,
          -27.202058792114258,
          -59.65399932861328,
          -66.68525695800781,
          -65.94332122802734,
          45.222469329833984,
          43.166934967041016,
          -35.70467758178711,
          61.084049224853516,
          48.06422424316406,
          -29.54990005493164,
          46.92293930053711,
          47.213905334472656,
          42.12174987792969,
          24.62819480895996,
          31.449325561523438,
          -5.708895206451416
         ],
         "y": [
          10.40135383605957,
          1.3724589347839355,
          -52.58804702758789,
          -57.00542449951172,
          -62.039546966552734,
          -27.64178466796875,
          66.75553894042969,
          -37.71750259399414,
          -33.99147033691406,
          -38.411685943603516,
          42.05894470214844,
          47.465152740478516,
          -22.2956485748291,
          22.699909210205078,
          43.17819595336914,
          -17.725276947021484,
          -37.109657287597656,
          -46.85258865356445,
          -42.60426330566406,
          7.4898881912231445,
          4.104341983795166,
          -43.77859115600586
         ],
         "z": [
          39.31205749511719,
          -6.22675085067749,
          6.479842662811279,
          -0.47983911633491516,
          7.380325794219971,
          5.857818126678467,
          5.852402210235596,
          -7.8390913009643555,
          -10.10249137878418,
          3.087909698486328,
          7.208227157592773,
          2.0052390098571777,
          -21.303617477416992,
          -79.46281433105469,
          90.81888580322266,
          -15.882579803466797,
          20.676694869995117,
          24.1162166595459,
          16.797855377197266,
          3.642059326171875,
          4.507384300231934,
          8.756108283996582
         ]
        }
       ],
       "layout": {
        "legend": {
         "title": {
          "text": "cluster_ids"
         },
         "tracegroupgap": 0,
         "x": 1.15,
         "xanchor": "left",
         "y": 0.5,
         "yanchor": "middle"
        },
        "scene": {
         "domain": {
          "x": [
           0,
           1
          ],
          "y": [
           0,
           1
          ]
         },
         "xaxis": {
          "title": {
           "text": "myx"
          }
         },
         "yaxis": {
          "title": {
           "text": "myy"
          }
         },
         "zaxis": {
          "title": {
           "text": "myz"
          }
         }
        },
        "template": {
         "data": {
          "bar": [
           {
            "error_x": {
             "color": "#2a3f5f"
            },
            "error_y": {
             "color": "#2a3f5f"
            },
            "marker": {
             "line": {
              "color": "#E5ECF6",
              "width": 0.5
             },
             "pattern": {
              "fillmode": "overlay",
              "size": 10,
              "solidity": 0.2
             }
            },
            "type": "bar"
           }
          ],
          "barpolar": [
           {
            "marker": {
             "line": {
              "color": "#E5ECF6",
              "width": 0.5
             },
             "pattern": {
              "fillmode": "overlay",
              "size": 10,
              "solidity": 0.2
             }
            },
            "type": "barpolar"
           }
          ],
          "carpet": [
           {
            "aaxis": {
             "endlinecolor": "#2a3f5f",
             "gridcolor": "white",
             "linecolor": "white",
             "minorgridcolor": "white",
             "startlinecolor": "#2a3f5f"
            },
            "baxis": {
             "endlinecolor": "#2a3f5f",
             "gridcolor": "white",
             "linecolor": "white",
             "minorgridcolor": "white",
             "startlinecolor": "#2a3f5f"
            },
            "type": "carpet"
           }
          ],
          "choropleth": [
           {
            "colorbar": {
             "outlinewidth": 0,
             "ticks": ""
            },
            "type": "choropleth"
           }
          ],
          "contour": [
           {
            "colorbar": {
             "outlinewidth": 0,
             "ticks": ""
            },
            "colorscale": [
             [
              0,
              "#0d0887"
             ],
             [
              0.1111111111111111,
              "#46039f"
             ],
             [
              0.2222222222222222,
              "#7201a8"
             ],
             [
              0.3333333333333333,
              "#9c179e"
             ],
             [
              0.4444444444444444,
              "#bd3786"
             ],
             [
              0.5555555555555556,
              "#d8576b"
             ],
             [
              0.6666666666666666,
              "#ed7953"
             ],
             [
              0.7777777777777778,
              "#fb9f3a"
             ],
             [
              0.8888888888888888,
              "#fdca26"
             ],
             [
              1,
              "#f0f921"
             ]
            ],
            "type": "contour"
           }
          ],
          "contourcarpet": [
           {
            "colorbar": {
             "outlinewidth": 0,
             "ticks": ""
            },
            "type": "contourcarpet"
           }
          ],
          "heatmap": [
           {
            "colorbar": {
             "outlinewidth": 0,
             "ticks": ""
            },
            "colorscale": [
             [
              0,
              "#0d0887"
             ],
             [
              0.1111111111111111,
              "#46039f"
             ],
             [
              0.2222222222222222,
              "#7201a8"
             ],
             [
              0.3333333333333333,
              "#9c179e"
             ],
             [
              0.4444444444444444,
              "#bd3786"
             ],
             [
              0.5555555555555556,
              "#d8576b"
             ],
             [
              0.6666666666666666,
              "#ed7953"
             ],
             [
              0.7777777777777778,
              "#fb9f3a"
             ],
             [
              0.8888888888888888,
              "#fdca26"
             ],
             [
              1,
              "#f0f921"
             ]
            ],
            "type": "heatmap"
           }
          ],
          "heatmapgl": [
           {
            "colorbar": {
             "outlinewidth": 0,
             "ticks": ""
            },
            "colorscale": [
             [
              0,
              "#0d0887"
             ],
             [
              0.1111111111111111,
              "#46039f"
             ],
             [
              0.2222222222222222,
              "#7201a8"
             ],
             [
              0.3333333333333333,
              "#9c179e"
             ],
             [
              0.4444444444444444,
              "#bd3786"
             ],
             [
              0.5555555555555556,
              "#d8576b"
             ],
             [
              0.6666666666666666,
              "#ed7953"
             ],
             [
              0.7777777777777778,
              "#fb9f3a"
             ],
             [
              0.8888888888888888,
              "#fdca26"
             ],
             [
              1,
              "#f0f921"
             ]
            ],
            "type": "heatmapgl"
           }
          ],
          "histogram": [
           {
            "marker": {
             "pattern": {
              "fillmode": "overlay",
              "size": 10,
              "solidity": 0.2
             }
            },
            "type": "histogram"
           }
          ],
          "histogram2d": [
           {
            "colorbar": {
             "outlinewidth": 0,
             "ticks": ""
            },
            "colorscale": [
             [
              0,
              "#0d0887"
             ],
             [
              0.1111111111111111,
              "#46039f"
             ],
             [
              0.2222222222222222,
              "#7201a8"
             ],
             [
              0.3333333333333333,
              "#9c179e"
             ],
             [
              0.4444444444444444,
              "#bd3786"
             ],
             [
              0.5555555555555556,
              "#d8576b"
             ],
             [
              0.6666666666666666,
              "#ed7953"
             ],
             [
              0.7777777777777778,
              "#fb9f3a"
             ],
             [
              0.8888888888888888,
              "#fdca26"
             ],
             [
              1,
              "#f0f921"
             ]
            ],
            "type": "histogram2d"
           }
          ],
          "histogram2dcontour": [
           {
            "colorbar": {
             "outlinewidth": 0,
             "ticks": ""
            },
            "colorscale": [
             [
              0,
              "#0d0887"
             ],
             [
              0.1111111111111111,
              "#46039f"
             ],
             [
              0.2222222222222222,
              "#7201a8"
             ],
             [
              0.3333333333333333,
              "#9c179e"
             ],
             [
              0.4444444444444444,
              "#bd3786"
             ],
             [
              0.5555555555555556,
              "#d8576b"
             ],
             [
              0.6666666666666666,
              "#ed7953"
             ],
             [
              0.7777777777777778,
              "#fb9f3a"
             ],
             [
              0.8888888888888888,
              "#fdca26"
             ],
             [
              1,
              "#f0f921"
             ]
            ],
            "type": "histogram2dcontour"
           }
          ],
          "mesh3d": [
           {
            "colorbar": {
             "outlinewidth": 0,
             "ticks": ""
            },
            "type": "mesh3d"
           }
          ],
          "parcoords": [
           {
            "line": {
             "colorbar": {
              "outlinewidth": 0,
              "ticks": ""
             }
            },
            "type": "parcoords"
           }
          ],
          "pie": [
           {
            "automargin": true,
            "type": "pie"
           }
          ],
          "scatter": [
           {
            "fillpattern": {
             "fillmode": "overlay",
             "size": 10,
             "solidity": 0.2
            },
            "type": "scatter"
           }
          ],
          "scatter3d": [
           {
            "line": {
             "colorbar": {
              "outlinewidth": 0,
              "ticks": ""
             }
            },
            "marker": {
             "colorbar": {
              "outlinewidth": 0,
              "ticks": ""
             }
            },
            "type": "scatter3d"
           }
          ],
          "scattercarpet": [
           {
            "marker": {
             "colorbar": {
              "outlinewidth": 0,
              "ticks": ""
             }
            },
            "type": "scattercarpet"
           }
          ],
          "scattergeo": [
           {
            "marker": {
             "colorbar": {
              "outlinewidth": 0,
              "ticks": ""
             }
            },
            "type": "scattergeo"
           }
          ],
          "scattergl": [
           {
            "marker": {
             "colorbar": {
              "outlinewidth": 0,
              "ticks": ""
             }
            },
            "type": "scattergl"
           }
          ],
          "scattermapbox": [
           {
            "marker": {
             "colorbar": {
              "outlinewidth": 0,
              "ticks": ""
             }
            },
            "type": "scattermapbox"
           }
          ],
          "scatterpolar": [
           {
            "marker": {
             "colorbar": {
              "outlinewidth": 0,
              "ticks": ""
             }
            },
            "type": "scatterpolar"
           }
          ],
          "scatterpolargl": [
           {
            "marker": {
             "colorbar": {
              "outlinewidth": 0,
              "ticks": ""
             }
            },
            "type": "scatterpolargl"
           }
          ],
          "scatterternary": [
           {
            "marker": {
             "colorbar": {
              "outlinewidth": 0,
              "ticks": ""
             }
            },
            "type": "scatterternary"
           }
          ],
          "surface": [
           {
            "colorbar": {
             "outlinewidth": 0,
             "ticks": ""
            },
            "colorscale": [
             [
              0,
              "#0d0887"
             ],
             [
              0.1111111111111111,
              "#46039f"
             ],
             [
              0.2222222222222222,
              "#7201a8"
             ],
             [
              0.3333333333333333,
              "#9c179e"
             ],
             [
              0.4444444444444444,
              "#bd3786"
             ],
             [
              0.5555555555555556,
              "#d8576b"
             ],
             [
              0.6666666666666666,
              "#ed7953"
             ],
             [
              0.7777777777777778,
              "#fb9f3a"
             ],
             [
              0.8888888888888888,
              "#fdca26"
             ],
             [
              1,
              "#f0f921"
             ]
            ],
            "type": "surface"
           }
          ],
          "table": [
           {
            "cells": {
             "fill": {
              "color": "#EBF0F8"
             },
             "line": {
              "color": "white"
             }
            },
            "header": {
             "fill": {
              "color": "#C8D4E3"
             },
             "line": {
              "color": "white"
             }
            },
            "type": "table"
           }
          ]
         },
         "layout": {
          "annotationdefaults": {
           "arrowcolor": "#2a3f5f",
           "arrowhead": 0,
           "arrowwidth": 1
          },
          "autotypenumbers": "strict",
          "coloraxis": {
           "colorbar": {
            "outlinewidth": 0,
            "ticks": ""
           }
          },
          "colorscale": {
           "diverging": [
            [
             0,
             "#8e0152"
            ],
            [
             0.1,
             "#c51b7d"
            ],
            [
             0.2,
             "#de77ae"
            ],
            [
             0.3,
             "#f1b6da"
            ],
            [
             0.4,
             "#fde0ef"
            ],
            [
             0.5,
             "#f7f7f7"
            ],
            [
             0.6,
             "#e6f5d0"
            ],
            [
             0.7,
             "#b8e186"
            ],
            [
             0.8,
             "#7fbc41"
            ],
            [
             0.9,
             "#4d9221"
            ],
            [
             1,
             "#276419"
            ]
           ],
           "sequential": [
            [
             0,
             "#0d0887"
            ],
            [
             0.1111111111111111,
             "#46039f"
            ],
            [
             0.2222222222222222,
             "#7201a8"
            ],
            [
             0.3333333333333333,
             "#9c179e"
            ],
            [
             0.4444444444444444,
             "#bd3786"
            ],
            [
             0.5555555555555556,
             "#d8576b"
            ],
            [
             0.6666666666666666,
             "#ed7953"
            ],
            [
             0.7777777777777778,
             "#fb9f3a"
            ],
            [
             0.8888888888888888,
             "#fdca26"
            ],
            [
             1,
             "#f0f921"
            ]
           ],
           "sequentialminus": [
            [
             0,
             "#0d0887"
            ],
            [
             0.1111111111111111,
             "#46039f"
            ],
            [
             0.2222222222222222,
             "#7201a8"
            ],
            [
             0.3333333333333333,
             "#9c179e"
            ],
            [
             0.4444444444444444,
             "#bd3786"
            ],
            [
             0.5555555555555556,
             "#d8576b"
            ],
            [
             0.6666666666666666,
             "#ed7953"
            ],
            [
             0.7777777777777778,
             "#fb9f3a"
            ],
            [
             0.8888888888888888,
             "#fdca26"
            ],
            [
             1,
             "#f0f921"
            ]
           ]
          },
          "colorway": [
           "#636efa",
           "#EF553B",
           "#00cc96",
           "#ab63fa",
           "#FFA15A",
           "#19d3f3",
           "#FF6692",
           "#B6E880",
           "#FF97FF",
           "#FECB52"
          ],
          "font": {
           "color": "#2a3f5f"
          },
          "geo": {
           "bgcolor": "white",
           "lakecolor": "white",
           "landcolor": "#E5ECF6",
           "showlakes": true,
           "showland": true,
           "subunitcolor": "white"
          },
          "hoverlabel": {
           "align": "left"
          },
          "hovermode": "closest",
          "mapbox": {
           "style": "light"
          },
          "paper_bgcolor": "white",
          "plot_bgcolor": "#E5ECF6",
          "polar": {
           "angularaxis": {
            "gridcolor": "white",
            "linecolor": "white",
            "ticks": ""
           },
           "bgcolor": "#E5ECF6",
           "radialaxis": {
            "gridcolor": "white",
            "linecolor": "white",
            "ticks": ""
           }
          },
          "scene": {
           "xaxis": {
            "backgroundcolor": "#E5ECF6",
            "gridcolor": "white",
            "gridwidth": 2,
            "linecolor": "white",
            "showbackground": true,
            "ticks": "",
            "zerolinecolor": "white"
           },
           "yaxis": {
            "backgroundcolor": "#E5ECF6",
            "gridcolor": "white",
            "gridwidth": 2,
            "linecolor": "white",
            "showbackground": true,
            "ticks": "",
            "zerolinecolor": "white"
           },
           "zaxis": {
            "backgroundcolor": "#E5ECF6",
            "gridcolor": "white",
            "gridwidth": 2,
            "linecolor": "white",
            "showbackground": true,
            "ticks": "",
            "zerolinecolor": "white"
           }
          },
          "shapedefaults": {
           "line": {
            "color": "#2a3f5f"
           }
          },
          "ternary": {
           "aaxis": {
            "gridcolor": "white",
            "linecolor": "white",
            "ticks": ""
           },
           "baxis": {
            "gridcolor": "white",
            "linecolor": "white",
            "ticks": ""
           },
           "bgcolor": "#E5ECF6",
           "caxis": {
            "gridcolor": "white",
            "linecolor": "white",
            "ticks": ""
           }
          },
          "title": {
           "x": 0.05
          },
          "xaxis": {
           "automargin": true,
           "gridcolor": "white",
           "linecolor": "white",
           "ticks": "",
           "title": {
            "standoff": 15
           },
           "zerolinecolor": "white",
           "zerolinewidth": 2
          },
          "yaxis": {
           "automargin": true,
           "gridcolor": "white",
           "linecolor": "white",
           "ticks": "",
           "title": {
            "standoff": 15
           },
           "zerolinecolor": "white",
           "zerolinewidth": 2
          }
         }
        },
        "title": {
         "text": "Close: 3D t-SNE for K-means"
        }
       }
      }
     },
     "metadata": {},
     "output_type": "display_data"
    }
   ],
   "source": [
    "unique_clusters = sorted(data_tsne['cluster_ids'].unique())\n",
    "# palette = px.colors.qualitative.Plotly \n",
    "color_map = {\n",
    "    \"0\": \"red\",   \n",
    "    \"1\": \"blue\",   \n",
    "    \"2\": \"green\",  \n",
    "    \"3\": \"purple\" \n",
    "}\n",
    "\n",
    "# color_map = {str(cluster): palette[i % len(palette)] for i, cluster in enumerate(unique_clusters)}\n",
    "\n",
    "fig = px.scatter_3d(data_tsne,\n",
    "                    x='myx', y='myy', z='myz',\n",
    "                    color='cluster_ids',\n",
    "                    text='subject_ids',\n",
    "                    title='Close: 3D t-SNE for K-means', \n",
    "                    color_discrete_map=color_map,\n",
    "                    category_orders={'cluster_ids': unique_clusters},\n",
    ")\n",
    "fig.update_layout(\n",
    "    legend=dict(\n",
    "        x=1.15,\n",
    "        y=0.5, \n",
    "        xanchor='left',\n",
    "        yanchor='middle' \n",
    "    )\n",
    ")\n",
    "\n",
    "fig.show()\n",
    "fig.write_html('close.html')"
   ]
  },
  {
   "cell_type": "code",
   "execution_count": 279,
   "metadata": {},
   "outputs": [],
   "source": [
    "# frames = []\n",
    "# for i in range(0, 360, 1):\n",
    "#     camera = dict(\n",
    "#         eye=dict(x=2*np.cos(np.radians(i)), y=2*np.sin(np.radians(i)), z=1.25)\n",
    "#     )\n",
    "#     frames.append(go.Frame(layout=dict(scene_camera=camera)))\n",
    "\n",
    "# fig.frames = frames\n",
    "\n",
    "# fig.update_layout(\n",
    "#     updatemenus=[dict(\n",
    "#         type=\"buttons\",\n",
    "#         buttons=[dict(\n",
    "#             label=\"Play\",\n",
    "#             method=\"animate\",\n",
    "#             # args=[None, dict(frame=dict(duration=10, redraw=True), fromcurrent=True, transition=dict(duration=0))]\n",
    "#             args=[None, dict(\n",
    "#                 frame=dict(duration=5, redraw=False),  # Minimal frame duration, disable redraw\n",
    "#                 fromcurrent=True,\n",
    "#                 transition=dict(duration=0),  # No transition delay\n",
    "#                 easing=\"linear\"  # Keep easing linear for smoothness\n",
    "#             )]\n",
    "#         )]\n",
    "#     )]\n",
    "# )\n",
    "# fig.write_html('testtest.html')"
   ]
  },
  {
   "cell_type": "code",
   "execution_count": 280,
   "metadata": {},
   "outputs": [
    {
     "data": {
      "image/png": "[encoded data removed]",
      "text/plain": [
       "<Figure size 1000x100 with 2 Axes>"
      ]
     },
     "metadata": {},
     "output_type": "display_data"
    },
    {
     "data": {
      "image/png": "[encoded data removed]",
      "text/plain": [
       "<Figure size 1000x100 with 2 Axes>"
      ]
     },
     "metadata": {},
     "output_type": "display_data"
    },
    {
     "data": {
      "image/png": "[encoded data removed]",
      "text/plain": [
       "<Figure size 1000x100 with 2 Axes>"
      ]
     },
     "metadata": {},
     "output_type": "display_data"
    },
    {
     "data": {
      "image/png": "[encoded data removed]",
      "text/plain": [
       "<Figure size 1000x100 with 2 Axes>"
      ]
     },
     "metadata": {},
     "output_type": "display_data"
    }
   ],
   "source": [
    "for i in range(len(kmeans.cluster_centers_)):\n",
    "    cmap = LinearSegmentedColormap.from_list(\"white_to_color\", [\"white\", color_map[str(i)]])\n",
    "    cluster_center = kmeans.cluster_centers_[i]\n",
    "    plot_one_class_coactivation_map(cluster_center, title='Cluster ' + str(i), label='relax', cmap=cmap)"
   ]
  },
  {
   "cell_type": "markdown",
   "metadata": {},
   "source": []
  },
  {
   "cell_type": "markdown",
   "metadata": {},
   "source": []
  },
  {
   "cell_type": "markdown",
   "metadata": {},
   "source": []
  }
 ],
 "metadata": {
  "kernelspec": {
   "display_name": "base",
   "language": "python",
   "name": "python3"
  },
  "language_info": {
   "codemirror_mode": {
    "name": "ipython",
    "version": 3
   },
   "file_extension": ".py",
   "mimetype": "text/x-python",
   "name": "python",
   "nbconvert_exporter": "python",
   "pygments_lexer": "ipython3",
   "version": "3.12.5"
  },
  "orig_nbformat": 4
 },
 "nbformat": 4,
 "nbformat_minor": 2
}
