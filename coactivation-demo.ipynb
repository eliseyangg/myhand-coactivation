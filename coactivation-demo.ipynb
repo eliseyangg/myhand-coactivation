{
 "cells": [
  {
   "cell_type": "code",
   "execution_count": 1,
   "metadata": {},
   "outputs": [],
   "source": [
    "import numpy as np\n",
    "import pandas as pd\n",
    "\n",
    "from coactivation.process import *\n",
    "from coactivation.visualize import *"
   ]
  },
  {
   "cell_type": "markdown",
   "metadata": {},
   "source": [
    "# MyHand Coactivation Demo"
   ]
  },
  {
   "cell_type": "markdown",
   "metadata": {},
   "source": [
    "**coactivation map:** a profile of the strength of each EMG channel activation per class (open, close, relax), created from the median amplitudes of EMG grouped by class and EMG channel (0-7).\n",
    "\n",
    "The functions used in this demo are either from `coactivation/process.py` or `coactivation/visualize.py`. Anything that outputs a plot is from `visualize`, and everything else is from `process`."
   ]
  },
  {
   "cell_type": "markdown",
   "metadata": {},
   "source": [
    "## Creating dataset of coactivation maps from all collected data\n",
    "Each datapoint is defined by one subject session:\n",
    "* coactivation map (24 dimensions)\n",
    "* folder (date)\n",
    "* subject_id\n",
    "* hand (right or left)\n",
    "* set (static, dynamic, etc.)\n",
    "* subset (resting, reaching, etc.), and\n",
    "* is_patient (True or False)"
   ]
  },
  {
   "cell_type": "code",
   "execution_count": 2,
   "metadata": {},
   "outputs": [
    {
     "data": {
      "text/html": [
       "<div>\n",
       "<style scoped>\n",
       "    .dataframe tbody tr th:only-of-type {\n",
       "        vertical-align: middle;\n",
       "    }\n",
       "\n",
       "    .dataframe tbody tr th {\n",
       "        vertical-align: top;\n",
       "    }\n",
       "\n",
       "    .dataframe thead th {\n",
       "        text-align: right;\n",
       "    }\n",
       "</style>\n",
       "<table border=\"1\" class=\"dataframe\">\n",
       "  <thead>\n",
       "    <tr style=\"text-align: right;\">\n",
       "      <th></th>\n",
       "      <th>gt0emg0</th>\n",
       "      <th>gt0emg1</th>\n",
       "      <th>gt0emg2</th>\n",
       "      <th>gt0emg3</th>\n",
       "      <th>gt0emg4</th>\n",
       "      <th>gt0emg5</th>\n",
       "      <th>gt0emg6</th>\n",
       "      <th>gt0emg7</th>\n",
       "      <th>gt1emg0</th>\n",
       "      <th>gt1emg1</th>\n",
       "      <th>...</th>\n",
       "      <th>gt2emg4</th>\n",
       "      <th>gt2emg5</th>\n",
       "      <th>gt2emg6</th>\n",
       "      <th>gt2emg7</th>\n",
       "      <th>folder</th>\n",
       "      <th>subject_id</th>\n",
       "      <th>hand</th>\n",
       "      <th>set_num</th>\n",
       "      <th>subset</th>\n",
       "      <th>is_patient</th>\n",
       "    </tr>\n",
       "  </thead>\n",
       "  <tbody>\n",
       "    <tr>\n",
       "      <th>0</th>\n",
       "      <td>0.015625</td>\n",
       "      <td>0.023438</td>\n",
       "      <td>0.015625</td>\n",
       "      <td>0.015625</td>\n",
       "      <td>0.007812</td>\n",
       "      <td>0.007812</td>\n",
       "      <td>0.007812</td>\n",
       "      <td>0.007812</td>\n",
       "      <td>0.023438</td>\n",
       "      <td>0.054688</td>\n",
       "      <td>...</td>\n",
       "      <td>0.015625</td>\n",
       "      <td>0.015625</td>\n",
       "      <td>0.023438</td>\n",
       "      <td>0.046875</td>\n",
       "      <td>2025_02_21</td>\n",
       "      <td>yz</td>\n",
       "      <td>nan</td>\n",
       "      <td>static</td>\n",
       "      <td>resting</td>\n",
       "      <td>False</td>\n",
       "    </tr>\n",
       "    <tr>\n",
       "      <th>0</th>\n",
       "      <td>0.015625</td>\n",
       "      <td>0.039062</td>\n",
       "      <td>0.062500</td>\n",
       "      <td>0.117188</td>\n",
       "      <td>0.023438</td>\n",
       "      <td>0.015625</td>\n",
       "      <td>0.023438</td>\n",
       "      <td>0.015625</td>\n",
       "      <td>0.085938</td>\n",
       "      <td>0.054688</td>\n",
       "      <td>...</td>\n",
       "      <td>0.085938</td>\n",
       "      <td>0.031250</td>\n",
       "      <td>0.054688</td>\n",
       "      <td>0.101562</td>\n",
       "      <td>2025_02_21</td>\n",
       "      <td>om</td>\n",
       "      <td>nan</td>\n",
       "      <td>static</td>\n",
       "      <td>reaching</td>\n",
       "      <td>False</td>\n",
       "    </tr>\n",
       "    <tr>\n",
       "      <th>0</th>\n",
       "      <td>0.015625</td>\n",
       "      <td>0.031250</td>\n",
       "      <td>0.054688</td>\n",
       "      <td>0.117188</td>\n",
       "      <td>0.031250</td>\n",
       "      <td>0.015625</td>\n",
       "      <td>0.015625</td>\n",
       "      <td>0.007812</td>\n",
       "      <td>0.062500</td>\n",
       "      <td>0.054688</td>\n",
       "      <td>...</td>\n",
       "      <td>0.117188</td>\n",
       "      <td>0.046875</td>\n",
       "      <td>0.070312</td>\n",
       "      <td>0.117188</td>\n",
       "      <td>2025_02_21</td>\n",
       "      <td>om</td>\n",
       "      <td>nan</td>\n",
       "      <td>static</td>\n",
       "      <td>unsupported</td>\n",
       "      <td>False</td>\n",
       "    </tr>\n",
       "    <tr>\n",
       "      <th>0</th>\n",
       "      <td>0.015625</td>\n",
       "      <td>0.101562</td>\n",
       "      <td>0.140625</td>\n",
       "      <td>0.054688</td>\n",
       "      <td>0.015625</td>\n",
       "      <td>0.023438</td>\n",
       "      <td>0.078125</td>\n",
       "      <td>0.046875</td>\n",
       "      <td>0.085938</td>\n",
       "      <td>0.156250</td>\n",
       "      <td>...</td>\n",
       "      <td>0.078125</td>\n",
       "      <td>0.039062</td>\n",
       "      <td>0.101562</td>\n",
       "      <td>0.117188</td>\n",
       "      <td>2025_02_21</td>\n",
       "      <td>om</td>\n",
       "      <td>nan</td>\n",
       "      <td>static</td>\n",
       "      <td>resting</td>\n",
       "      <td>False</td>\n",
       "    </tr>\n",
       "    <tr>\n",
       "      <th>0</th>\n",
       "      <td>0.007812</td>\n",
       "      <td>0.007812</td>\n",
       "      <td>0.015625</td>\n",
       "      <td>0.007812</td>\n",
       "      <td>0.007812</td>\n",
       "      <td>0.007812</td>\n",
       "      <td>0.007812</td>\n",
       "      <td>0.007812</td>\n",
       "      <td>0.046875</td>\n",
       "      <td>0.046875</td>\n",
       "      <td>...</td>\n",
       "      <td>0.062500</td>\n",
       "      <td>0.023438</td>\n",
       "      <td>0.023438</td>\n",
       "      <td>0.031250</td>\n",
       "      <td>2025_02_21</td>\n",
       "      <td>mk</td>\n",
       "      <td>nan</td>\n",
       "      <td>static</td>\n",
       "      <td>resting</td>\n",
       "      <td>False</td>\n",
       "    </tr>\n",
       "    <tr>\n",
       "      <th>...</th>\n",
       "      <td>...</td>\n",
       "      <td>...</td>\n",
       "      <td>...</td>\n",
       "      <td>...</td>\n",
       "      <td>...</td>\n",
       "      <td>...</td>\n",
       "      <td>...</td>\n",
       "      <td>...</td>\n",
       "      <td>...</td>\n",
       "      <td>...</td>\n",
       "      <td>...</td>\n",
       "      <td>...</td>\n",
       "      <td>...</td>\n",
       "      <td>...</td>\n",
       "      <td>...</td>\n",
       "      <td>...</td>\n",
       "      <td>...</td>\n",
       "      <td>...</td>\n",
       "      <td>...</td>\n",
       "      <td>...</td>\n",
       "      <td>...</td>\n",
       "    </tr>\n",
       "    <tr>\n",
       "      <th>0</th>\n",
       "      <td>0.007812</td>\n",
       "      <td>0.007812</td>\n",
       "      <td>0.007812</td>\n",
       "      <td>0.015625</td>\n",
       "      <td>0.023438</td>\n",
       "      <td>0.015625</td>\n",
       "      <td>0.007812</td>\n",
       "      <td>0.007812</td>\n",
       "      <td>0.007812</td>\n",
       "      <td>0.023438</td>\n",
       "      <td>...</td>\n",
       "      <td>0.062500</td>\n",
       "      <td>0.031250</td>\n",
       "      <td>0.031250</td>\n",
       "      <td>0.039062</td>\n",
       "      <td>2025_02_07</td>\n",
       "      <td>si</td>\n",
       "      <td>left</td>\n",
       "      <td>static</td>\n",
       "      <td>unsupported</td>\n",
       "      <td>False</td>\n",
       "    </tr>\n",
       "    <tr>\n",
       "      <th>0</th>\n",
       "      <td>0.007812</td>\n",
       "      <td>0.007812</td>\n",
       "      <td>0.015625</td>\n",
       "      <td>0.015625</td>\n",
       "      <td>0.007812</td>\n",
       "      <td>0.007812</td>\n",
       "      <td>0.007812</td>\n",
       "      <td>0.007812</td>\n",
       "      <td>0.015625</td>\n",
       "      <td>0.023438</td>\n",
       "      <td>...</td>\n",
       "      <td>0.023438</td>\n",
       "      <td>0.015625</td>\n",
       "      <td>0.015625</td>\n",
       "      <td>0.015625</td>\n",
       "      <td>2025_02_07</td>\n",
       "      <td>si</td>\n",
       "      <td>left</td>\n",
       "      <td>static</td>\n",
       "      <td>resting</td>\n",
       "      <td>False</td>\n",
       "    </tr>\n",
       "    <tr>\n",
       "      <th>0</th>\n",
       "      <td>0.007812</td>\n",
       "      <td>0.007812</td>\n",
       "      <td>0.015625</td>\n",
       "      <td>0.023438</td>\n",
       "      <td>0.023438</td>\n",
       "      <td>0.015625</td>\n",
       "      <td>0.007812</td>\n",
       "      <td>0.007812</td>\n",
       "      <td>0.007812</td>\n",
       "      <td>0.031250</td>\n",
       "      <td>...</td>\n",
       "      <td>0.031250</td>\n",
       "      <td>0.015625</td>\n",
       "      <td>0.023438</td>\n",
       "      <td>0.031250</td>\n",
       "      <td>2025_02_07</td>\n",
       "      <td>ls</td>\n",
       "      <td>nan</td>\n",
       "      <td>static</td>\n",
       "      <td>unsupported</td>\n",
       "      <td>False</td>\n",
       "    </tr>\n",
       "    <tr>\n",
       "      <th>0</th>\n",
       "      <td>0.023438</td>\n",
       "      <td>0.031250</td>\n",
       "      <td>0.031250</td>\n",
       "      <td>0.023438</td>\n",
       "      <td>0.023438</td>\n",
       "      <td>0.007812</td>\n",
       "      <td>0.015625</td>\n",
       "      <td>0.015625</td>\n",
       "      <td>0.054688</td>\n",
       "      <td>0.070312</td>\n",
       "      <td>...</td>\n",
       "      <td>0.031250</td>\n",
       "      <td>0.023438</td>\n",
       "      <td>0.031250</td>\n",
       "      <td>0.062500</td>\n",
       "      <td>2025_02_07</td>\n",
       "      <td>bw</td>\n",
       "      <td>nan</td>\n",
       "      <td>static</td>\n",
       "      <td>hanging</td>\n",
       "      <td>False</td>\n",
       "    </tr>\n",
       "    <tr>\n",
       "      <th>0</th>\n",
       "      <td>0.007812</td>\n",
       "      <td>0.007812</td>\n",
       "      <td>0.015625</td>\n",
       "      <td>0.007812</td>\n",
       "      <td>0.007812</td>\n",
       "      <td>0.007812</td>\n",
       "      <td>0.007812</td>\n",
       "      <td>0.007812</td>\n",
       "      <td>0.085938</td>\n",
       "      <td>0.109375</td>\n",
       "      <td>...</td>\n",
       "      <td>0.070312</td>\n",
       "      <td>0.039062</td>\n",
       "      <td>0.234375</td>\n",
       "      <td>0.085938</td>\n",
       "      <td>2025_02_07</td>\n",
       "      <td>ec</td>\n",
       "      <td>right</td>\n",
       "      <td>static</td>\n",
       "      <td>hanging</td>\n",
       "      <td>False</td>\n",
       "    </tr>\n",
       "  </tbody>\n",
       "</table>\n",
       "<p>114 rows × 30 columns</p>\n",
       "</div>"
      ],
      "text/plain": [
       "     gt0emg0   gt0emg1   gt0emg2   gt0emg3   gt0emg4   gt0emg5   gt0emg6  \\\n",
       "0   0.015625  0.023438  0.015625  0.015625  0.007812  0.007812  0.007812   \n",
       "0   0.015625  0.039062  0.062500  0.117188  0.023438  0.015625  0.023438   \n",
       "0   0.015625  0.031250  0.054688  0.117188  0.031250  0.015625  0.015625   \n",
       "0   0.015625  0.101562  0.140625  0.054688  0.015625  0.023438  0.078125   \n",
       "0   0.007812  0.007812  0.015625  0.007812  0.007812  0.007812  0.007812   \n",
       "..       ...       ...       ...       ...       ...       ...       ...   \n",
       "0   0.007812  0.007812  0.007812  0.015625  0.023438  0.015625  0.007812   \n",
       "0   0.007812  0.007812  0.015625  0.015625  0.007812  0.007812  0.007812   \n",
       "0   0.007812  0.007812  0.015625  0.023438  0.023438  0.015625  0.007812   \n",
       "0   0.023438  0.031250  0.031250  0.023438  0.023438  0.007812  0.015625   \n",
       "0   0.007812  0.007812  0.015625  0.007812  0.007812  0.007812  0.007812   \n",
       "\n",
       "     gt0emg7   gt1emg0   gt1emg1  ...   gt2emg4   gt2emg5   gt2emg6   gt2emg7  \\\n",
       "0   0.007812  0.023438  0.054688  ...  0.015625  0.015625  0.023438  0.046875   \n",
       "0   0.015625  0.085938  0.054688  ...  0.085938  0.031250  0.054688  0.101562   \n",
       "0   0.007812  0.062500  0.054688  ...  0.117188  0.046875  0.070312  0.117188   \n",
       "0   0.046875  0.085938  0.156250  ...  0.078125  0.039062  0.101562  0.117188   \n",
       "0   0.007812  0.046875  0.046875  ...  0.062500  0.023438  0.023438  0.031250   \n",
       "..       ...       ...       ...  ...       ...       ...       ...       ...   \n",
       "0   0.007812  0.007812  0.023438  ...  0.062500  0.031250  0.031250  0.039062   \n",
       "0   0.007812  0.015625  0.023438  ...  0.023438  0.015625  0.015625  0.015625   \n",
       "0   0.007812  0.007812  0.031250  ...  0.031250  0.015625  0.023438  0.031250   \n",
       "0   0.015625  0.054688  0.070312  ...  0.031250  0.023438  0.031250  0.062500   \n",
       "0   0.007812  0.085938  0.109375  ...  0.070312  0.039062  0.234375  0.085938   \n",
       "\n",
       "        folder  subject_id   hand  set_num       subset  is_patient  \n",
       "0   2025_02_21          yz    nan   static      resting       False  \n",
       "0   2025_02_21          om    nan   static     reaching       False  \n",
       "0   2025_02_21          om    nan   static  unsupported       False  \n",
       "0   2025_02_21          om    nan   static      resting       False  \n",
       "0   2025_02_21          mk    nan   static      resting       False  \n",
       "..         ...         ...    ...      ...          ...         ...  \n",
       "0   2025_02_07          si   left   static  unsupported       False  \n",
       "0   2025_02_07          si   left   static      resting       False  \n",
       "0   2025_02_07          ls    nan   static  unsupported       False  \n",
       "0   2025_02_07          bw    nan   static      hanging       False  \n",
       "0   2025_02_07          ec  right   static      hanging       False  \n",
       "\n",
       "[114 rows x 30 columns]"
      ]
     },
     "execution_count": 2,
     "metadata": {},
     "output_type": "execute_result"
    }
   ],
   "source": [
    "df = generate_coactivation_dataset()\n",
    "df"
   ]
  },
  {
   "cell_type": "markdown",
   "metadata": {},
   "source": [
    "### Visualizing one subject's coactivation map "
   ]
  },
  {
   "cell_type": "markdown",
   "metadata": {},
   "source": [
    "#### From the dataset created above"
   ]
  },
  {
   "cell_type": "code",
   "execution_count": 3,
   "metadata": {},
   "outputs": [
    {
     "data": {
      "text/html": [
       "<div>\n",
       "<style scoped>\n",
       "    .dataframe tbody tr th:only-of-type {\n",
       "        vertical-align: middle;\n",
       "    }\n",
       "\n",
       "    .dataframe tbody tr th {\n",
       "        vertical-align: top;\n",
       "    }\n",
       "\n",
       "    .dataframe thead th {\n",
       "        text-align: right;\n",
       "    }\n",
       "</style>\n",
       "<table border=\"1\" class=\"dataframe\">\n",
       "  <thead>\n",
       "    <tr style=\"text-align: right;\">\n",
       "      <th></th>\n",
       "      <th>emg0</th>\n",
       "      <th>emg1</th>\n",
       "      <th>emg2</th>\n",
       "      <th>emg3</th>\n",
       "      <th>emg4</th>\n",
       "      <th>emg5</th>\n",
       "      <th>emg6</th>\n",
       "      <th>emg7</th>\n",
       "    </tr>\n",
       "    <tr>\n",
       "      <th>gt</th>\n",
       "      <th></th>\n",
       "      <th></th>\n",
       "      <th></th>\n",
       "      <th></th>\n",
       "      <th></th>\n",
       "      <th></th>\n",
       "      <th></th>\n",
       "      <th></th>\n",
       "    </tr>\n",
       "  </thead>\n",
       "  <tbody>\n",
       "    <tr>\n",
       "      <th>0</th>\n",
       "      <td>0.007812</td>\n",
       "      <td>0.015625</td>\n",
       "      <td>0.054688</td>\n",
       "      <td>0.03125</td>\n",
       "      <td>0.015625</td>\n",
       "      <td>0.007812</td>\n",
       "      <td>0.007812</td>\n",
       "      <td>0.007812</td>\n",
       "    </tr>\n",
       "    <tr>\n",
       "      <th>1</th>\n",
       "      <td>0.09375</td>\n",
       "      <td>0.039062</td>\n",
       "      <td>0.203125</td>\n",
       "      <td>0.25</td>\n",
       "      <td>0.023438</td>\n",
       "      <td>0.015625</td>\n",
       "      <td>0.023438</td>\n",
       "      <td>0.0625</td>\n",
       "    </tr>\n",
       "    <tr>\n",
       "      <th>2</th>\n",
       "      <td>0.109375</td>\n",
       "      <td>0.148438</td>\n",
       "      <td>0.148438</td>\n",
       "      <td>0.09375</td>\n",
       "      <td>0.023438</td>\n",
       "      <td>0.023438</td>\n",
       "      <td>0.03125</td>\n",
       "      <td>0.054688</td>\n",
       "    </tr>\n",
       "  </tbody>\n",
       "</table>\n",
       "</div>"
      ],
      "text/plain": [
       "        emg0      emg1      emg2     emg3      emg4      emg5      emg6  \\\n",
       "gt                                                                        \n",
       "0   0.007812  0.015625  0.054688  0.03125  0.015625  0.007812  0.007812   \n",
       "1    0.09375  0.039062  0.203125     0.25  0.023438  0.015625  0.023438   \n",
       "2   0.109375  0.148438  0.148438  0.09375  0.023438  0.023438   0.03125   \n",
       "\n",
       "        emg7  \n",
       "gt            \n",
       "0   0.007812  \n",
       "1     0.0625  \n",
       "2   0.054688  "
      ]
     },
     "execution_count": 3,
     "metadata": {},
     "output_type": "execute_result"
    }
   ],
   "source": [
    "# picking a random index from the dataset and extracting the coactivation map\n",
    "cm_array = df.iloc[100].values[:24] # first 24 values\n",
    "# convert extracted array to coactivation map 3x8 dataframe\n",
    "cm = array_to_cm(cm_array) \n",
    "cm"
   ]
  },
  {
   "cell_type": "code",
   "execution_count": 4,
   "metadata": {},
   "outputs": [
    {
     "data": {
      "image/png": "[encoded data removed]",
      "text/plain": [
       "<Figure size 1000x300 with 2 Axes>"
      ]
     },
     "metadata": {},
     "output_type": "display_data"
    }
   ],
   "source": [
    "plot_coactivation_map(cm, title='Coactivation Map Example 1')"
   ]
  },
  {
   "cell_type": "markdown",
   "metadata": {},
   "source": [
    "#### From a raw file\n",
    "\n",
    "1. preprocess\n",
    "2. preprocessed --> coactivation map\n",
    "3. coactivation map --> plot"
   ]
  },
  {
   "cell_type": "code",
   "execution_count": 5,
   "metadata": {},
   "outputs": [
    {
     "data": {
      "image/png": "[encoded data removed]",
      "text/plain": [
       "<Figure size 1200x800 with 2 Axes>"
      ]
     },
     "metadata": {},
     "output_type": "display_data"
    }
   ],
   "source": [
    "# visualize raw data\n",
    "visualize_emgs('collected_data/2025_02_07/ec_static_resting.csv')"
   ]
  },
  {
   "cell_type": "code",
   "execution_count": 6,
   "metadata": {},
   "outputs": [
    {
     "data": {
      "image/png": "[encoded data removed]",
      "text/plain": [
       "<Figure size 1000x300 with 2 Axes>"
      ]
     },
     "metadata": {},
     "output_type": "display_data"
    }
   ],
   "source": [
    "# 1. preprocess\n",
    "df_preprocessed = preprocess_emgs('collected_data/2025_02_07/ec_static_resting.csv')\n",
    "# 2. generate coactivation map\n",
    "cm = get_coactivation_map(df_preprocessed)\n",
    "# 3. plot\n",
    "plot_coactivation_map(cm, title='Coactivation Map Example 2')"
   ]
  },
  {
   "cell_type": "markdown",
   "metadata": {},
   "source": [
    "### K-means analysis example"
   ]
  },
  {
   "cell_type": "markdown",
   "metadata": {},
   "source": [
    "Stratified by class, by person (average of their coactivations) -- Relax example"
   ]
  },
  {
   "cell_type": "code",
   "execution_count": 7,
   "metadata": {},
   "outputs": [],
   "source": [
    "from sklearn.cluster import KMeans\n",
    "from sklearn.manifold import TSNE\n",
    "import plotly.express as px\n",
    "import plotly.graph_objects as go\n",
    "from matplotlib.colors import LinearSegmentedColormap"
   ]
  },
  {
   "cell_type": "code",
   "execution_count": 8,
   "metadata": {},
   "outputs": [],
   "source": [
    "df_avgs = df.iloc[:,np.r_[0:24, 25]].groupby('subject_id').apply('mean') # take average cm of each person\n",
    "df_relax = df_avgs.iloc[:,:8]\n",
    "df_open = df_avgs.iloc[:,8:16]\n",
    "df_close = df_avgs.iloc[:,16:24]"
   ]
  },
  {
   "cell_type": "code",
   "execution_count": 9,
   "metadata": {},
   "outputs": [
    {
     "name": "stdout",
     "output_type": "stream",
     "text": [
      "Cluster Centers:\n",
      " [[0.01078869 0.01329985 0.01641555 0.01348586 0.01320685 0.0108817\n",
      "  0.0093936  0.00976562]\n",
      " [0.015625   0.04882812 0.07421875 0.078125   0.01953125 0.015625\n",
      "  0.03320312 0.01953125]\n",
      " [0.01422991 0.0234375  0.0359933  0.02762277 0.0186942  0.01199777\n",
      "  0.01032366 0.0108817 ]]\n"
     ]
    },
    {
     "name": "stderr",
     "output_type": "stream",
     "text": [
      "/var/folders/yd/vqpl9gqn5nqfzr41g9_g0t940000gq/T/ipykernel_35050/2527838429.py:19: DeprecationWarning: DataFrameGroupBy.apply operated on the grouping columns. This behavior is deprecated, and in a future version of pandas the grouping columns will be excluded from the operation. Either pass `include_groups=False` to exclude the groupings or explicitly select the grouping columns after groupby to silence this warning.\n",
      "  display(pd.DataFrame(df_relax.groupby('cluster').apply(lambda x: np.unique(x.index))))\n"
     ]
    },
    {
     "data": {
      "text/html": [
       "<div>\n",
       "<style scoped>\n",
       "    .dataframe tbody tr th:only-of-type {\n",
       "        vertical-align: middle;\n",
       "    }\n",
       "\n",
       "    .dataframe tbody tr th {\n",
       "        vertical-align: top;\n",
       "    }\n",
       "\n",
       "    .dataframe thead th {\n",
       "        text-align: right;\n",
       "    }\n",
       "</style>\n",
       "<table border=\"1\" class=\"dataframe\">\n",
       "  <thead>\n",
       "    <tr style=\"text-align: right;\">\n",
       "      <th></th>\n",
       "      <th>0</th>\n",
       "    </tr>\n",
       "    <tr>\n",
       "      <th>cluster</th>\n",
       "      <th></th>\n",
       "    </tr>\n",
       "  </thead>\n",
       "  <tbody>\n",
       "    <tr>\n",
       "      <th>0</th>\n",
       "      <td>[bg, cc, co, dk, es, hh, hl, jh, jl, ls, mk, m...</td>\n",
       "    </tr>\n",
       "    <tr>\n",
       "      <th>1</th>\n",
       "      <td>[om]</td>\n",
       "    </tr>\n",
       "    <tr>\n",
       "      <th>2</th>\n",
       "      <td>[bw, ec, hz, jp, kj, st, zc]</td>\n",
       "    </tr>\n",
       "  </tbody>\n",
       "</table>\n",
       "</div>"
      ],
      "text/plain": [
       "                                                         0\n",
       "cluster                                                   \n",
       "0        [bg, cc, co, dk, es, hh, hl, jh, jl, ls, mk, m...\n",
       "1                                                     [om]\n",
       "2                             [bw, ec, hz, jp, kj, st, zc]"
      ]
     },
     "metadata": {},
     "output_type": "display_data"
    },
    {
     "data": {
      "application/vnd.plotly.v1+json": {
       "config": {
        "plotlyServerURL": "https://plot.ly"
       },
       "data": [
        {
         "hovertemplate": "cluster_ids=0<br>myx=%{x}<br>myy=%{y}<br>myz=%{z}<br>subject_ids=%{text}<extra></extra>",
         "legendgroup": "0",
         "marker": {
          "color": "red",
          "symbol": "circle"
         },
         "mode": "markers+text",
         "name": "0",
         "scene": "scene",
         "showlegend": true,
         "text": [
          "bg",
          "cc",
          "co",
          "dk",
          "es",
          "hh",
          "hl",
          "jh",
          "jl",
          "ls",
          "mk",
          "ml",
          "p3",
          "pw",
          "si",
          "wn",
          "ww",
          "wx",
          "xw",
          "yz",
          "zw"
         ],
         "type": "scatter3d",
         "x": [
          3.065556526184082,
          -147.78749084472656,
          -3.369096040725708,
          -95.09490203857422,
          19.328704833984375,
          57.308860778808594,
          -137.56187438964844,
          165.53494262695312,
          45.43475341796875,
          -102.89617156982422,
          96.86531066894531,
          32.6697883605957,
          201.50494384765625,
          -66.13755798339844,
          81.69457244873047,
          -20.778724670410156,
          -169.943603515625,
          119.72875213623047,
          94.8562240600586,
          83.58412170410156,
          -479.4730529785156
         ],
         "y": [
          -216.24046325683594,
          -18.43291664123535,
          -131.4005584716797,
          -126.22769165039062,
          179.42262268066406,
          157.7140655517578,
          -41.8817138671875,
          50.85774230957031,
          -19.290006637573242,
          -23.144556045532227,
          -97.95746612548828,
          59.779117584228516,
          -241.29461669921875,
          10.546073913574219,
          -19.27204132080078,
          28.59007453918457,
          22.521970748901367,
          64.05902099609375,
          -58.6171760559082,
          127.71218872070312,
          277.58685302734375
         ],
         "z": [
          103.30787658691406,
          -41.494319915771484,
          -111.49315643310547,
          -7.558328151702881,
          -117.04069519042969,
          130.4000701904297,
          63.33537673950195,
          -42.71788024902344,
          -168.34173583984375,
          -148.79452514648438,
          -24.219039916992188,
          94.06293487548828,
          -307.63543701171875,
          201.438232421875,
          -26.528114318847656,
          105.0823974609375,
          76.03910064697266,
          -84.78903198242188,
          -120.82182312011719,
          13.44266414642334,
          496.4176330566406
         ]
        },
        {
         "hovertemplate": "cluster_ids=1<br>myx=%{x}<br>myy=%{y}<br>myz=%{z}<br>subject_ids=%{text}<extra></extra>",
         "legendgroup": "1",
         "marker": {
          "color": "blue",
          "symbol": "circle"
         },
         "mode": "markers+text",
         "name": "1",
         "scene": "scene",
         "showlegend": true,
         "text": [
          "om"
         ],
         "type": "scatter3d",
         "x": [
          61.77383804321289
         ],
         "y": [
          -42.88424301147461
         ],
         "z": [
          166.03195190429688
         ]
        },
        {
         "hovertemplate": "cluster_ids=2<br>myx=%{x}<br>myy=%{y}<br>myz=%{z}<br>subject_ids=%{text}<extra></extra>",
         "legendgroup": "2",
         "marker": {
          "color": "green",
          "symbol": "circle"
         },
         "mode": "markers+text",
         "name": "2",
         "scene": "scene",
         "showlegend": true,
         "text": [
          "bw",
          "ec",
          "hz",
          "jp",
          "kj",
          "st",
          "zc"
         ],
         "type": "scatter3d",
         "x": [
          -70.34204864501953,
          -94.45598602294922,
          -16.889841079711914,
          -31.545841217041016,
          39.908912658691406,
          106.82050323486328,
          -25.6254825592041
         ],
         "y": [
          112.10540771484375,
          96.45726776123047,
          51.701805114746094,
          5.772430896759033,
          -65.37374114990234,
          -48.196895599365234,
          88.11671447753906
         ],
         "z": [
          -104.7029037475586,
          23.63370132446289,
          -81.43289184570312,
          -14.286160469055176,
          65.57180786132812,
          81.86888885498047,
          -0.4847119450569153
         ]
        }
       ],
       "layout": {
        "legend": {
         "title": {
          "text": "cluster_ids"
         },
         "tracegroupgap": 0,
         "x": 1.15,
         "xanchor": "left",
         "y": 0.5,
         "yanchor": "middle"
        },
        "scene": {
         "domain": {
          "x": [
           0,
           1
          ],
          "y": [
           0,
           1
          ]
         },
         "xaxis": {
          "title": {
           "text": "myx"
          }
         },
         "yaxis": {
          "title": {
           "text": "myy"
          }
         },
         "zaxis": {
          "title": {
           "text": "myz"
          }
         }
        },
        "template": {
         "data": {
          "bar": [
           {
            "error_x": {
             "color": "#2a3f5f"
            },
            "error_y": {
             "color": "#2a3f5f"
            },
            "marker": {
             "line": {
              "color": "#E5ECF6",
              "width": 0.5
             },
             "pattern": {
              "fillmode": "overlay",
              "size": 10,
              "solidity": 0.2
             }
            },
            "type": "bar"
           }
          ],
          "barpolar": [
           {
            "marker": {
             "line": {
              "color": "#E5ECF6",
              "width": 0.5
             },
             "pattern": {
              "fillmode": "overlay",
              "size": 10,
              "solidity": 0.2
             }
            },
            "type": "barpolar"
           }
          ],
          "carpet": [
           {
            "aaxis": {
             "endlinecolor": "#2a3f5f",
             "gridcolor": "white",
             "linecolor": "white",
             "minorgridcolor": "white",
             "startlinecolor": "#2a3f5f"
            },
            "baxis": {
             "endlinecolor": "#2a3f5f",
             "gridcolor": "white",
             "linecolor": "white",
             "minorgridcolor": "white",
             "startlinecolor": "#2a3f5f"
            },
            "type": "carpet"
           }
          ],
          "choropleth": [
           {
            "colorbar": {
             "outlinewidth": 0,
             "ticks": ""
            },
            "type": "choropleth"
           }
          ],
          "contour": [
           {
            "colorbar": {
             "outlinewidth": 0,
             "ticks": ""
            },
            "colorscale": [
             [
              0,
              "#0d0887"
             ],
             [
              0.1111111111111111,
              "#46039f"
             ],
             [
              0.2222222222222222,
              "#7201a8"
             ],
             [
              0.3333333333333333,
              "#9c179e"
             ],
             [
              0.4444444444444444,
              "#bd3786"
             ],
             [
              0.5555555555555556,
              "#d8576b"
             ],
             [
              0.6666666666666666,
              "#ed7953"
             ],
             [
              0.7777777777777778,
              "#fb9f3a"
             ],
             [
              0.8888888888888888,
              "#fdca26"
             ],
             [
              1,
              "#f0f921"
             ]
            ],
            "type": "contour"
           }
          ],
          "contourcarpet": [
           {
            "colorbar": {
             "outlinewidth": 0,
             "ticks": ""
            },
            "type": "contourcarpet"
           }
          ],
          "heatmap": [
           {
            "colorbar": {
             "outlinewidth": 0,
             "ticks": ""
            },
            "colorscale": [
             [
              0,
              "#0d0887"
             ],
             [
              0.1111111111111111,
              "#46039f"
             ],
             [
              0.2222222222222222,
              "#7201a8"
             ],
             [
              0.3333333333333333,
              "#9c179e"
             ],
             [
              0.4444444444444444,
              "#bd3786"
             ],
             [
              0.5555555555555556,
              "#d8576b"
             ],
             [
              0.6666666666666666,
              "#ed7953"
             ],
             [
              0.7777777777777778,
              "#fb9f3a"
             ],
             [
              0.8888888888888888,
              "#fdca26"
             ],
             [
              1,
              "#f0f921"
             ]
            ],
            "type": "heatmap"
           }
          ],
          "heatmapgl": [
           {
            "colorbar": {
             "outlinewidth": 0,
             "ticks": ""
            },
            "colorscale": [
             [
              0,
              "#0d0887"
             ],
             [
              0.1111111111111111,
              "#46039f"
             ],
             [
              0.2222222222222222,
              "#7201a8"
             ],
             [
              0.3333333333333333,
              "#9c179e"
             ],
             [
              0.4444444444444444,
              "#bd3786"
             ],
             [
              0.5555555555555556,
              "#d8576b"
             ],
             [
              0.6666666666666666,
              "#ed7953"
             ],
             [
              0.7777777777777778,
              "#fb9f3a"
             ],
             [
              0.8888888888888888,
              "#fdca26"
             ],
             [
              1,
              "#f0f921"
             ]
            ],
            "type": "heatmapgl"
           }
          ],
          "histogram": [
           {
            "marker": {
             "pattern": {
              "fillmode": "overlay",
              "size": 10,
              "solidity": 0.2
             }
            },
            "type": "histogram"
           }
          ],
          "histogram2d": [
           {
            "colorbar": {
             "outlinewidth": 0,
             "ticks": ""
            },
            "colorscale": [
             [
              0,
              "#0d0887"
             ],
             [
              0.1111111111111111,
              "#46039f"
             ],
             [
              0.2222222222222222,
              "#7201a8"
             ],
             [
              0.3333333333333333,
              "#9c179e"
             ],
             [
              0.4444444444444444,
              "#bd3786"
             ],
             [
              0.5555555555555556,
              "#d8576b"
             ],
             [
              0.6666666666666666,
              "#ed7953"
             ],
             [
              0.7777777777777778,
              "#fb9f3a"
             ],
             [
              0.8888888888888888,
              "#fdca26"
             ],
             [
              1,
              "#f0f921"
             ]
            ],
            "type": "histogram2d"
           }
          ],
          "histogram2dcontour": [
           {
            "colorbar": {
             "outlinewidth": 0,
             "ticks": ""
            },
            "colorscale": [
             [
              0,
              "#0d0887"
             ],
             [
              0.1111111111111111,
              "#46039f"
             ],
             [
              0.2222222222222222,
              "#7201a8"
             ],
             [
              0.3333333333333333,
              "#9c179e"
             ],
             [
              0.4444444444444444,
              "#bd3786"
             ],
             [
              0.5555555555555556,
              "#d8576b"
             ],
             [
              0.6666666666666666,
              "#ed7953"
             ],
             [
              0.7777777777777778,
              "#fb9f3a"
             ],
             [
              0.8888888888888888,
              "#fdca26"
             ],
             [
              1,
              "#f0f921"
             ]
            ],
            "type": "histogram2dcontour"
           }
          ],
          "mesh3d": [
           {
            "colorbar": {
             "outlinewidth": 0,
             "ticks": ""
            },
            "type": "mesh3d"
           }
          ],
          "parcoords": [
           {
            "line": {
             "colorbar": {
              "outlinewidth": 0,
              "ticks": ""
             }
            },
            "type": "parcoords"
           }
          ],
          "pie": [
           {
            "automargin": true,
            "type": "pie"
           }
          ],
          "scatter": [
           {
            "fillpattern": {
             "fillmode": "overlay",
             "size": 10,
             "solidity": 0.2
            },
            "type": "scatter"
           }
          ],
          "scatter3d": [
           {
            "line": {
             "colorbar": {
              "outlinewidth": 0,
              "ticks": ""
             }
            },
            "marker": {
             "colorbar": {
              "outlinewidth": 0,
              "ticks": ""
             }
            },
            "type": "scatter3d"
           }
          ],
          "scattercarpet": [
           {
            "marker": {
             "colorbar": {
              "outlinewidth": 0,
              "ticks": ""
             }
            },
            "type": "scattercarpet"
           }
          ],
          "scattergeo": [
           {
            "marker": {
             "colorbar": {
              "outlinewidth": 0,
              "ticks": ""
             }
            },
            "type": "scattergeo"
           }
          ],
          "scattergl": [
           {
            "marker": {
             "colorbar": {
              "outlinewidth": 0,
              "ticks": ""
             }
            },
            "type": "scattergl"
           }
          ],
          "scattermapbox": [
           {
            "marker": {
             "colorbar": {
              "outlinewidth": 0,
              "ticks": ""
             }
            },
            "type": "scattermapbox"
           }
          ],
          "scatterpolar": [
           {
            "marker": {
             "colorbar": {
              "outlinewidth": 0,
              "ticks": ""
             }
            },
            "type": "scatterpolar"
           }
          ],
          "scatterpolargl": [
           {
            "marker": {
             "colorbar": {
              "outlinewidth": 0,
              "ticks": ""
             }
            },
            "type": "scatterpolargl"
           }
          ],
          "scatterternary": [
           {
            "marker": {
             "colorbar": {
              "outlinewidth": 0,
              "ticks": ""
             }
            },
            "type": "scatterternary"
           }
          ],
          "surface": [
           {
            "colorbar": {
             "outlinewidth": 0,
             "ticks": ""
            },
            "colorscale": [
             [
              0,
              "#0d0887"
             ],
             [
              0.1111111111111111,
              "#46039f"
             ],
             [
              0.2222222222222222,
              "#7201a8"
             ],
             [
              0.3333333333333333,
              "#9c179e"
             ],
             [
              0.4444444444444444,
              "#bd3786"
             ],
             [
              0.5555555555555556,
              "#d8576b"
             ],
             [
              0.6666666666666666,
              "#ed7953"
             ],
             [
              0.7777777777777778,
              "#fb9f3a"
             ],
             [
              0.8888888888888888,
              "#fdca26"
             ],
             [
              1,
              "#f0f921"
             ]
            ],
            "type": "surface"
           }
          ],
          "table": [
           {
            "cells": {
             "fill": {
              "color": "#EBF0F8"
             },
             "line": {
              "color": "white"
             }
            },
            "header": {
             "fill": {
              "color": "#C8D4E3"
             },
             "line": {
              "color": "white"
             }
            },
            "type": "table"
           }
          ]
         },
         "layout": {
          "annotationdefaults": {
           "arrowcolor": "#2a3f5f",
           "arrowhead": 0,
           "arrowwidth": 1
          },
          "autotypenumbers": "strict",
          "coloraxis": {
           "colorbar": {
            "outlinewidth": 0,
            "ticks": ""
           }
          },
          "colorscale": {
           "diverging": [
            [
             0,
             "#8e0152"
            ],
            [
             0.1,
             "#c51b7d"
            ],
            [
             0.2,
             "#de77ae"
            ],
            [
             0.3,
             "#f1b6da"
            ],
            [
             0.4,
             "#fde0ef"
            ],
            [
             0.5,
             "#f7f7f7"
            ],
            [
             0.6,
             "#e6f5d0"
            ],
            [
             0.7,
             "#b8e186"
            ],
            [
             0.8,
             "#7fbc41"
            ],
            [
             0.9,
             "#4d9221"
            ],
            [
             1,
             "#276419"
            ]
           ],
           "sequential": [
            [
             0,
             "#0d0887"
            ],
            [
             0.1111111111111111,
             "#46039f"
            ],
            [
             0.2222222222222222,
             "#7201a8"
            ],
            [
             0.3333333333333333,
             "#9c179e"
            ],
            [
             0.4444444444444444,
             "#bd3786"
            ],
            [
             0.5555555555555556,
             "#d8576b"
            ],
            [
             0.6666666666666666,
             "#ed7953"
            ],
            [
             0.7777777777777778,
             "#fb9f3a"
            ],
            [
             0.8888888888888888,
             "#fdca26"
            ],
            [
             1,
             "#f0f921"
            ]
           ],
           "sequentialminus": [
            [
             0,
             "#0d0887"
            ],
            [
             0.1111111111111111,
             "#46039f"
            ],
            [
             0.2222222222222222,
             "#7201a8"
            ],
            [
             0.3333333333333333,
             "#9c179e"
            ],
            [
             0.4444444444444444,
             "#bd3786"
            ],
            [
             0.5555555555555556,
             "#d8576b"
            ],
            [
             0.6666666666666666,
             "#ed7953"
            ],
            [
             0.7777777777777778,
             "#fb9f3a"
            ],
            [
             0.8888888888888888,
             "#fdca26"
            ],
            [
             1,
             "#f0f921"
            ]
           ]
          },
          "colorway": [
           "#636efa",
           "#EF553B",
           "#00cc96",
           "#ab63fa",
           "#FFA15A",
           "#19d3f3",
           "#FF6692",
           "#B6E880",
           "#FF97FF",
           "#FECB52"
          ],
          "font": {
           "color": "#2a3f5f"
          },
          "geo": {
           "bgcolor": "white",
           "lakecolor": "white",
           "landcolor": "#E5ECF6",
           "showlakes": true,
           "showland": true,
           "subunitcolor": "white"
          },
          "hoverlabel": {
           "align": "left"
          },
          "hovermode": "closest",
          "mapbox": {
           "style": "light"
          },
          "paper_bgcolor": "white",
          "plot_bgcolor": "#E5ECF6",
          "polar": {
           "angularaxis": {
            "gridcolor": "white",
            "linecolor": "white",
            "ticks": ""
           },
           "bgcolor": "#E5ECF6",
           "radialaxis": {
            "gridcolor": "white",
            "linecolor": "white",
            "ticks": ""
           }
          },
          "scene": {
           "xaxis": {
            "backgroundcolor": "#E5ECF6",
            "gridcolor": "white",
            "gridwidth": 2,
            "linecolor": "white",
            "showbackground": true,
            "ticks": "",
            "zerolinecolor": "white"
           },
           "yaxis": {
            "backgroundcolor": "#E5ECF6",
            "gridcolor": "white",
            "gridwidth": 2,
            "linecolor": "white",
            "showbackground": true,
            "ticks": "",
            "zerolinecolor": "white"
           },
           "zaxis": {
            "backgroundcolor": "#E5ECF6",
            "gridcolor": "white",
            "gridwidth": 2,
            "linecolor": "white",
            "showbackground": true,
            "ticks": "",
            "zerolinecolor": "white"
           }
          },
          "shapedefaults": {
           "line": {
            "color": "#2a3f5f"
           }
          },
          "ternary": {
           "aaxis": {
            "gridcolor": "white",
            "linecolor": "white",
            "ticks": ""
           },
           "baxis": {
            "gridcolor": "white",
            "linecolor": "white",
            "ticks": ""
           },
           "bgcolor": "#E5ECF6",
           "caxis": {
            "gridcolor": "white",
            "linecolor": "white",
            "ticks": ""
           }
          },
          "title": {
           "x": 0.05
          },
          "xaxis": {
           "automargin": true,
           "gridcolor": "white",
           "linecolor": "white",
           "ticks": "",
           "title": {
            "standoff": 15
           },
           "zerolinecolor": "white",
           "zerolinewidth": 2
          },
          "yaxis": {
           "automargin": true,
           "gridcolor": "white",
           "linecolor": "white",
           "ticks": "",
           "title": {
            "standoff": 15
           },
           "zerolinecolor": "white",
           "zerolinewidth": 2
          }
         }
        },
        "title": {
         "text": "Relax: 3D t-SNE for K-means"
        }
       }
      }
     },
     "metadata": {},
     "output_type": "display_data"
    },
    {
     "data": {
      "image/png": "[encoded data removed]",
      "text/plain": [
       "<Figure size 1000x100 with 2 Axes>"
      ]
     },
     "metadata": {},
     "output_type": "display_data"
    },
    {
     "data": {
      "image/png": "[encoded data removed]",
      "text/plain": [
       "<Figure size 1000x100 with 2 Axes>"
      ]
     },
     "metadata": {},
     "output_type": "display_data"
    },
    {
     "data": {
      "image/png": "[encoded data removed]",
      "text/plain": [
       "<Figure size 1000x100 with 2 Axes>"
      ]
     },
     "metadata": {},
     "output_type": "display_data"
    }
   ],
   "source": [
    "# kmeans example for relax\n",
    "\n",
    "n_clusters = 3\n",
    "X = df_relax.values # change df_relax to df_open or df_close for other clustering analysis\n",
    "\n",
    "kmeans = KMeans(n_clusters=n_clusters,   \n",
    "                 init='k-means++', \n",
    "                 max_iter=300,\n",
    "                 n_init=10, \n",
    "                 tol=1e-4,    \n",
    "                 random_state=42,    \n",
    "                 algorithm='lloyd')\n",
    "df_relax['cluster'] = kmeans.fit_predict(X)\n",
    "kmeans.fit(X)\n",
    "\n",
    "labels = kmeans.predict(X)\n",
    "\n",
    "print(\"Cluster Centers:\\n\", kmeans.cluster_centers_)\n",
    "display(pd.DataFrame(df_relax.groupby('cluster').apply(lambda x: np.unique(x.index))))\n",
    "\n",
    "tsne_input = df_relax.iloc[:,:24].to_numpy()\n",
    "data_tsne = TSNE(n_components=3, learning_rate='auto', init='random', perplexity=3).fit_transform(tsne_input)\n",
    "data_tsne = pd.DataFrame(data_tsne, columns=['myx', 'myy', 'myz'])\n",
    "data_tsne['cluster_ids'] = df_relax['cluster'].to_numpy().astype(str)\n",
    "data_tsne['subject_ids'] = df_relax.index.to_numpy()\n",
    "\n",
    "unique_clusters = sorted(data_tsne['cluster_ids'].unique())\n",
    "# palette = px.colors.qualitative.Plotly \n",
    "color_map = {\n",
    "    \"0\": \"red\",   \n",
    "    \"1\": \"blue\",   \n",
    "    \"2\": \"green\",  \n",
    "    \"3\": \"purple\" \n",
    "}\n",
    "\n",
    "fig = px.scatter_3d(data_tsne,\n",
    "                    x='myx', y='myy', z='myz',\n",
    "                    color='cluster_ids',\n",
    "                    text='subject_ids',\n",
    "                    title='Relax: 3D t-SNE for K-means', \n",
    "                    color_discrete_map=color_map,\n",
    "                    category_orders={'cluster_ids': unique_clusters},\n",
    ")\n",
    "fig.update_layout(\n",
    "    legend=dict(\n",
    "        x=1.15,\n",
    "        y=0.5, \n",
    "        xanchor='left',\n",
    "        yanchor='middle' \n",
    "    )\n",
    ")\n",
    "\n",
    "fig.show()\n",
    "# fig.write_html('relax.html')\n",
    "\n",
    "for i in range(len(kmeans.cluster_centers_)):\n",
    "    cmap = LinearSegmentedColormap.from_list(\"white_to_color\", [\"white\", color_map[str(i)]])\n",
    "    cluster_center = kmeans.cluster_centers_[i]\n",
    "    plot_one_class_coactivation_map(cluster_center, title='Cluster ' + str(i), label='relax', cmap=cmap)"
   ]
  },
  {
   "cell_type": "markdown",
   "metadata": {},
   "source": [
    "### Getting the median healthy coactivation map"
   ]
  },
  {
   "cell_type": "code",
   "execution_count": 10,
   "metadata": {},
   "outputs": [
    {
     "name": "stdout",
     "output_type": "stream",
     "text": [
      "collected_data/2025_02_21\n",
      "yz_static_resting.csv\n",
      "om_wrist_movement_open.csv\n",
      "yz_wrist_movement_relax.csv\n",
      "mk_grasp_ball.csv\n",
      "yz_wrist_movement_open.csv\n",
      "om_arm_movement_relax.csv\n",
      "yz_arm_movement_close.csv\n",
      "om_static_reaching.csv\n",
      "om_static_unsupported.csv\n",
      "om_wrist_movement_close.csv\n",
      "mk_wrist_movement_open.csv\n",
      "om_grasp_soup.csv\n",
      "yz_grasp_soup.csv\n",
      "om_static_resting.csv\n",
      "mk_arm_movement_close.csv\n",
      "mk_static_resting.csv\n",
      "yz_arm_movement_open.csv\n",
      "mk_wrist_movement_relax.csv\n",
      "mk_arm_movement_relax.csv\n",
      "mk_static_unsupported.csv\n",
      "yz_static_reaching.csv\n",
      "om_static_hanging.csv\n",
      "yz_static_hanging.csv\n",
      "mk_wrist_movement_close.csv\n",
      "mk_static_reaching.csv\n",
      "mk_grasp_soup.csv\n",
      "mk_arm_movement_open.csv\n",
      "yz_wrist_movement_close.csv\n",
      "yz_arm_movement_relax.csv\n",
      "om_arm_movement_close.csv\n",
      "om_arm_movement_open.csv\n",
      "yz_static_unsupported.csv\n",
      "yz_grasp_ball.csv\n",
      "om_wrist_movement_relax.csv\n",
      "om_grasp_ball.csv\n",
      "mk_static_hanging.csv\n",
      "collected_data/2025_02_07_hand_labeled\n",
      "collected_data/2025_05_06\n",
      "Spring1_Manual_Calibration.csv\n",
      "Spring1_Manual_Trial2.csv\n",
      "Spring1_Manual_Trial1.csv\n",
      "collected_data/2025_05_01\n",
      "p1_passive_6_calibration.csv\n",
      "p1_passive_1_calibration.csv\n",
      "p1_active_1_calibration.csv\n",
      "p1_active_2.csv\n",
      "p1_active_1.csv\n",
      "p1_passive_4.csv\n",
      "p1_passive_2_calibration.csv\n",
      "p1_passive_5.csv\n",
      "p1_passive_6.csv\n",
      "p1_passive_2.csv\n",
      "p1_passive_3.csv\n",
      "p1_passive_1.csv\n",
      "p1_passive_5_calibration.csv\n",
      "p1_passive_4_calibration.csv\n",
      "p1_passive_3_calibration.csv\n",
      "p1_active_2_calibration.csv\n",
      "collected_data/2025_02_27\n",
      "co_arm_movement_relax.csv\n",
      "co_static_unsupported.csv\n",
      "co_grasp_ball.csv\n",
      "co_static_hanging.csv\n",
      "co_static_resting.csv\n",
      "co_arm_movement_open.csv\n",
      "co_arm_movement_close.csv\n",
      "co_static_reaching.csv\n",
      "co_grasp_soup.csv\n",
      "collected_data/2025_02_06_hand_labeled\n",
      "collected_data/2025_04_09\n",
      "dryrun_pull_futek.csv\n",
      "dryrun_laptop_calibration_2.csv\n",
      "dryrun_laptop_calibration.csv\n",
      "collected_data/2025_02_05\n",
      "ml_grasp_ball.csv\n",
      "es_arm_movement_relax.csv\n",
      "zc_grasp_soup.csv\n",
      "hl_arm_movement_relax.csv\n",
      "jh_static_reaching.csv\n",
      "es_static_unsupported.csv\n",
      "hl_static_unsupported.csv\n",
      "es_arm_movement_open.csv\n",
      "bg_arm_movement_close.csv\n",
      "hl_grasp_soup.csv\n",
      "jh_arm_movement_close.csv\n",
      "wn_arm_movement_close.csv\n",
      "zc_static_resting.csv\n",
      "zc_static_unsupported.csv\n",
      "zc_static_reaching.csv\n",
      "ml_arm_movement_open.csv\n",
      "zc_arm_movement_relax.csv\n",
      "hl_static_hanging.csv\n",
      "es_grasp_soup.csv\n",
      "zc_arm_movement_open.csv\n",
      "wn_static_resting.csv\n",
      "ml_arm_movement_close.csv\n",
      "bg_grasp_ball.csv\n",
      "es_static_reaching.csv\n",
      "jh_static_resting.csv\n",
      "jh_grasp_ball.csv\n",
      "ml_static_hanging.csv\n",
      "wn_grasp_ball.csv\n",
      "hl_arm_movement_open.csv\n",
      "es_static_hanging.csv\n",
      "jh_arm_movement_open.csv\n",
      "bg_static_hanging.csv\n",
      "hl_static_reaching.csv\n",
      "zc_static_hanging.csv\n",
      "bg_grasp_soup.csv\n",
      "wn_arm_movement_open.csv\n",
      "ml_static_reaching.csv\n",
      "ml_arm_movement_relax.csv\n",
      "es_grasp_ball.csv\n",
      "ml_static_unsupported.csv\n",
      ".~lock.hl_grasp_ball.csv#\n",
      "wn_grasp_soup.csv\n",
      "jh_grasp_soup.csv\n",
      "hl_arm_movement_close.csv\n",
      "es_arm_movement_close.csv\n",
      "ml_static_resting.csv\n",
      "bg_arm_movement_open.csv\n",
      "bg_static_resting.csv\n",
      "bg_static_reaching.csv\n",
      "es_static_resting.csv\n",
      "zc_grasp_ball.csv\n",
      "ml_grasp_soup.csv\n",
      "jh_static_unsupported.csv\n",
      "wn_static_unsupported.csv\n",
      "bg_arm_movement_relax.csv\n",
      "wn_arm_movement_relax.csv\n",
      "jh_arm_movement_relax.csv\n",
      "hl_static_resting.csv\n",
      "bg_static_unsupported.csv\n",
      "hl_grasp_ball.csv\n",
      "jh_static_hanging.csv\n",
      "wn_static_hanging.csv\n",
      "wn_static_reaching.csv\n",
      "zc_arm_movement_close.csv\n",
      "collected_data/2025_02_08_hand_labeled\n",
      "collected_data/2025_03_15\n",
      "jl_arm_movement_close.csv\n",
      "jl_arm_movement_open.csv\n",
      "jl_static_reaching.csv\n",
      "jl_wrist_movement_close.csv\n",
      "jl_grasp_ball.csv\n",
      ".~lock.jl_wrist_movement_open.csv#\n",
      "jl_static_hanging.csv\n",
      "cc_wrist_movement_close.csv\n",
      "cc_grasp_ball.csv\n",
      "cc_static_unsupported.csv\n",
      "cc_static_resting.csv\n",
      "cc_arm_movement_relax.csv\n",
      "cc_wrist_movement_relax.csv\n",
      "cc_static_reaching.csv\n",
      "cc_arm_movement_close.csv\n",
      "cc_wrist_movement_open.csv\n",
      "cc_grasp_soup.csv\n",
      "jl_static_unsupported.csv\n",
      "jl_wrist_movement_open.csv\n",
      "jl_arm_movement_relax.csv\n",
      "cc_static_hanging.csv\n",
      "cc_arm_movement_open.csv\n",
      "jl_grasp_soup.csv\n",
      "jl_static_resting.csv\n",
      "jl_wrist_movement_relax.csv\n",
      "collected_data/2025_03_12\n",
      "st_arm_movement_open.csv\n",
      "st_grasp_ball.csv\n",
      "st_static_unsupported.csv\n",
      "st_wrist_movement_close.csv\n",
      "st_arm_movement_relax.csv\n",
      "st_wrist_movement_open.csv\n",
      "st_static_resting.csv\n",
      "st_arm_movement_close.csv\n",
      "st_wrist_movement_relax.csv\n",
      "st_static_hanging.csv\n",
      "st_static_reaching.csv\n",
      "st_grasp_soup.csv\n",
      "collected_data/2025_03_13\n",
      "hz_static_resting.csv\n",
      "hh_arm_movement_relax.csv\n",
      "hh_static_unsupported.csv\n",
      "hh_arm_movement_open.csv\n",
      "hz_arm_movement_close.csv\n",
      "hh_wrist_movement_open.csv\n",
      "hh_static_resting.csv\n",
      "hz_wrist_movement_relax.csv\n",
      "hz_wrist_movement_open.csv\n",
      "hz_grasp_ball.csv\n",
      "hh_wrist_movement_close.csv\n",
      "hh_grasp_soup.csv\n",
      "hz_arm_movement_open.csv\n",
      "hz_wrist_movement_close.csv\n",
      "hz_static_hanging.csv\n",
      "hh_grasp_ball.csv\n",
      "hh_static_reaching.csv\n",
      "hz_grasp_soup.csv\n",
      "hh_wrist_movement_relax.csv\n",
      "hz_static_reaching.csv\n",
      "hh_static_hanging.csv\n",
      "hh_arm_movement_close.csv\n",
      "hz_arm_movement_relax.csv\n",
      "hz_static_unsupported.csv\n",
      "collected_data/2025_04_04\n",
      "futek_debuggin_2.csv\n",
      "futek_debugging_3.csv\n",
      "futek_debugging.csv\n",
      "futek_debugging_5.csv\n",
      "futek_debugging_4.csv\n",
      "collected_data/2025_02_09_hand_labeled\n",
      "collected_data/2025_04_10\n",
      "p3_calibration_passive_4_passive_5.csv\n",
      "p3_passive_6.csv\n",
      "p3_passive_5.csv\n",
      "p3_calibration_active_1_passive_3.csv\n",
      "p3_passive_4.csv\n",
      "p3_passive_1.csv\n",
      "p3_passive_3.csv\n",
      "p3_passive_2.csv\n",
      "p3_finetune_2.csv\n",
      "p3_active_2.csv\n",
      "p3_finetune_1.csv\n",
      "p3_active_1.csv\n",
      "p3_calibration_active_2.csv\n",
      "p3_calibration_passive_6.csv\n",
      "p3_calibration_passive_1.csv\n",
      "p3_calibration_passive_2.csv\n",
      "collected_data/2025_02_05_hand_labeled\n",
      "collected_data/2025_02_06\n",
      "pw_static_reaching.csv\n",
      "pw_static_unsupported.csv\n",
      "pw_grasp_soup.csv\n",
      "pw_arm_movement_relax.csv\n",
      "pw_static_resting.csv\n",
      "pw_arm_movement_open.csv\n",
      "pw_grasp_ball.csv\n",
      "pw_arm_movement_close.csv\n",
      "pw_static_hanging.csv\n",
      "collected_data/2025_02_08\n",
      "ww_wrist_movement_open.csv\n",
      "zw_static_resting.csv\n",
      "zw_wrist_movement_close.csv\n",
      "zw_static_reaching.csv\n",
      "ww_grasp_soup.csv\n",
      "zw_grasp_ball.csv\n",
      "zw_arm_movement_close.csv\n",
      "ww_arm_movement_relax.csv\n",
      "ww_static_unsupported.csv\n",
      "zw_wrist_movement_open.csv\n",
      "ww_static_resting.csv\n",
      "ww_wrist_movement_close.csv\n",
      "ww_arm_movement_close.csv\n",
      "zw_arm_movement_relax.csv\n",
      "zw_arm_movement_open.csv\n",
      "zw_static_unsupported.csv\n",
      "ww_arm_movement_open.csv\n",
      "ww_wrist_movement_relax.csv\n",
      "ww_static_reaching.csv\n",
      "zw_static_hanging.csv\n",
      "ww_static_hanging.csv\n",
      "zw_wrist_movement_relax.csv\n",
      "zw_grasp_soup.csv\n",
      "ww_grasp_ball.csv\n",
      "collected_data/2025_02_09\n",
      "xw_static_resting.csv\n",
      "xw_grasp_soup.csv\n",
      "xw_static_unsupported.csv\n",
      "xw_arm_movement_relax.csv\n",
      "xw_wrist_movement_close.csv\n",
      "xw_arm_movement_close.csv\n",
      "xw_wrist_movement_relax.csv\n",
      "xw_static_hanging.csv\n",
      "xw_static_reaching.csv\n",
      "xw_wrist_movement_open.csv\n",
      "xw_arm_movement_open.csv\n",
      "xw_grasp_ball.csv\n",
      "collected_data/2025_02_07\n",
      "jp_wrist_movement_close.csv\n",
      "ls_grasp_soup.csv\n",
      "si_arm_movement_close.csv\n",
      "jp_wrist_movement_open.csv\n",
      "jp_grasp_soup.csv\n",
      "jp_static_hanging.csv\n",
      "ls_static_hanging.csv\n",
      "ls_arm_movement_open.csv\n",
      "bw_grasp_soup.csv\n",
      "ls_arm_movement_close.csv\n",
      "jp_static_unsupported.csv\n",
      "ec_grasp_ball.csv\n",
      "jp_arm_movement_relax.csv\n",
      "si_grasp_soup.csv\n",
      "ec_static_resting.csv\n",
      "si_arm_movement_open.csv\n",
      "si_static_hanging.csv\n",
      "bw_static_resting.csv\n",
      "bw_arm_movement_open.csv\n",
      "bw_wrist_movement_open.csv\n",
      "jp_static_reaching.csv\n",
      "ec_static_reaching.csv\n",
      "ec_arm_movement_close.csv\n",
      "ls_wrist_movement_close.csv\n",
      "bw_wrist_movement_relax.csv\n",
      "bw_static_unsupported.csv\n",
      "bw_arm_movement_relax.csv\n",
      "ls_static_resting.csv\n",
      "jp_static_resting.csv\n",
      "ec_arm_movement_open.csv\n",
      "si_static_reaching.csv\n",
      "ec_static_unsupported.csv\n",
      "ec_arm_movement_relax.csv\n",
      "ls_static_reaching.csv\n",
      "bw_wrist_movement_close.csv\n",
      "ls_wrist_movement_relax.csv\n",
      "bw_arm_movement_close.csv\n",
      "ls_wrist_movement_open.csv\n",
      "jp_grasp_ball.csv\n",
      "jp_wrist_movement_relax.csv\n",
      "bw_static_reaching.csv\n",
      "si_arm_movement_relax.csv\n",
      "ls_grasp_ball.csv\n",
      "si_static_unsupported.csv\n",
      "si_static_resting.csv\n",
      "ls_static_unsupported.csv\n",
      "si_grasp_ball.csv\n",
      "ec_grasp_soup.csv\n",
      "bw_static_hanging.csv\n",
      "ec_static_hanging.csv\n",
      "ls_arm_movement_relax.csv\n",
      "jp_arm_movement_open.csv\n",
      "bw_grasp_ball.csv\n",
      "jp_arm_movement_close.csv\n"
     ]
    },
    {
     "data": {
      "text/html": [
       "<div>\n",
       "<style scoped>\n",
       "    .dataframe tbody tr th:only-of-type {\n",
       "        vertical-align: middle;\n",
       "    }\n",
       "\n",
       "    .dataframe tbody tr th {\n",
       "        vertical-align: top;\n",
       "    }\n",
       "\n",
       "    .dataframe thead th {\n",
       "        text-align: right;\n",
       "    }\n",
       "</style>\n",
       "<table border=\"1\" class=\"dataframe\">\n",
       "  <thead>\n",
       "    <tr style=\"text-align: right;\">\n",
       "      <th></th>\n",
       "      <th>folder</th>\n",
       "      <th>subject_id</th>\n",
       "      <th>hand</th>\n",
       "      <th>set_num</th>\n",
       "      <th>subset</th>\n",
       "      <th>is_patient</th>\n",
       "      <th>gt</th>\n",
       "      <th>window</th>\n",
       "      <th>emg0</th>\n",
       "      <th>emg1</th>\n",
       "      <th>emg2</th>\n",
       "      <th>emg3</th>\n",
       "      <th>emg4</th>\n",
       "      <th>emg5</th>\n",
       "      <th>emg6</th>\n",
       "      <th>emg7</th>\n",
       "    </tr>\n",
       "  </thead>\n",
       "  <tbody>\n",
       "    <tr>\n",
       "      <th>0</th>\n",
       "      <td>2025_02_21</td>\n",
       "      <td>yz</td>\n",
       "      <td>nan</td>\n",
       "      <td>static</td>\n",
       "      <td>static</td>\n",
       "      <td>False</td>\n",
       "      <td>0</td>\n",
       "      <td>0</td>\n",
       "      <td>0.007812</td>\n",
       "      <td>0.015625</td>\n",
       "      <td>0.015625</td>\n",
       "      <td>0.015625</td>\n",
       "      <td>0.007812</td>\n",
       "      <td>0.007812</td>\n",
       "      <td>0.007812</td>\n",
       "      <td>0.007812</td>\n",
       "    </tr>\n",
       "    <tr>\n",
       "      <th>1</th>\n",
       "      <td>2025_02_21</td>\n",
       "      <td>yz</td>\n",
       "      <td>nan</td>\n",
       "      <td>static</td>\n",
       "      <td>static</td>\n",
       "      <td>False</td>\n",
       "      <td>1</td>\n",
       "      <td>1</td>\n",
       "      <td>0.023438</td>\n",
       "      <td>0.062500</td>\n",
       "      <td>0.109375</td>\n",
       "      <td>0.031250</td>\n",
       "      <td>0.015625</td>\n",
       "      <td>0.023438</td>\n",
       "      <td>0.015625</td>\n",
       "      <td>0.015625</td>\n",
       "    </tr>\n",
       "    <tr>\n",
       "      <th>2</th>\n",
       "      <td>2025_02_21</td>\n",
       "      <td>yz</td>\n",
       "      <td>nan</td>\n",
       "      <td>static</td>\n",
       "      <td>static</td>\n",
       "      <td>False</td>\n",
       "      <td>2</td>\n",
       "      <td>2</td>\n",
       "      <td>0.093750</td>\n",
       "      <td>0.078125</td>\n",
       "      <td>0.070312</td>\n",
       "      <td>0.062500</td>\n",
       "      <td>0.015625</td>\n",
       "      <td>0.015625</td>\n",
       "      <td>0.023438</td>\n",
       "      <td>0.039062</td>\n",
       "    </tr>\n",
       "    <tr>\n",
       "      <th>3</th>\n",
       "      <td>2025_02_21</td>\n",
       "      <td>yz</td>\n",
       "      <td>nan</td>\n",
       "      <td>static</td>\n",
       "      <td>static</td>\n",
       "      <td>False</td>\n",
       "      <td>1</td>\n",
       "      <td>3</td>\n",
       "      <td>0.031250</td>\n",
       "      <td>0.062500</td>\n",
       "      <td>0.113281</td>\n",
       "      <td>0.039062</td>\n",
       "      <td>0.015625</td>\n",
       "      <td>0.023438</td>\n",
       "      <td>0.023438</td>\n",
       "      <td>0.023438</td>\n",
       "    </tr>\n",
       "    <tr>\n",
       "      <th>4</th>\n",
       "      <td>2025_02_21</td>\n",
       "      <td>yz</td>\n",
       "      <td>nan</td>\n",
       "      <td>static</td>\n",
       "      <td>static</td>\n",
       "      <td>False</td>\n",
       "      <td>0</td>\n",
       "      <td>4</td>\n",
       "      <td>0.015625</td>\n",
       "      <td>0.023438</td>\n",
       "      <td>0.023438</td>\n",
       "      <td>0.015625</td>\n",
       "      <td>0.007812</td>\n",
       "      <td>0.007812</td>\n",
       "      <td>0.007812</td>\n",
       "      <td>0.007812</td>\n",
       "    </tr>\n",
       "    <tr>\n",
       "      <th>...</th>\n",
       "      <td>...</td>\n",
       "      <td>...</td>\n",
       "      <td>...</td>\n",
       "      <td>...</td>\n",
       "      <td>...</td>\n",
       "      <td>...</td>\n",
       "      <td>...</td>\n",
       "      <td>...</td>\n",
       "      <td>...</td>\n",
       "      <td>...</td>\n",
       "      <td>...</td>\n",
       "      <td>...</td>\n",
       "      <td>...</td>\n",
       "      <td>...</td>\n",
       "      <td>...</td>\n",
       "      <td>...</td>\n",
       "    </tr>\n",
       "    <tr>\n",
       "      <th>1494</th>\n",
       "      <td>2025_02_07</td>\n",
       "      <td>bw</td>\n",
       "      <td>nan</td>\n",
       "      <td>grasp</td>\n",
       "      <td>grasp</td>\n",
       "      <td>False</td>\n",
       "      <td>0</td>\n",
       "      <td>4</td>\n",
       "      <td>0.031250</td>\n",
       "      <td>0.015625</td>\n",
       "      <td>0.023438</td>\n",
       "      <td>0.023438</td>\n",
       "      <td>0.015625</td>\n",
       "      <td>0.015625</td>\n",
       "      <td>0.015625</td>\n",
       "      <td>0.015625</td>\n",
       "    </tr>\n",
       "    <tr>\n",
       "      <th>1495</th>\n",
       "      <td>2025_02_07</td>\n",
       "      <td>bw</td>\n",
       "      <td>nan</td>\n",
       "      <td>grasp</td>\n",
       "      <td>grasp</td>\n",
       "      <td>False</td>\n",
       "      <td>2</td>\n",
       "      <td>5</td>\n",
       "      <td>0.218750</td>\n",
       "      <td>0.132812</td>\n",
       "      <td>0.164062</td>\n",
       "      <td>0.132812</td>\n",
       "      <td>0.046875</td>\n",
       "      <td>0.031250</td>\n",
       "      <td>0.039062</td>\n",
       "      <td>0.085938</td>\n",
       "    </tr>\n",
       "    <tr>\n",
       "      <th>1496</th>\n",
       "      <td>2025_02_07</td>\n",
       "      <td>bw</td>\n",
       "      <td>nan</td>\n",
       "      <td>grasp</td>\n",
       "      <td>grasp</td>\n",
       "      <td>False</td>\n",
       "      <td>0</td>\n",
       "      <td>6</td>\n",
       "      <td>0.039062</td>\n",
       "      <td>0.023438</td>\n",
       "      <td>0.046875</td>\n",
       "      <td>0.039062</td>\n",
       "      <td>0.015625</td>\n",
       "      <td>0.015625</td>\n",
       "      <td>0.015625</td>\n",
       "      <td>0.015625</td>\n",
       "    </tr>\n",
       "    <tr>\n",
       "      <th>1497</th>\n",
       "      <td>2025_02_07</td>\n",
       "      <td>jp</td>\n",
       "      <td>right</td>\n",
       "      <td>arm_movement</td>\n",
       "      <td>arm_movement</td>\n",
       "      <td>False</td>\n",
       "      <td>0</td>\n",
       "      <td>0</td>\n",
       "      <td>0.015625</td>\n",
       "      <td>0.015625</td>\n",
       "      <td>0.015625</td>\n",
       "      <td>0.015625</td>\n",
       "      <td>0.015625</td>\n",
       "      <td>0.015625</td>\n",
       "      <td>0.015625</td>\n",
       "      <td>0.015625</td>\n",
       "    </tr>\n",
       "    <tr>\n",
       "      <th>1498</th>\n",
       "      <td>2025_02_07</td>\n",
       "      <td>jp</td>\n",
       "      <td>right</td>\n",
       "      <td>arm_movement</td>\n",
       "      <td>arm_movement</td>\n",
       "      <td>False</td>\n",
       "      <td>2</td>\n",
       "      <td>1</td>\n",
       "      <td>0.101562</td>\n",
       "      <td>0.171875</td>\n",
       "      <td>0.257812</td>\n",
       "      <td>0.070312</td>\n",
       "      <td>0.031250</td>\n",
       "      <td>0.023438</td>\n",
       "      <td>0.031250</td>\n",
       "      <td>0.039062</td>\n",
       "    </tr>\n",
       "  </tbody>\n",
       "</table>\n",
       "<p>1499 rows × 16 columns</p>\n",
       "</div>"
      ],
      "text/plain": [
       "          folder subject_id   hand       set_num        subset  is_patient  \\\n",
       "0     2025_02_21         yz    nan        static        static       False   \n",
       "1     2025_02_21         yz    nan        static        static       False   \n",
       "2     2025_02_21         yz    nan        static        static       False   \n",
       "3     2025_02_21         yz    nan        static        static       False   \n",
       "4     2025_02_21         yz    nan        static        static       False   \n",
       "...          ...        ...    ...           ...           ...         ...   \n",
       "1494  2025_02_07         bw    nan         grasp         grasp       False   \n",
       "1495  2025_02_07         bw    nan         grasp         grasp       False   \n",
       "1496  2025_02_07         bw    nan         grasp         grasp       False   \n",
       "1497  2025_02_07         jp  right  arm_movement  arm_movement       False   \n",
       "1498  2025_02_07         jp  right  arm_movement  arm_movement       False   \n",
       "\n",
       "      gt  window      emg0      emg1      emg2      emg3      emg4      emg5  \\\n",
       "0      0       0  0.007812  0.015625  0.015625  0.015625  0.007812  0.007812   \n",
       "1      1       1  0.023438  0.062500  0.109375  0.031250  0.015625  0.023438   \n",
       "2      2       2  0.093750  0.078125  0.070312  0.062500  0.015625  0.015625   \n",
       "3      1       3  0.031250  0.062500  0.113281  0.039062  0.015625  0.023438   \n",
       "4      0       4  0.015625  0.023438  0.023438  0.015625  0.007812  0.007812   \n",
       "...   ..     ...       ...       ...       ...       ...       ...       ...   \n",
       "1494   0       4  0.031250  0.015625  0.023438  0.023438  0.015625  0.015625   \n",
       "1495   2       5  0.218750  0.132812  0.164062  0.132812  0.046875  0.031250   \n",
       "1496   0       6  0.039062  0.023438  0.046875  0.039062  0.015625  0.015625   \n",
       "1497   0       0  0.015625  0.015625  0.015625  0.015625  0.015625  0.015625   \n",
       "1498   2       1  0.101562  0.171875  0.257812  0.070312  0.031250  0.023438   \n",
       "\n",
       "          emg6      emg7  \n",
       "0     0.007812  0.007812  \n",
       "1     0.015625  0.015625  \n",
       "2     0.023438  0.039062  \n",
       "3     0.023438  0.023438  \n",
       "4     0.007812  0.007812  \n",
       "...        ...       ...  \n",
       "1494  0.015625  0.015625  \n",
       "1495  0.039062  0.085938  \n",
       "1496  0.015625  0.015625  \n",
       "1497  0.015625  0.015625  \n",
       "1498  0.031250  0.039062  \n",
       "\n",
       "[1499 rows x 16 columns]"
      ]
     },
     "metadata": {},
     "output_type": "display_data"
    }
   ],
   "source": [
    "# Creating dataset of coactivation maps grouped by ground truth (rest, relax, close) from all collected data\n",
    "dfgt = generate_coactivation_by_gt()\n",
    "display(dfgt)"
   ]
  },
  {
   "cell_type": "code",
   "execution_count": 11,
   "metadata": {},
   "outputs": [
    {
     "data": {
      "text/html": [
       "<div>\n",
       "<style scoped>\n",
       "    .dataframe tbody tr th:only-of-type {\n",
       "        vertical-align: middle;\n",
       "    }\n",
       "\n",
       "    .dataframe tbody tr th {\n",
       "        vertical-align: top;\n",
       "    }\n",
       "\n",
       "    .dataframe thead th {\n",
       "        text-align: right;\n",
       "    }\n",
       "</style>\n",
       "<table border=\"1\" class=\"dataframe\">\n",
       "  <thead>\n",
       "    <tr style=\"text-align: right;\">\n",
       "      <th></th>\n",
       "      <th>emg0</th>\n",
       "      <th>emg1</th>\n",
       "      <th>emg2</th>\n",
       "      <th>emg3</th>\n",
       "      <th>emg4</th>\n",
       "      <th>emg5</th>\n",
       "      <th>emg6</th>\n",
       "      <th>emg7</th>\n",
       "    </tr>\n",
       "    <tr>\n",
       "      <th>gt</th>\n",
       "      <th></th>\n",
       "      <th></th>\n",
       "      <th></th>\n",
       "      <th></th>\n",
       "      <th></th>\n",
       "      <th></th>\n",
       "      <th></th>\n",
       "      <th></th>\n",
       "    </tr>\n",
       "  </thead>\n",
       "  <tbody>\n",
       "    <tr>\n",
       "      <th>0</th>\n",
       "      <td>0.015625</td>\n",
       "      <td>0.015625</td>\n",
       "      <td>0.023438</td>\n",
       "      <td>0.015625</td>\n",
       "      <td>0.015625</td>\n",
       "      <td>0.007812</td>\n",
       "      <td>0.007812</td>\n",
       "      <td>0.007812</td>\n",
       "    </tr>\n",
       "    <tr>\n",
       "      <th>1</th>\n",
       "      <td>0.039062</td>\n",
       "      <td>0.046875</td>\n",
       "      <td>0.132812</td>\n",
       "      <td>0.093750</td>\n",
       "      <td>0.031250</td>\n",
       "      <td>0.023438</td>\n",
       "      <td>0.023438</td>\n",
       "      <td>0.031250</td>\n",
       "    </tr>\n",
       "    <tr>\n",
       "      <th>2</th>\n",
       "      <td>0.085938</td>\n",
       "      <td>0.085938</td>\n",
       "      <td>0.072266</td>\n",
       "      <td>0.085938</td>\n",
       "      <td>0.046875</td>\n",
       "      <td>0.023438</td>\n",
       "      <td>0.039062</td>\n",
       "      <td>0.046875</td>\n",
       "    </tr>\n",
       "  </tbody>\n",
       "</table>\n",
       "</div>"
      ],
      "text/plain": [
       "        emg0      emg1      emg2      emg3      emg4      emg5      emg6  \\\n",
       "gt                                                                         \n",
       "0   0.015625  0.015625  0.023438  0.015625  0.015625  0.007812  0.007812   \n",
       "1   0.039062  0.046875  0.132812  0.093750  0.031250  0.023438  0.023438   \n",
       "2   0.085938  0.085938  0.072266  0.085938  0.046875  0.023438  0.039062   \n",
       "\n",
       "        emg7  \n",
       "gt            \n",
       "0   0.007812  \n",
       "1   0.031250  \n",
       "2   0.046875  "
      ]
     },
     "execution_count": 11,
     "metadata": {},
     "output_type": "execute_result"
    }
   ],
   "source": [
    "cm_healthy = get_all_healthy_map(dfgt)\n",
    "cm_healthy"
   ]
  },
  {
   "cell_type": "code",
   "execution_count": 12,
   "metadata": {},
   "outputs": [
    {
     "data": {
      "image/png": "[encoded data removed]",
      "text/plain": [
       "<Figure size 1000x300 with 2 Axes>"
      ]
     },
     "metadata": {},
     "output_type": "display_data"
    }
   ],
   "source": [
    "plot_coactivation_map(cm_healthy, title='Healthy Average')"
   ]
  },
  {
   "cell_type": "markdown",
   "metadata": {},
   "source": [
    "### Similarity metric exploration: Comparing healthy average coactivation maps to each coactiavtion map in dataset"
   ]
  },
  {
   "cell_type": "code",
   "execution_count": 13,
   "metadata": {},
   "outputs": [
    {
     "name": "stderr",
     "output_type": "stream",
     "text": [
      "/Users/elise/Desktop/myhand-coactivation/myhand-coactivation/coactivation/similarity.py:26: RuntimeWarning:\n",
      "\n",
      "invalid value encountered in scalar divide\n",
      "\n",
      "/Users/elise/Desktop/myhand-coactivation/myhand-coactivation/coactivation/similarity.py:26: RuntimeWarning:\n",
      "\n",
      "invalid value encountered in scalar divide\n",
      "\n"
     ]
    },
    {
     "data": {
      "text/html": [
       "<div>\n",
       "<style scoped>\n",
       "    .dataframe tbody tr th:only-of-type {\n",
       "        vertical-align: middle;\n",
       "    }\n",
       "\n",
       "    .dataframe tbody tr th {\n",
       "        vertical-align: top;\n",
       "    }\n",
       "\n",
       "    .dataframe thead th {\n",
       "        text-align: right;\n",
       "    }\n",
       "</style>\n",
       "<table border=\"1\" class=\"dataframe\">\n",
       "  <thead>\n",
       "    <tr style=\"text-align: right;\">\n",
       "      <th></th>\n",
       "      <th>gt0emg0</th>\n",
       "      <th>gt0emg1</th>\n",
       "      <th>gt0emg2</th>\n",
       "      <th>gt0emg3</th>\n",
       "      <th>gt0emg4</th>\n",
       "      <th>gt0emg5</th>\n",
       "      <th>gt0emg6</th>\n",
       "      <th>gt0emg7</th>\n",
       "      <th>gt1emg0</th>\n",
       "      <th>gt1emg1</th>\n",
       "      <th>...</th>\n",
       "      <th>folder</th>\n",
       "      <th>subject_id</th>\n",
       "      <th>hand</th>\n",
       "      <th>set_num</th>\n",
       "      <th>subset</th>\n",
       "      <th>is_patient</th>\n",
       "      <th>ruzicka</th>\n",
       "      <th>g</th>\n",
       "      <th>mi</th>\n",
       "      <th>gmi</th>\n",
       "    </tr>\n",
       "  </thead>\n",
       "  <tbody>\n",
       "    <tr>\n",
       "      <th>0</th>\n",
       "      <td>0.015625</td>\n",
       "      <td>0.023438</td>\n",
       "      <td>0.015625</td>\n",
       "      <td>0.015625</td>\n",
       "      <td>0.007812</td>\n",
       "      <td>0.007812</td>\n",
       "      <td>0.007812</td>\n",
       "      <td>0.007812</td>\n",
       "      <td>0.023438</td>\n",
       "      <td>0.054688</td>\n",
       "      <td>...</td>\n",
       "      <td>2025_02_21</td>\n",
       "      <td>yz</td>\n",
       "      <td>nan</td>\n",
       "      <td>static</td>\n",
       "      <td>resting</td>\n",
       "      <td>False</td>\n",
       "      <td>2.170629</td>\n",
       "      <td>0.090495</td>\n",
       "      <td>1.572306</td>\n",
       "      <td>0.177659</td>\n",
       "    </tr>\n",
       "    <tr>\n",
       "      <th>0</th>\n",
       "      <td>0.015625</td>\n",
       "      <td>0.039062</td>\n",
       "      <td>0.062500</td>\n",
       "      <td>0.117188</td>\n",
       "      <td>0.023438</td>\n",
       "      <td>0.015625</td>\n",
       "      <td>0.023438</td>\n",
       "      <td>0.015625</td>\n",
       "      <td>0.085938</td>\n",
       "      <td>0.054688</td>\n",
       "      <td>...</td>\n",
       "      <td>2025_02_21</td>\n",
       "      <td>om</td>\n",
       "      <td>nan</td>\n",
       "      <td>static</td>\n",
       "      <td>reaching</td>\n",
       "      <td>False</td>\n",
       "      <td>1.927449</td>\n",
       "      <td>0.131510</td>\n",
       "      <td>1.738972</td>\n",
       "      <td>0.279867</td>\n",
       "    </tr>\n",
       "    <tr>\n",
       "      <th>0</th>\n",
       "      <td>0.015625</td>\n",
       "      <td>0.031250</td>\n",
       "      <td>0.054688</td>\n",
       "      <td>0.117188</td>\n",
       "      <td>0.031250</td>\n",
       "      <td>0.015625</td>\n",
       "      <td>0.015625</td>\n",
       "      <td>0.007812</td>\n",
       "      <td>0.062500</td>\n",
       "      <td>0.054688</td>\n",
       "      <td>...</td>\n",
       "      <td>2025_02_21</td>\n",
       "      <td>om</td>\n",
       "      <td>nan</td>\n",
       "      <td>static</td>\n",
       "      <td>unsupported</td>\n",
       "      <td>False</td>\n",
       "      <td>1.823240</td>\n",
       "      <td>0.134115</td>\n",
       "      <td>1.822306</td>\n",
       "      <td>0.284584</td>\n",
       "    </tr>\n",
       "    <tr>\n",
       "      <th>0</th>\n",
       "      <td>0.015625</td>\n",
       "      <td>0.101562</td>\n",
       "      <td>0.140625</td>\n",
       "      <td>0.054688</td>\n",
       "      <td>0.015625</td>\n",
       "      <td>0.023438</td>\n",
       "      <td>0.078125</td>\n",
       "      <td>0.046875</td>\n",
       "      <td>0.085938</td>\n",
       "      <td>0.156250</td>\n",
       "      <td>...</td>\n",
       "      <td>2025_02_21</td>\n",
       "      <td>om</td>\n",
       "      <td>nan</td>\n",
       "      <td>static</td>\n",
       "      <td>resting</td>\n",
       "      <td>False</td>\n",
       "      <td>2.095759</td>\n",
       "      <td>0.128906</td>\n",
       "      <td>1.937093</td>\n",
       "      <td>0.276452</td>\n",
       "    </tr>\n",
       "    <tr>\n",
       "      <th>0</th>\n",
       "      <td>0.007812</td>\n",
       "      <td>0.007812</td>\n",
       "      <td>0.015625</td>\n",
       "      <td>0.007812</td>\n",
       "      <td>0.007812</td>\n",
       "      <td>0.007812</td>\n",
       "      <td>0.007812</td>\n",
       "      <td>0.007812</td>\n",
       "      <td>0.046875</td>\n",
       "      <td>0.046875</td>\n",
       "      <td>...</td>\n",
       "      <td>2025_02_21</td>\n",
       "      <td>mk</td>\n",
       "      <td>nan</td>\n",
       "      <td>static</td>\n",
       "      <td>resting</td>\n",
       "      <td>False</td>\n",
       "      <td>2.171888</td>\n",
       "      <td>0.106120</td>\n",
       "      <td>1.284948</td>\n",
       "      <td>0.169904</td>\n",
       "    </tr>\n",
       "    <tr>\n",
       "      <th>...</th>\n",
       "      <td>...</td>\n",
       "      <td>...</td>\n",
       "      <td>...</td>\n",
       "      <td>...</td>\n",
       "      <td>...</td>\n",
       "      <td>...</td>\n",
       "      <td>...</td>\n",
       "      <td>...</td>\n",
       "      <td>...</td>\n",
       "      <td>...</td>\n",
       "      <td>...</td>\n",
       "      <td>...</td>\n",
       "      <td>...</td>\n",
       "      <td>...</td>\n",
       "      <td>...</td>\n",
       "      <td>...</td>\n",
       "      <td>...</td>\n",
       "      <td>...</td>\n",
       "      <td>...</td>\n",
       "      <td>...</td>\n",
       "      <td>...</td>\n",
       "    </tr>\n",
       "    <tr>\n",
       "      <th>0</th>\n",
       "      <td>0.007812</td>\n",
       "      <td>0.007812</td>\n",
       "      <td>0.007812</td>\n",
       "      <td>0.015625</td>\n",
       "      <td>0.023438</td>\n",
       "      <td>0.015625</td>\n",
       "      <td>0.007812</td>\n",
       "      <td>0.007812</td>\n",
       "      <td>0.007812</td>\n",
       "      <td>0.023438</td>\n",
       "      <td>...</td>\n",
       "      <td>2025_02_07</td>\n",
       "      <td>si</td>\n",
       "      <td>left</td>\n",
       "      <td>static</td>\n",
       "      <td>unsupported</td>\n",
       "      <td>False</td>\n",
       "      <td>2.008678</td>\n",
       "      <td>0.061849</td>\n",
       "      <td>0.870024</td>\n",
       "      <td>0.083799</td>\n",
       "    </tr>\n",
       "    <tr>\n",
       "      <th>0</th>\n",
       "      <td>0.007812</td>\n",
       "      <td>0.007812</td>\n",
       "      <td>0.015625</td>\n",
       "      <td>0.015625</td>\n",
       "      <td>0.007812</td>\n",
       "      <td>0.007812</td>\n",
       "      <td>0.007812</td>\n",
       "      <td>0.007812</td>\n",
       "      <td>0.015625</td>\n",
       "      <td>0.023438</td>\n",
       "      <td>...</td>\n",
       "      <td>2025_02_07</td>\n",
       "      <td>si</td>\n",
       "      <td>left</td>\n",
       "      <td>static</td>\n",
       "      <td>resting</td>\n",
       "      <td>False</td>\n",
       "      <td>2.242717</td>\n",
       "      <td>0.062500</td>\n",
       "      <td>0.957519</td>\n",
       "      <td>0.097691</td>\n",
       "    </tr>\n",
       "    <tr>\n",
       "      <th>0</th>\n",
       "      <td>0.007812</td>\n",
       "      <td>0.007812</td>\n",
       "      <td>0.015625</td>\n",
       "      <td>0.023438</td>\n",
       "      <td>0.023438</td>\n",
       "      <td>0.015625</td>\n",
       "      <td>0.007812</td>\n",
       "      <td>0.007812</td>\n",
       "      <td>0.007812</td>\n",
       "      <td>0.031250</td>\n",
       "      <td>...</td>\n",
       "      <td>2025_02_07</td>\n",
       "      <td>ls</td>\n",
       "      <td>nan</td>\n",
       "      <td>static</td>\n",
       "      <td>unsupported</td>\n",
       "      <td>False</td>\n",
       "      <td>2.036772</td>\n",
       "      <td>0.074870</td>\n",
       "      <td>1.155639</td>\n",
       "      <td>0.103450</td>\n",
       "    </tr>\n",
       "    <tr>\n",
       "      <th>0</th>\n",
       "      <td>0.023438</td>\n",
       "      <td>0.031250</td>\n",
       "      <td>0.031250</td>\n",
       "      <td>0.023438</td>\n",
       "      <td>0.023438</td>\n",
       "      <td>0.007812</td>\n",
       "      <td>0.015625</td>\n",
       "      <td>0.015625</td>\n",
       "      <td>0.054688</td>\n",
       "      <td>0.070312</td>\n",
       "      <td>...</td>\n",
       "      <td>2025_02_07</td>\n",
       "      <td>bw</td>\n",
       "      <td>nan</td>\n",
       "      <td>static</td>\n",
       "      <td>hanging</td>\n",
       "      <td>False</td>\n",
       "      <td>2.317628</td>\n",
       "      <td>0.121745</td>\n",
       "      <td>1.770426</td>\n",
       "      <td>0.251252</td>\n",
       "    </tr>\n",
       "    <tr>\n",
       "      <th>0</th>\n",
       "      <td>0.007812</td>\n",
       "      <td>0.007812</td>\n",
       "      <td>0.015625</td>\n",
       "      <td>0.007812</td>\n",
       "      <td>0.007812</td>\n",
       "      <td>0.007812</td>\n",
       "      <td>0.007812</td>\n",
       "      <td>0.007812</td>\n",
       "      <td>0.085938</td>\n",
       "      <td>0.109375</td>\n",
       "      <td>...</td>\n",
       "      <td>2025_02_07</td>\n",
       "      <td>ec</td>\n",
       "      <td>right</td>\n",
       "      <td>static</td>\n",
       "      <td>hanging</td>\n",
       "      <td>False</td>\n",
       "      <td>2.197889</td>\n",
       "      <td>0.128906</td>\n",
       "      <td>1.733068</td>\n",
       "      <td>0.294589</td>\n",
       "    </tr>\n",
       "  </tbody>\n",
       "</table>\n",
       "<p>114 rows × 34 columns</p>\n",
       "</div>"
      ],
      "text/plain": [
       "     gt0emg0   gt0emg1   gt0emg2   gt0emg3   gt0emg4   gt0emg5   gt0emg6  \\\n",
       "0   0.015625  0.023438  0.015625  0.015625  0.007812  0.007812  0.007812   \n",
       "0   0.015625  0.039062  0.062500  0.117188  0.023438  0.015625  0.023438   \n",
       "0   0.015625  0.031250  0.054688  0.117188  0.031250  0.015625  0.015625   \n",
       "0   0.015625  0.101562  0.140625  0.054688  0.015625  0.023438  0.078125   \n",
       "0   0.007812  0.007812  0.015625  0.007812  0.007812  0.007812  0.007812   \n",
       "..       ...       ...       ...       ...       ...       ...       ...   \n",
       "0   0.007812  0.007812  0.007812  0.015625  0.023438  0.015625  0.007812   \n",
       "0   0.007812  0.007812  0.015625  0.015625  0.007812  0.007812  0.007812   \n",
       "0   0.007812  0.007812  0.015625  0.023438  0.023438  0.015625  0.007812   \n",
       "0   0.023438  0.031250  0.031250  0.023438  0.023438  0.007812  0.015625   \n",
       "0   0.007812  0.007812  0.015625  0.007812  0.007812  0.007812  0.007812   \n",
       "\n",
       "     gt0emg7   gt1emg0   gt1emg1  ...      folder  subject_id   hand  set_num  \\\n",
       "0   0.007812  0.023438  0.054688  ...  2025_02_21          yz    nan   static   \n",
       "0   0.015625  0.085938  0.054688  ...  2025_02_21          om    nan   static   \n",
       "0   0.007812  0.062500  0.054688  ...  2025_02_21          om    nan   static   \n",
       "0   0.046875  0.085938  0.156250  ...  2025_02_21          om    nan   static   \n",
       "0   0.007812  0.046875  0.046875  ...  2025_02_21          mk    nan   static   \n",
       "..       ...       ...       ...  ...         ...         ...    ...      ...   \n",
       "0   0.007812  0.007812  0.023438  ...  2025_02_07          si   left   static   \n",
       "0   0.007812  0.015625  0.023438  ...  2025_02_07          si   left   static   \n",
       "0   0.007812  0.007812  0.031250  ...  2025_02_07          ls    nan   static   \n",
       "0   0.015625  0.054688  0.070312  ...  2025_02_07          bw    nan   static   \n",
       "0   0.007812  0.085938  0.109375  ...  2025_02_07          ec  right   static   \n",
       "\n",
       "         subset  is_patient   ruzicka         g        mi       gmi  \n",
       "0       resting       False  2.170629  0.090495  1.572306  0.177659  \n",
       "0      reaching       False  1.927449  0.131510  1.738972  0.279867  \n",
       "0   unsupported       False  1.823240  0.134115  1.822306  0.284584  \n",
       "0       resting       False  2.095759  0.128906  1.937093  0.276452  \n",
       "0       resting       False  2.171888  0.106120  1.284948  0.169904  \n",
       "..          ...         ...       ...       ...       ...       ...  \n",
       "0   unsupported       False  2.008678  0.061849  0.870024  0.083799  \n",
       "0       resting       False  2.242717  0.062500  0.957519  0.097691  \n",
       "0   unsupported       False  2.036772  0.074870  1.155639  0.103450  \n",
       "0       hanging       False  2.317628  0.121745  1.770426  0.251252  \n",
       "0       hanging       False  2.197889  0.128906  1.733068  0.294589  \n",
       "\n",
       "[114 rows x 34 columns]"
      ]
     },
     "execution_count": 13,
     "metadata": {},
     "output_type": "execute_result"
    }
   ],
   "source": [
    "for metric in ['ruzicka', 'g', 'mi', 'gmi']:\n",
    "    df[metric] = df.iloc[:, :24].apply(lambda x: apply_similarity_metric(x, cm_healthy, metric), axis=1) \n",
    "df"
   ]
  },
  {
   "cell_type": "markdown",
   "metadata": {},
   "source": [
    "### Other visualizing functions that were not used in demo"
   ]
  },
  {
   "cell_type": "markdown",
   "metadata": {},
   "source": [
    "#### `plot_coactivation_map_with_histograms`"
   ]
  },
  {
   "cell_type": "code",
   "execution_count": 14,
   "metadata": {},
   "outputs": [
    {
     "data": {
      "image/png": "[encoded data removed]",
      "text/plain": [
       "<Figure size 1200x400 with 26 Axes>"
      ]
     },
     "metadata": {},
     "output_type": "display_data"
    }
   ],
   "source": [
    "df_left_mirrored = mirror_emg(df)\n",
    "\n",
    "plot_coactivation_map_with_histograms(df_left_mirrored.iloc[:,:24].values.reshape(len(df_left_mirrored),3,8), cm_healthy.values.reshape(3,8), title='Deviation of Healthy from Healthy Center')"
   ]
  },
  {
   "cell_type": "markdown",
   "metadata": {},
   "source": [
    "#### `visualize_stratified_median_emgs`"
   ]
  },
  {
   "cell_type": "code",
   "execution_count": 15,
   "metadata": {},
   "outputs": [
    {
     "data": {
      "image/png": "[encoded data removed]",
      "text/plain": [
       "<Figure size 1200x800 with 2 Axes>"
      ]
     },
     "metadata": {},
     "output_type": "display_data"
    }
   ],
   "source": [
    "visualize_stratified_median_emgs('collected_data/2025_02_07/ec_static_resting.csv')"
   ]
  }
 ],
 "metadata": {
  "kernelspec": {
   "display_name": "base",
   "language": "python",
   "name": "python3"
  },
  "language_info": {
   "codemirror_mode": {
    "name": "ipython",
    "version": 3
   },
   "file_extension": ".py",
   "mimetype": "text/x-python",
   "name": "python",
   "nbconvert_exporter": "python",
   "pygments_lexer": "ipython3",
   "version": "3.12.5"
  },
  "orig_nbformat": 4
 },
 "nbformat": 4,
 "nbformat_minor": 2
}
